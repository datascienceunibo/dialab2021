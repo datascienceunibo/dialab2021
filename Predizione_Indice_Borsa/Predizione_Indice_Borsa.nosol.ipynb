{
 "cells": [
  {
   "cell_type": "markdown",
   "metadata": {
    "slideshow": {
     "slide_type": "slide"
    }
   },
   "source": [
    "# Laboratorio: Predizione di un Indice di Borsa\n",
    "\n",
    "**Programmazione di Applicazioni Data Intensive**  \n",
    "Laurea in Ingegneria e Scienze Informatiche  \n",
    "DISI - Università di Bologna, Cesena\n",
    "\n",
    "Proff. Gianluca Moro, Roberto Pasolini  \n",
    "`nome.cognome@unibo.it`"
   ]
  },
  {
   "cell_type": "markdown",
   "metadata": {
    "slideshow": {
     "slide_type": "slide"
    }
   },
   "source": [
    "## Setup\n",
    "\n",
    "- Importare le librerie necessarie"
   ]
  },
  {
   "cell_type": "code",
   "execution_count": 1,
   "metadata": {},
   "outputs": [],
   "source": [
    "import numpy as np\n",
    "import pandas as pd\n",
    "import matplotlib.pyplot as plt\n",
    "import sklearn\n",
    "%matplotlib inline"
   ]
  },
  {
   "cell_type": "markdown",
   "metadata": {
    "slideshow": {
     "slide_type": "slide"
    }
   },
   "source": [
    "## Predizione di un indice di borsa\n",
    "\n",
    "- Un _indice_ in borsa è la sintesi del valore di diversi titoli azionari (_componenti_)\n",
    "  - il valore dell'indice è una media (di solito ponderata) dei valori dei singoli titoli\n",
    "- In questa esercitazione consideriamo l'indice _Standard & Poor 500_ (S&P 500), che ha per componenti [circa 500 grandi aziende degli USA](https://en.wikipedia.org/wiki/List_of_S%26P_500_companies)\n",
    "  - incluse ad es. Alphabet (Google), Facebook, Apple, ...\n",
    "- L'obiettivo è generare modelli in grado di prevedere le variazioni dell'indice S&P 500, in modo da massimizzare il guadagno ottenuto investendo in un fondo che si basi su tale indice"
   ]
  },
  {
   "cell_type": "markdown",
   "metadata": {
    "slideshow": {
     "slide_type": "slide"
    }
   },
   "source": [
    "## Estrazione dati\n",
    "\n",
    "- I dati storici sull'andamento di S&P 500 e altri indici e titoli di borsa sono disponibili su diversi siti specializzati, ad es. [Yahoo! Finance](https://finance.yahoo.com/)\n",
    "- Dal sito è possibile interattivamente ricercare titoli e indici e consultarne i dati attuali e storici, scaricandoli eventualmente in formato CSV\n",
    "- È però spesso possibile estrarre i dati forniti anche tramite codice, effettuando opportune operazioni per importarli in strutture dati appropriate\n",
    "- Esistono alcune librerie che forniscono funzioni di alto livello per importare dati da Yahoo! Finance e altri fonti simili\n",
    "  - queste librerie gestiscono automaticamente il reperimento dei dati dagli URL corretti ed il loro parsing"
   ]
  },
  {
   "cell_type": "markdown",
   "metadata": {
    "slideshow": {
     "slide_type": "slide"
    }
   },
   "source": [
    "### yfinance\n",
    "\n",
    "- [yfinance](https://pypi.org/project/yfinance/) è una libreria per l'estrazione di dati da Yahoo! Finance in forma di oggetti Python facilmente interrogabili\n",
    "- In particolare, la usiamo per ottenere i dati storici di titoli e indici in forma di DataFrame pandas\n",
    "- Eseguire la seguente cella di codice per installare yfinance (e il package lxml necessario) nell'ambiente virtuale in uso\n",
    "  - _nel caso di problemi con la libreria, i dati necessari per l'esercitazione sono disponibili anche in un file indicato sotto_"
   ]
  },
  {
   "cell_type": "code",
   "execution_count": 2,
   "metadata": {},
   "outputs": [
    {
     "name": "stdout",
     "output_type": "stream",
     "text": [
      "Requirement already satisfied: yfinance in /home/rrobby/.venvs/dia2020/lib/python3.7/site-packages (0.1.54)\n",
      "Requirement already satisfied: lxml in /home/rrobby/.venvs/dia2020/lib/python3.7/site-packages (4.5.0)\n",
      "Requirement already satisfied: pandas>=0.24 in /home/rrobby/.venvs/dia2020/lib/python3.7/site-packages (from yfinance) (0.25.1)\n",
      "Requirement already satisfied: numpy>=1.15 in /home/rrobby/.venvs/dia2020/lib/python3.7/site-packages (from yfinance) (1.16.5)\n",
      "Requirement already satisfied: requests>=2.20 in /home/rrobby/.venvs/dia2020/lib/python3.7/site-packages (from yfinance) (2.23.0)\n",
      "Requirement already satisfied: multitasking>=0.0.7 in /home/rrobby/.venvs/dia2020/lib/python3.7/site-packages (from yfinance) (0.0.9)\n",
      "Requirement already satisfied: python-dateutil>=2.6.1 in /home/rrobby/.venvs/dia2020/lib/python3.7/site-packages (from pandas>=0.24->yfinance) (2.8.1)\n",
      "Requirement already satisfied: pytz>=2017.2 in /home/rrobby/.venvs/dia2020/lib/python3.7/site-packages (from pandas>=0.24->yfinance) (2019.3)\n",
      "Requirement already satisfied: certifi>=2017.4.17 in /home/rrobby/.venvs/dia2020/lib/python3.7/site-packages (from requests>=2.20->yfinance) (2020.4.5.1)\n",
      "Requirement already satisfied: chardet<4,>=3.0.2 in /home/rrobby/.venvs/dia2020/lib/python3.7/site-packages (from requests>=2.20->yfinance) (3.0.4)\n",
      "Requirement already satisfied: urllib3!=1.25.0,!=1.25.1,<1.26,>=1.21.1 in /home/rrobby/.venvs/dia2020/lib/python3.7/site-packages (from requests>=2.20->yfinance) (1.25.9)\n",
      "Requirement already satisfied: idna<3,>=2.5 in /home/rrobby/.venvs/dia2020/lib/python3.7/site-packages (from requests>=2.20->yfinance) (2.9)\n",
      "Requirement already satisfied: six>=1.5 in /home/rrobby/.venvs/dia2020/lib/python3.7/site-packages (from python-dateutil>=2.6.1->pandas>=0.24->yfinance) (1.14.0)\n",
      "\u001b[33mWARNING: You are using pip version 20.1.1; however, version 21.1.1 is available.\n",
      "You should consider upgrading via the '/home/rrobby/.venvs/dia2020/bin/python -m pip install --upgrade pip' command.\u001b[0m\n",
      "Note: you may need to restart the kernel to use updated packages.\n"
     ]
    }
   ],
   "source": [
    "pip install yfinance lxml"
   ]
  },
  {
   "cell_type": "markdown",
   "metadata": {
    "slideshow": {
     "slide_type": "slide"
    }
   },
   "source": [
    "- Importare il modulo `yfinance`, verificandone così la corretta installazione"
   ]
  },
  {
   "cell_type": "code",
   "execution_count": 3,
   "metadata": {},
   "outputs": [],
   "source": [
    "import yfinance"
   ]
  },
  {
   "cell_type": "markdown",
   "metadata": {},
   "source": [
    "- Per usare il modulo creiamo un oggetto `Ticker`, che rappresenta uno specifico titolo o indice\n",
    "- Dobbiamo indicare il _simbolo_ del titolo o indice con cui vogliamo lavorare, che per S&P 500 è `^GSPC`"
   ]
  },
  {
   "cell_type": "code",
   "execution_count": 4,
   "metadata": {},
   "outputs": [],
   "source": [
    "sp500 = yfinance.Ticker(\"^GSPC\")"
   ]
  },
  {
   "cell_type": "markdown",
   "metadata": {},
   "source": [
    "- Altri simboli di indici noti includono:\n",
    "  - `^DJI`: Dow Jones Industrial Average\n",
    "  - `^IXIC`: NASDAQ\n",
    "  - `FTSEMIB.MI`: MIB (borsa di Milano)"
   ]
  },
  {
   "cell_type": "markdown",
   "metadata": {
    "slideshow": {
     "slide_type": "slide"
    }
   },
   "source": [
    "- Da un `Ticker` possiamo usare il metodo `history` per ottenere un frame con i dati storici in un periodo specificato\n",
    "  - con `start` e `end` specifichiamo l'intervallo di date desiderato\n",
    "  - `actions=False` esclude alcune colonne con dati non disponibili per l'indice\n",
    "- Scarichiamo i dati relativi agli anni dal 2001 al 2008"
   ]
  },
  {
   "cell_type": "code",
   "execution_count": 5,
   "metadata": {},
   "outputs": [],
   "source": [
    "data = sp500.history(start=\"2001-01-01\", end=\"2008-12-31\", actions=False)"
   ]
  },
  {
   "cell_type": "markdown",
   "metadata": {},
   "source": [
    "- _In caso di problemi con yfinance, decommentare ed eseguire la seguente cella per importare gli stessi dati da un file già scaricato da noi_"
   ]
  },
  {
   "cell_type": "code",
   "execution_count": 6,
   "metadata": {},
   "outputs": [],
   "source": [
    "data = pd.read_csv(\"https://git.io/Jfq8p\", index_col=\"Date\", parse_dates=[\"Date\"])"
   ]
  },
  {
   "cell_type": "code",
   "execution_count": 7,
   "metadata": {
    "slideshow": {
     "slide_type": "slide"
    }
   },
   "outputs": [
    {
     "data": {
      "text/html": [
       "<div>\n",
       "<style scoped>\n",
       "    .dataframe tbody tr th:only-of-type {\n",
       "        vertical-align: middle;\n",
       "    }\n",
       "\n",
       "    .dataframe tbody tr th {\n",
       "        vertical-align: top;\n",
       "    }\n",
       "\n",
       "    .dataframe thead th {\n",
       "        text-align: right;\n",
       "    }\n",
       "</style>\n",
       "<table border=\"1\" class=\"dataframe\">\n",
       "  <thead>\n",
       "    <tr style=\"text-align: right;\">\n",
       "      <th></th>\n",
       "      <th>Open</th>\n",
       "      <th>High</th>\n",
       "      <th>Low</th>\n",
       "      <th>Close</th>\n",
       "      <th>Volume</th>\n",
       "    </tr>\n",
       "    <tr>\n",
       "      <th>Date</th>\n",
       "      <th></th>\n",
       "      <th></th>\n",
       "      <th></th>\n",
       "      <th></th>\n",
       "      <th></th>\n",
       "    </tr>\n",
       "  </thead>\n",
       "  <tbody>\n",
       "    <tr>\n",
       "      <td>2001-01-02</td>\n",
       "      <td>1320.28</td>\n",
       "      <td>1320.28</td>\n",
       "      <td>1276.05</td>\n",
       "      <td>1283.27</td>\n",
       "      <td>1129400000</td>\n",
       "    </tr>\n",
       "    <tr>\n",
       "      <td>2001-01-03</td>\n",
       "      <td>1283.27</td>\n",
       "      <td>1347.76</td>\n",
       "      <td>1274.62</td>\n",
       "      <td>1347.56</td>\n",
       "      <td>1880700000</td>\n",
       "    </tr>\n",
       "    <tr>\n",
       "      <td>2001-01-04</td>\n",
       "      <td>1347.56</td>\n",
       "      <td>1350.24</td>\n",
       "      <td>1329.14</td>\n",
       "      <td>1333.34</td>\n",
       "      <td>2131000000</td>\n",
       "    </tr>\n",
       "    <tr>\n",
       "      <td>2001-01-05</td>\n",
       "      <td>1333.34</td>\n",
       "      <td>1334.77</td>\n",
       "      <td>1294.95</td>\n",
       "      <td>1298.35</td>\n",
       "      <td>1430800000</td>\n",
       "    </tr>\n",
       "    <tr>\n",
       "      <td>2001-01-08</td>\n",
       "      <td>1298.35</td>\n",
       "      <td>1298.35</td>\n",
       "      <td>1276.29</td>\n",
       "      <td>1295.86</td>\n",
       "      <td>1115500000</td>\n",
       "    </tr>\n",
       "  </tbody>\n",
       "</table>\n",
       "</div>"
      ],
      "text/plain": [
       "               Open     High      Low    Close      Volume\n",
       "Date                                                      \n",
       "2001-01-02  1320.28  1320.28  1276.05  1283.27  1129400000\n",
       "2001-01-03  1283.27  1347.76  1274.62  1347.56  1880700000\n",
       "2001-01-04  1347.56  1350.24  1329.14  1333.34  2131000000\n",
       "2001-01-05  1333.34  1334.77  1294.95  1298.35  1430800000\n",
       "2001-01-08  1298.35  1298.35  1276.29  1295.86  1115500000"
      ]
     },
     "execution_count": 7,
     "metadata": {},
     "output_type": "execute_result"
    }
   ],
   "source": [
    "data.head()"
   ]
  },
  {
   "cell_type": "markdown",
   "metadata": {},
   "source": [
    "- Ciascuna riga corrisponde ad una data, indicata nell'indice `Date`\n",
    "  - non sono presenti le righe relative a giorni di chiusura del mercato\n",
    "- `Open` e `Close` riportano per ogni data il valore dell'indice all'apertura e alla chiusura del mercato\n",
    "- `High` e `Low` riportano i massimi e minimi giornalieri\n",
    "- `Volume` è il numero di titoli scambiati in giornata"
   ]
  },
  {
   "cell_type": "markdown",
   "metadata": {
    "slideshow": {
     "slide_type": "slide"
    }
   },
   "source": [
    "- Per comodità, estraiamo una serie per ciascuna colonna, per potersi riferire ad esse con un unico nome\n",
    "  - notare che la serie `open` sovrascrive la funzione `open` di Python, quest'ultima rimane accessibile come `__builtins__.open`"
   ]
  },
  {
   "cell_type": "code",
   "execution_count": 8,
   "metadata": {},
   "outputs": [],
   "source": [
    "open = data[\"Open\"]\n",
    "high = data[\"High\"]\n",
    "low = data[\"Low\"]\n",
    "close = data[\"Close\"]\n",
    "volume = data[\"Volume\"]"
   ]
  },
  {
   "cell_type": "markdown",
   "metadata": {
    "slideshow": {
     "slide_type": "slide"
    }
   },
   "source": [
    "- Possiamo tracciare un grafico dell'andamento del titolo\n",
    "  - prendiamo come riferimento ad es. il valore dell'apertura"
   ]
  },
  {
   "cell_type": "code",
   "execution_count": 9,
   "metadata": {},
   "outputs": [
    {
     "data": {
      "image/png": "[encoded data removed]",
      "text/plain": [
       "<Figure size 864x288 with 1 Axes>"
      ]
     },
     "metadata": {
      "needs_background": "light"
     },
     "output_type": "display_data"
    }
   ],
   "source": [
    "open.plot(figsize=(12, 4));"
   ]
  },
  {
   "cell_type": "markdown",
   "metadata": {},
   "source": [
    "- Esistono altri tipi di grafici appositi per mostrare l'andamento di titoli di borsa, ad es. i _candlestick chart_ (\"grafici a candela\")\n",
    "  - per disegnarli si veda la libreria `mplfinance`, estensione di matplotlib"
   ]
  },
  {
   "cell_type": "markdown",
   "metadata": {
    "slideshow": {
     "slide_type": "slide"
    }
   },
   "source": [
    "## Esercizio 1: Analisi esplorativa\n",
    "\n",
    "- **(1a)** Estrarre le statistiche principali (media, dev. standard, ...) delle varie colonne (Open, Close, ...)\n",
    "- **(1b)** Ottenere una serie `hlm` col valore medio tra il massimo e il minimo giornalieri\n",
    "- **(1c)** Estrarre le statistiche principali di tale serie\n",
    "- **(1d)** Estrarre le statistiche principali di `hlm` suddivise per anno"
   ]
  },
  {
   "cell_type": "markdown",
   "metadata": {
    "slideshow": {
     "slide_type": "slide"
    }
   },
   "source": [
    "## Obiettivo: prevedere il valore di chiusura a inizio giornata\n",
    "\n",
    "- Assumiamo che un agente investa quotidianamente sull'indice S&P 500\n",
    "- Vuole un modello che **preveda all'inizio di ogni giornata** `d` il valore `close[d]` dell'indice **a fine giornata**\n",
    "- La variabile `close` è quindi quella da prevedere, la _y_"
   ]
  },
  {
   "cell_type": "code",
   "execution_count": 15,
   "metadata": {},
   "outputs": [],
   "source": [
    "y = close"
   ]
  },
  {
   "cell_type": "markdown",
   "metadata": {},
   "source": [
    "- Ma quali sono le variabili predittive, le _X_?\n",
    "- `high`, `low` e `volume` **non possono essere utilizzate** in quanto il loro valore **non è noto** a inizio giornata\n",
    "- Solamente il valore `open[d]` è noto al momento della predizione"
   ]
  },
  {
   "cell_type": "markdown",
   "metadata": {
    "slideshow": {
     "slide_type": "slide"
    }
   },
   "source": [
    "- Iniziamo creando un modello di predizione solamente sulla variabile `open`\n",
    "- Creiamo un dizionario `features` con le variabili predittive, in questo caso solamente il valore di `open`"
   ]
  },
  {
   "cell_type": "code",
   "execution_count": 16,
   "metadata": {},
   "outputs": [],
   "source": [
    "features = {\"Open\": open}"
   ]
  },
  {
   "cell_type": "markdown",
   "metadata": {},
   "source": [
    "- Incapsuliamo le variabili in un `DataFrame`"
   ]
  },
  {
   "cell_type": "code",
   "execution_count": 17,
   "metadata": {},
   "outputs": [],
   "source": [
    "X = pd.DataFrame(features)"
   ]
  },
  {
   "cell_type": "code",
   "execution_count": 18,
   "metadata": {},
   "outputs": [
    {
     "data": {
      "text/html": [
       "<div>\n",
       "<style scoped>\n",
       "    .dataframe tbody tr th:only-of-type {\n",
       "        vertical-align: middle;\n",
       "    }\n",
       "\n",
       "    .dataframe tbody tr th {\n",
       "        vertical-align: top;\n",
       "    }\n",
       "\n",
       "    .dataframe thead th {\n",
       "        text-align: right;\n",
       "    }\n",
       "</style>\n",
       "<table border=\"1\" class=\"dataframe\">\n",
       "  <thead>\n",
       "    <tr style=\"text-align: right;\">\n",
       "      <th></th>\n",
       "      <th>Open</th>\n",
       "    </tr>\n",
       "    <tr>\n",
       "      <th>Date</th>\n",
       "      <th></th>\n",
       "    </tr>\n",
       "  </thead>\n",
       "  <tbody>\n",
       "    <tr>\n",
       "      <td>2001-01-02</td>\n",
       "      <td>1320.28</td>\n",
       "    </tr>\n",
       "    <tr>\n",
       "      <td>2001-01-03</td>\n",
       "      <td>1283.27</td>\n",
       "    </tr>\n",
       "    <tr>\n",
       "      <td>2001-01-04</td>\n",
       "      <td>1347.56</td>\n",
       "    </tr>\n",
       "  </tbody>\n",
       "</table>\n",
       "</div>"
      ],
      "text/plain": [
       "               Open\n",
       "Date               \n",
       "2001-01-02  1320.28\n",
       "2001-01-03  1283.27\n",
       "2001-01-04  1347.56"
      ]
     },
     "execution_count": 18,
     "metadata": {},
     "output_type": "execute_result"
    }
   ],
   "source": [
    "X.head(3)"
   ]
  },
  {
   "cell_type": "markdown",
   "metadata": {},
   "source": [
    "## Esercizio 2: Suddivisione dati\n",
    "\n",
    "- Effettuiamo una prima suddivisione dei dati in training e validation set\n",
    "- Avendo una serie temporale, è comune utilizzare come training i dati fino ad una data specifica e come validation quelli successivi\n",
    "- **(2a)** Definire una funzione `split_before_2005` che, dati `X` e `y`, restituisca in una tupla con 4 elementi\n",
    "  - un training set `X_train` e `y_train` con i dati fino al 2004\n",
    "  - un validation set `X_val` e `y_val` con i dati dal 2005 in poi\n",
    "- **(2b)** Utilizzare tale funzione per suddividere i dati `X` e `y` definiti sopra"
   ]
  },
  {
   "cell_type": "code",
   "execution_count": 20,
   "metadata": {},
   "outputs": [],
   "source": [
    "def split_before_2005(X, y):\n",
    "    ...\n",
    "    X_train = ...\n",
    "    y_train = ...\n",
    "    X_val = ...\n",
    "    y_val = ...\n",
    "    return X_train, X_val, y_train, y_val"
   ]
  },
  {
   "cell_type": "markdown",
   "metadata": {
    "slideshow": {
     "slide_type": "slide"
    }
   },
   "source": [
    "## Esercizio 3: Addestramento e validazione modelli\n",
    "\n",
    "Usando training e validation set creati sopra, addestrare ciascuno dei seguenti modelli ed ottenerne il coefficiente R²\n",
    "- **(3a)** regressione lineare semplice\n",
    "- **(3b)** regressione polinomiale di grado 10 con regolarizzazione L2 ($\\alpha=1$)\n",
    "- **(3c)** regressione polinomiale di grado 3 con standardizzazione delle feature"
   ]
  },
  {
   "cell_type": "code",
   "execution_count": 23,
   "metadata": {},
   "outputs": [],
   "source": [
    "# import necessari\n",
    "from sklearn.linear_model import LinearRegression, Ridge\n",
    "from sklearn.preprocessing import PolynomialFeatures, StandardScaler\n",
    "from sklearn.pipeline import Pipeline"
   ]
  },
  {
   "cell_type": "markdown",
   "metadata": {
    "slideshow": {
     "slide_type": "slide"
    }
   },
   "source": [
    "## Simulazione di trading\n",
    "\n",
    "- I punteggi R² dei modelli (anche i più semplici) risultano molto alti\n",
    "- Questo è dovuto al fatto che i valori di `open` e `close` sono generalmente molto correlati\n",
    "- Tuttavia, questo non indica quanto il modello sia in grado di cogliere le piccole variazioni giornaliere tra i due\n",
    "- Queste variazioni sono determinanti nel guidare un investitore\n",
    "- Per avere un'idea dell'utilità effettiva del modello, calcoliamo il **guadagno effettivo** che avrebbe un investitore utilizzando il modello"
   ]
  },
  {
   "cell_type": "markdown",
   "metadata": {
    "slideshow": {
     "slide_type": "slide"
    }
   },
   "source": [
    "### Protocollo di trading\n",
    "\n",
    "Assumiamo un investitore che\n",
    "- all'inizio di ogni giornata $d$ confronta il valore di apertura noto $O_d$ col valore di chiusura predetto dal modello $\\hat{C}_d$\n",
    "- se è previsto un rialzo ($\\hat{C}_d > O_d$), compra un titolo e lo rivende a fine giornata, con un guadagno di $C_d-O_d$\n",
    "- se è previsto un ribasso ($\\hat{C}_d < O_d$) vende (allo scoperto) un titolo e lo ricompra a fine giornata, con un guadagno di $O_d-C_d$ (l'opposto del primo caso)\n",
    "\n",
    "Possiamo definire una metrica \"guadagno\" per validare il modello, che restituisca il guadagno totale di un investitore che opera nel periodo a cui si riferisce il validation set"
   ]
  },
  {
   "cell_type": "markdown",
   "metadata": {
    "slideshow": {
     "slide_type": "slide"
    }
   },
   "source": [
    "## Esercizio 4: Implementazione protocollo di trading\n",
    "\n",
    "Completare l'implementazione di `gain` in modo che, date le serie di valori di chiusura reali `C` e predetti `C_pred`, restituisca il guadagno di un investitore secondo le specifiche sopra\n",
    "- la serie di valori di apertura `O` è ricavata dalla serie completa `open` usando `reindex_like` per selezionare esattamente le date di `C`\n",
    "- definire la serie `CO_diff` come la differenza $C_d-O_d$\n",
    "- definire le serie booleane `growth` e `decline` che indicano in quali giorni viene *previsto* un rialzo o un ribasso del valore\n",
    "- restituire la somma dei guadagni ottenuti da acquisto+vendita nei giorni `growth` e vendita+acquisto nei giorni `decline`"
   ]
  },
  {
   "cell_type": "code",
   "execution_count": 29,
   "metadata": {},
   "outputs": [],
   "source": [
    "def gain(C, C_pred):\n",
    "    O = open.reindex_like(C)\n",
    "    CO_diff = ...\n",
    "    growth = ...\n",
    "    decline = ...\n",
    "    return ..."
   ]
  },
  {
   "cell_type": "markdown",
   "metadata": {
    "slideshow": {
     "slide_type": "slide"
    }
   },
   "source": [
    "## Calcolo del ROI\n",
    "\n",
    "- Il ROI (_Return on Investment_) esprime il guadagno di una o più operazioni in borsa in rapporto all'investimento iniziale\n",
    "- La cifra investita in questo caso è pari al valore d'apertura del titolo che varia giornalmente\n",
    "- Per stimare il ROI usiamo la media di tale valore nel periodo di investimento\n",
    "- Definiamo una nuova metrica `roi`, che riusa il guadagno `gain` definito sopra e lo rapporta all'investimento medio"
   ]
  },
  {
   "cell_type": "code",
   "execution_count": 31,
   "metadata": {},
   "outputs": [],
   "source": [
    "def roi(C, C_pred):\n",
    "    mean_open = open.reindex_like(C).mean()\n",
    "    return gain(C, C_pred) / mean_open"
   ]
  },
  {
   "cell_type": "markdown",
   "metadata": {
    "slideshow": {
     "slide_type": "slide"
    }
   },
   "source": [
    "- Definiamo una funzione `print_eval` per stampare le metriche di valutazione del modello\n",
    "  - come le altre volte, dato il validation set e un modello da validare, si ottengono le predizioni e le si usano per calcolare le metriche\n",
    "  - questa volta però mostriamo guadagno e ROI al posto delle metriche ordinarie"
   ]
  },
  {
   "cell_type": "code",
   "execution_count": 32,
   "metadata": {},
   "outputs": [],
   "source": [
    "def print_eval(X, y, model):\n",
    "    preds = model.predict(X)\n",
    "    print(\"Gain: {:.2f}$\".format(gain(y, preds)))\n",
    "    print(\" ROI: {:.3%}\".format(roi(y, preds)))"
   ]
  },
  {
   "cell_type": "markdown",
   "metadata": {
    "slideshow": {
     "slide_type": "slide"
    }
   },
   "source": [
    "## Esercizio 5: Valutazione guadagno e ROI su modello\n",
    "\n",
    "- Valutare guadagno e ROI su un modello di regressione lineare semplice\n",
    "- Si dovrebbe ottenere un ROI basso, intorno al 5\\%"
   ]
  },
  {
   "cell_type": "markdown",
   "metadata": {
    "slideshow": {
     "slide_type": "slide"
    }
   },
   "source": [
    "## Introduzione di nuove feature\n",
    "\n",
    "- Abbiamo addestrato un modello a prevedere il valore giornaliero di chiusura $C_d$ a partire da quello di apertura corrispondente $O_d$\n",
    "- Abbiamo però visto con la stima di guadagno e ROI che tale modello non è efficace\n",
    "- Per ottenere predizioni più affidabili per ciascuna giornata $d$, possiamo però integrare **informazioni note dai giorni precedenti** a $d$\n",
    "- Vediamo come aggiungere tali informazioni in **nuove variabili** su cui basare le predizioni"
   ]
  },
  {
   "cell_type": "markdown",
   "metadata": {
    "slideshow": {
     "slide_type": "slide"
    }
   },
   "source": [
    "- Le serie forniscono il metodo `shift`, con cui è possibile ottenerne i **valori slittati in avanti** di un numero di posizioni dato\n",
    "- Data ad esempio la serie `open`..."
   ]
  },
  {
   "cell_type": "code",
   "execution_count": 35,
   "metadata": {},
   "outputs": [
    {
     "data": {
      "text/plain": [
       "Date\n",
       "2001-01-02    1320.28\n",
       "2001-01-03    1283.27\n",
       "2001-01-04    1347.56\n",
       "2001-01-05    1333.34\n",
       "Name: Open, dtype: float64"
      ]
     },
     "execution_count": 35,
     "metadata": {},
     "output_type": "execute_result"
    }
   ],
   "source": [
    "open   .head(4)"
   ]
  },
  {
   "cell_type": "markdown",
   "metadata": {},
   "source": [
    "- ...con `shift(2)` otteniamo gli stessi dati slittati in avanti di 2 giorni"
   ]
  },
  {
   "cell_type": "code",
   "execution_count": 36,
   "metadata": {},
   "outputs": [
    {
     "data": {
      "text/plain": [
       "Date\n",
       "2001-01-02        NaN\n",
       "2001-01-03        NaN\n",
       "2001-01-04    1320.28\n",
       "2001-01-05    1283.27\n",
       "Name: Open, dtype: float64"
      ]
     },
     "execution_count": 36,
     "metadata": {},
     "output_type": "execute_result"
    }
   ],
   "source": [
    "open.shift(2)   .head(4)"
   ]
  },
  {
   "cell_type": "markdown",
   "metadata": {},
   "source": [
    "- Nei primi 2 giorni sono inseriti valori NaN, non essendo noti i valori dei giorni precedenti"
   ]
  },
  {
   "cell_type": "markdown",
   "metadata": {
    "slideshow": {
     "slide_type": "slide"
    }
   },
   "source": [
    "- Possiamo usare `shift` per generare le variabili che si riferiscono ai dati dei giorni precedenti\n",
    "- Definiamo ad esempio un nuovo insieme di feature dove, al valore di apertura del giorno corrente $O_d$, aggiungiamo quelli dei due giorni precedenti $O_{d-1}$ e $O_{d-2}$"
   ]
  },
  {
   "cell_type": "code",
   "execution_count": 37,
   "metadata": {},
   "outputs": [],
   "source": [
    "features = {\n",
    "    \"Open\": open,\n",
    "    \"OpenLag1\": open.shift(1),\n",
    "    \"OpenLag2\": open.shift(2),\n",
    "}"
   ]
  },
  {
   "cell_type": "markdown",
   "metadata": {},
   "source": [
    "- Come sopra, creiamo un frame con i dati derivanti da tali feature"
   ]
  },
  {
   "cell_type": "code",
   "execution_count": 38,
   "metadata": {},
   "outputs": [],
   "source": [
    "X = pd.DataFrame(features)"
   ]
  },
  {
   "cell_type": "code",
   "execution_count": 39,
   "metadata": {
    "slideshow": {
     "slide_type": "slide"
    }
   },
   "outputs": [
    {
     "data": {
      "text/html": [
       "<div>\n",
       "<style scoped>\n",
       "    .dataframe tbody tr th:only-of-type {\n",
       "        vertical-align: middle;\n",
       "    }\n",
       "\n",
       "    .dataframe tbody tr th {\n",
       "        vertical-align: top;\n",
       "    }\n",
       "\n",
       "    .dataframe thead th {\n",
       "        text-align: right;\n",
       "    }\n",
       "</style>\n",
       "<table border=\"1\" class=\"dataframe\">\n",
       "  <thead>\n",
       "    <tr style=\"text-align: right;\">\n",
       "      <th></th>\n",
       "      <th>Open</th>\n",
       "      <th>OpenLag1</th>\n",
       "      <th>OpenLag2</th>\n",
       "    </tr>\n",
       "    <tr>\n",
       "      <th>Date</th>\n",
       "      <th></th>\n",
       "      <th></th>\n",
       "      <th></th>\n",
       "    </tr>\n",
       "  </thead>\n",
       "  <tbody>\n",
       "    <tr>\n",
       "      <td>2001-01-02</td>\n",
       "      <td>1320.28</td>\n",
       "      <td>NaN</td>\n",
       "      <td>NaN</td>\n",
       "    </tr>\n",
       "    <tr>\n",
       "      <td>2001-01-03</td>\n",
       "      <td>1283.27</td>\n",
       "      <td>1320.28</td>\n",
       "      <td>NaN</td>\n",
       "    </tr>\n",
       "    <tr>\n",
       "      <td>2001-01-04</td>\n",
       "      <td>1347.56</td>\n",
       "      <td>1283.27</td>\n",
       "      <td>1320.28</td>\n",
       "    </tr>\n",
       "    <tr>\n",
       "      <td>2001-01-05</td>\n",
       "      <td>1333.34</td>\n",
       "      <td>1347.56</td>\n",
       "      <td>1283.27</td>\n",
       "    </tr>\n",
       "    <tr>\n",
       "      <td>2001-01-08</td>\n",
       "      <td>1298.35</td>\n",
       "      <td>1333.34</td>\n",
       "      <td>1347.56</td>\n",
       "    </tr>\n",
       "  </tbody>\n",
       "</table>\n",
       "</div>"
      ],
      "text/plain": [
       "               Open  OpenLag1  OpenLag2\n",
       "Date                                   \n",
       "2001-01-02  1320.28       NaN       NaN\n",
       "2001-01-03  1283.27   1320.28       NaN\n",
       "2001-01-04  1347.56   1283.27   1320.28\n",
       "2001-01-05  1333.34   1347.56   1283.27\n",
       "2001-01-08  1298.35   1333.34   1347.56"
      ]
     },
     "execution_count": 39,
     "metadata": {},
     "output_type": "execute_result"
    }
   ],
   "source": [
    "X.head(5)"
   ]
  },
  {
   "cell_type": "markdown",
   "metadata": {},
   "source": [
    "- Otteniamo così un frame con tre variabili invece di una\n",
    "- Nelle prime righe abbiamo però dei valori mancanti\n",
    "- Utilizziamo il metodo `dropna` per eliminare tutte le righe con uno o più valori mancanti\n",
    "  - `inplace=True` indica di modificare `X` invece di restituire un frame nuovo"
   ]
  },
  {
   "cell_type": "code",
   "execution_count": 40,
   "metadata": {},
   "outputs": [],
   "source": [
    "X.dropna(inplace=True)"
   ]
  },
  {
   "cell_type": "code",
   "execution_count": 41,
   "metadata": {
    "slideshow": {
     "slide_type": "slide"
    }
   },
   "outputs": [
    {
     "data": {
      "text/html": [
       "<div>\n",
       "<style scoped>\n",
       "    .dataframe tbody tr th:only-of-type {\n",
       "        vertical-align: middle;\n",
       "    }\n",
       "\n",
       "    .dataframe tbody tr th {\n",
       "        vertical-align: top;\n",
       "    }\n",
       "\n",
       "    .dataframe thead th {\n",
       "        text-align: right;\n",
       "    }\n",
       "</style>\n",
       "<table border=\"1\" class=\"dataframe\">\n",
       "  <thead>\n",
       "    <tr style=\"text-align: right;\">\n",
       "      <th></th>\n",
       "      <th>Open</th>\n",
       "      <th>OpenLag1</th>\n",
       "      <th>OpenLag2</th>\n",
       "    </tr>\n",
       "    <tr>\n",
       "      <th>Date</th>\n",
       "      <th></th>\n",
       "      <th></th>\n",
       "      <th></th>\n",
       "    </tr>\n",
       "  </thead>\n",
       "  <tbody>\n",
       "    <tr>\n",
       "      <td>2001-01-04</td>\n",
       "      <td>1347.56</td>\n",
       "      <td>1283.27</td>\n",
       "      <td>1320.28</td>\n",
       "    </tr>\n",
       "    <tr>\n",
       "      <td>2001-01-05</td>\n",
       "      <td>1333.34</td>\n",
       "      <td>1347.56</td>\n",
       "      <td>1283.27</td>\n",
       "    </tr>\n",
       "    <tr>\n",
       "      <td>2001-01-08</td>\n",
       "      <td>1298.35</td>\n",
       "      <td>1333.34</td>\n",
       "      <td>1347.56</td>\n",
       "    </tr>\n",
       "    <tr>\n",
       "      <td>2001-01-09</td>\n",
       "      <td>1295.86</td>\n",
       "      <td>1298.35</td>\n",
       "      <td>1333.34</td>\n",
       "    </tr>\n",
       "    <tr>\n",
       "      <td>2001-01-10</td>\n",
       "      <td>1300.80</td>\n",
       "      <td>1295.86</td>\n",
       "      <td>1298.35</td>\n",
       "    </tr>\n",
       "  </tbody>\n",
       "</table>\n",
       "</div>"
      ],
      "text/plain": [
       "               Open  OpenLag1  OpenLag2\n",
       "Date                                   \n",
       "2001-01-04  1347.56   1283.27   1320.28\n",
       "2001-01-05  1333.34   1347.56   1283.27\n",
       "2001-01-08  1298.35   1333.34   1347.56\n",
       "2001-01-09  1295.86   1298.35   1333.34\n",
       "2001-01-10  1300.80   1295.86   1298.35"
      ]
     },
     "execution_count": 41,
     "metadata": {},
     "output_type": "execute_result"
    }
   ],
   "source": [
    "X.head(5)"
   ]
  },
  {
   "cell_type": "markdown",
   "metadata": {},
   "source": [
    "- Ora tutte le righe di `X` sono utilizzabili per addestrare e validare il modello\n",
    "- Avendo filtrato le righe di `X` dobbiamo filtrare allo stesso modo anche `y`: utilizziamo `reindex_like` per selezionare le stesse etichette (ovvero le date) nella serie `close`"
   ]
  },
  {
   "cell_type": "code",
   "execution_count": 42,
   "metadata": {},
   "outputs": [],
   "source": [
    "y = close.reindex_like(X)"
   ]
  },
  {
   "cell_type": "code",
   "execution_count": 43,
   "metadata": {
    "slideshow": {
     "slide_type": "slide"
    }
   },
   "outputs": [
    {
     "data": {
      "text/plain": [
       "Date\n",
       "2001-01-04    1333.34\n",
       "2001-01-05    1298.35\n",
       "2001-01-08    1295.86\n",
       "2001-01-09    1300.80\n",
       "2001-01-10    1313.27\n",
       "Name: Close, dtype: float64"
      ]
     },
     "execution_count": 43,
     "metadata": {},
     "output_type": "execute_result"
    }
   ],
   "source": [
    "y.head(5)"
   ]
  },
  {
   "cell_type": "markdown",
   "metadata": {},
   "source": [
    "- Riutilizziamo `split_before_2005` su `X` e `y` aggiornati per ottenere i training e validation set aggiornati"
   ]
  },
  {
   "cell_type": "code",
   "execution_count": 44,
   "metadata": {},
   "outputs": [],
   "source": [
    "X_train, X_val, y_train, y_val = split_before_2005(X, y)"
   ]
  },
  {
   "cell_type": "markdown",
   "metadata": {
    "slideshow": {
     "slide_type": "slide"
    }
   },
   "source": [
    "## Esercizio 6: Funzione per la generazione di training e validation set\n",
    "\n",
    "- Creare una funzione `prepare_data` che automatizzi i passaggi sopra\n",
    "  - accettare in input un dizionario di variabili predittive `features` (simile a quello sopra) e una variabile da predire `target`\n",
    "  - creare il frame `X` con le variabili predittive rimuovendo le righe con valori mancanti\n",
    "  - creare la serie `y` con i valori della variabile da predire corrispondenti alle righe selezionate di `X`\n",
    "  - restituire `X` e `y`"
   ]
  },
  {
   "cell_type": "code",
   "execution_count": 46,
   "metadata": {},
   "outputs": [],
   "source": [
    "def prepare_data(features, target):\n",
    "    ..."
   ]
  },
  {
   "cell_type": "markdown",
   "metadata": {
    "slideshow": {
     "slide_type": "slide"
    }
   },
   "source": [
    "## Modello sulle differenze\n",
    "\n",
    "- Con l'aggiunta delle feature, la rendita del modello aumenta ma è ancora scarsa"
   ]
  },
  {
   "cell_type": "code",
   "execution_count": 48,
   "metadata": {},
   "outputs": [
    {
     "name": "stdout",
     "output_type": "stream",
     "text": [
      "Gain: 107.00$\n",
      " ROI: 8.205%\n"
     ]
    }
   ],
   "source": [
    "model = LinearRegression()\n",
    "model.fit(X_train, y_train)\n",
    "print_eval(X_val, y_val, model)"
   ]
  },
  {
   "cell_type": "markdown",
   "metadata": {
    "slideshow": {
     "slide_type": "slide"
    }
   },
   "source": [
    "- Finora abbiamo usato nei modelli, sia come variabili predittive che da prevedere, i valori _assoluti_ di apertura e chiusura del mercato\n",
    "- Tali valori seguono dei trend di lungo periodo e possono essere molto diversi in periodi differenti\n",
    "  - si può notare ad esempio l'effetto della [crisi economica iniziata nel 2007](https://it.wikipedia.org/wiki/Grande_recessione)\n",
    "- Nel nostro scenario siamo più interessati alle variazioni giornaliere, indipendentemente dai valori assoluti\n",
    "- Revisioniamo i passaggi svolti sopra per utilizzare come variabili le differenze tra questi valori"
   ]
  },
  {
   "cell_type": "markdown",
   "metadata": {
    "slideshow": {
     "slide_type": "slide"
    }
   },
   "source": [
    "- Iniziamo definendo come variabile la differenza $\\Delta_d=C_d-O_d$ tra il valore di chiusura giornaliero $C_d$ e quello di apertura $O_d$"
   ]
  },
  {
   "cell_type": "code",
   "execution_count": 49,
   "metadata": {},
   "outputs": [],
   "source": [
    "delta = close - open"
   ]
  },
  {
   "cell_type": "markdown",
   "metadata": {},
   "source": [
    "- Poniamo questo come il valore che **deve essere predetto** dal modello\n",
    "- L'investitore agirà in base alla predizione $\\hat{\\Delta}_d$ in modo analogo a prima\n",
    "  - se $\\hat{\\Delta}_d > 0$, acquista un titolo a inizio giornata e lo rivende alla fine\n",
    "  - se $\\hat{\\Delta}_d < 0$, vende un titolo a inizio giornata e lo ricompra alla fine"
   ]
  },
  {
   "cell_type": "markdown",
   "metadata": {
    "slideshow": {
     "slide_type": "slide"
    }
   },
   "source": [
    "## Esercizio 7: Funzioni per guadagno e ROI sulle differenze\n",
    "\n",
    "- Reimplementare la funzione `gain` in modo che consideri come input i valori reali e predetti di $\\Delta_d=C_d-O_d$ piuttosto che di $C_d$\n",
    "  - la funzione `roi` rimane invariata, la riportiamo con i nomi delle variabili aggiornate"
   ]
  },
  {
   "cell_type": "code",
   "execution_count": 51,
   "metadata": {},
   "outputs": [],
   "source": [
    "def gain(D, D_pred):\n",
    "    ...\n",
    "\n",
    "def roi(D, D_pred):\n",
    "    mean_open = open.reindex_like(D).mean()\n",
    "    return gain(D, D_pred) / mean_open"
   ]
  },
  {
   "cell_type": "markdown",
   "metadata": {
    "slideshow": {
     "slide_type": "slide"
    }
   },
   "source": [
    "- Come variabili predittive, possiamo considerare i valori della variabile da predire $\\Delta_d$ negli $N$ giorni precedenti: $\\Delta_{d-1},\\ldots,\\Delta_{d-N}$\n",
    "- Consideriamo ad esempio i valori nei 3 giorni precedenti\n",
    "  - usiamo una comprehension per costruire un dizionario con le variabili `DeltaLag{i}` con `i` variabile"
   ]
  },
  {
   "cell_type": "code",
   "execution_count": 53,
   "metadata": {},
   "outputs": [],
   "source": [
    "features = {\n",
    "    \"DeltaLag{}\".format(i): delta.shift(i)\n",
    "    for i in range(1, 4)\n",
    "}"
   ]
  },
  {
   "cell_type": "markdown",
   "metadata": {},
   "source": [
    "- Usiamo le funzioni già create sopra per ottenere training e validation set con queste nuove variabili"
   ]
  },
  {
   "cell_type": "code",
   "execution_count": 54,
   "metadata": {},
   "outputs": [],
   "source": [
    "X, y = prepare_data(features, delta)\n",
    "X_train, X_val, y_train, y_val = split_before_2005(X, y)"
   ]
  },
  {
   "cell_type": "markdown",
   "metadata": {
    "slideshow": {
     "slide_type": "slide"
    }
   },
   "source": [
    "- Addestriamo e validiamo un modello di regressione lineare"
   ]
  },
  {
   "cell_type": "code",
   "execution_count": 55,
   "metadata": {},
   "outputs": [
    {
     "name": "stdout",
     "output_type": "stream",
     "text": [
      "Gain: 1308.40$\n",
      " ROI: 100.329%\n"
     ]
    }
   ],
   "source": [
    "model = LinearRegression()\n",
    "model.fit(X_train, y_train)\n",
    "print_eval(X_val, y_val, model)"
   ]
  },
  {
   "cell_type": "markdown",
   "metadata": {},
   "source": [
    "- Con questi accorgimenti, otteniamo un modello che garantisce un guadagno molto maggiore"
   ]
  },
  {
   "cell_type": "markdown",
   "metadata": {
    "slideshow": {
     "slide_type": "slide"
    }
   },
   "source": [
    "## Confronto con un modello casuale\n",
    "\n",
    "- Per avere una valutazione più completa del modello ottenuto, possiamo metterlo a confronto con quello che accadrebbe prendendo decisioni casuali\n",
    "- Consideriamo un modello che predica dei valori $\\hat{\\Delta}_d$ casuali, ma con la stessa distribuzione dei valori $\\Delta_d$ reali\n",
    "- Disegnando un istogramma, vediamo che $\\Delta_d$ ha una distribuzione normale"
   ]
  },
  {
   "cell_type": "code",
   "execution_count": 56,
   "metadata": {},
   "outputs": [
    {
     "data": {
      "image/png": "[encoded data removed]",
      "text/plain": [
       "<Figure size 864x288 with 1 Axes>"
      ]
     },
     "metadata": {
      "needs_background": "light"
     },
     "output_type": "display_data"
    }
   ],
   "source": [
    "y_train.plot.hist(bins=40, figsize=(12, 4));"
   ]
  },
  {
   "cell_type": "markdown",
   "metadata": {
    "slideshow": {
     "slide_type": "slide"
    }
   },
   "source": [
    "- Consideriamo una distribuzione normale con media e deviazione standard pari a quelle di `y_train` e generiamo tanti campioni quanti i valori in `y_val`"
   ]
  },
  {
   "cell_type": "code",
   "execution_count": 57,
   "metadata": {},
   "outputs": [],
   "source": [
    "np.random.seed(42)\n",
    "random_preds = np.random.normal(\n",
    "    y_train.mean(),   # centro (media), circa 0\n",
    "    y_train.std(),    # scala (dev. standard)\n",
    "    len(y_val)        # numero di campioni\n",
    ")"
   ]
  },
  {
   "cell_type": "code",
   "execution_count": 58,
   "metadata": {},
   "outputs": [
    {
     "data": {
      "image/png": "[encoded data removed]",
      "text/plain": [
       "<Figure size 864x216 with 1 Axes>"
      ]
     },
     "metadata": {
      "needs_background": "light"
     },
     "output_type": "display_data"
    }
   ],
   "source": [
    "plt.figure(figsize=(12, 3))\n",
    "plt.hist(random_preds, bins=40);"
   ]
  },
  {
   "cell_type": "markdown",
   "metadata": {
    "slideshow": {
     "slide_type": "slide"
    }
   },
   "source": [
    "- Valutiamo guadagno e ROI utilizzando i campioni generati al posto delle predizioni del modello"
   ]
  },
  {
   "cell_type": "code",
   "execution_count": 59,
   "metadata": {},
   "outputs": [
    {
     "data": {
      "text/plain": [
       "-271.2800000000043"
      ]
     },
     "execution_count": 59,
     "metadata": {},
     "output_type": "execute_result"
    }
   ],
   "source": [
    "gain(y_val, random_preds)"
   ]
  },
  {
   "cell_type": "code",
   "execution_count": 60,
   "metadata": {},
   "outputs": [
    {
     "data": {
      "text/plain": [
       "-0.20801918765602714"
      ]
     },
     "execution_count": 60,
     "metadata": {},
     "output_type": "execute_result"
    }
   ],
   "source": [
    "roi(y_val, random_preds)"
   ]
  },
  {
   "cell_type": "markdown",
   "metadata": {},
   "source": [
    "- In questo caso otteniamo un valore negativo, ovvero una perdita"
   ]
  },
  {
   "cell_type": "markdown",
   "metadata": {
    "slideshow": {
     "slide_type": "slide"
    }
   },
   "source": [
    "## Esercizio 8: Test multipli su modello casuale\n",
    "\n",
    "- Per valutare con maggiore affidabilità l'efficacia di un modello casuale, dobbiamo eseguire test multipli con seed differenti\n",
    "- Calcolare il ROI medio su 1.000 test con predizioni casuali come quello sopra, utilizzando un seed diverso in ciascuna\n",
    "- Si dovrebbe ottenere un ROI medio prossimo allo 0"
   ]
  },
  {
   "cell_type": "markdown",
   "metadata": {
    "slideshow": {
     "slide_type": "slide"
    }
   },
   "source": [
    "## Validazione k-fold per serie temporali\n",
    "\n",
    "- Nella cross validation a _k_ fold ordinaria, i dati vengono divisi in _k_ fold mescolati casualmente\n",
    "- Nel caso come questo di una serie temporale, vogliamo però mantenere l'ordine temporale in training e validation set\n",
    "- Come alternativa allo split `KFold`, scikit-learn offre il `TimeSeriesSplit(k)` per questa situazione\n",
    "  - il dataset è diviso in _k_+1 fold contigui di pari dimensioni\n",
    "  - ogni split _i_ da 1 a _k_ contiene i primi _i_ fold come training set e il _i+1_-esimo come validation set"
   ]
  },
  {
   "cell_type": "markdown",
   "metadata": {
    "slideshow": {
     "slide_type": "slide"
    }
   },
   "source": [
    "- Definiamo un `TimeSeriesSplit` con 3 split"
   ]
  },
  {
   "cell_type": "code",
   "execution_count": 63,
   "metadata": {},
   "outputs": [],
   "source": [
    "from sklearn.model_selection import TimeSeriesSplit\n",
    "tss = TimeSeriesSplit(3)"
   ]
  },
  {
   "cell_type": "markdown",
   "metadata": {},
   "source": [
    "- Vediamo ad esempio come suddivide i dati in `X`: gli 8 anni dei dati sono divisi in 4 gruppi da 2"
   ]
  },
  {
   "cell_type": "code",
   "execution_count": 64,
   "metadata": {},
   "outputs": [
    {
     "name": "stdout",
     "output_type": "stream",
     "text": [
      "FOLD 1\n",
      "Training set da 2001-01-05 00:00:00 a 2003-01-10 00:00:00\n",
      "Validation set da 2003-01-13 00:00:00 a 2005-01-06 00:00:00\n",
      "FOLD 2\n",
      "Training set da 2001-01-05 00:00:00 a 2005-01-06 00:00:00\n",
      "Validation set da 2005-01-07 00:00:00 a 2007-01-04 00:00:00\n",
      "FOLD 3\n",
      "Training set da 2001-01-05 00:00:00 a 2007-01-04 00:00:00\n",
      "Validation set da 2007-01-05 00:00:00 a 2008-12-30 00:00:00\n"
     ]
    }
   ],
   "source": [
    "for i, (train, val) in enumerate(tss.split(X), start=1):\n",
    "    print(\"FOLD {}\".format(i))\n",
    "    train_dates = X.index[train]\n",
    "    val_dates = X.index[val]\n",
    "    print(\"Training set da {} a {}\".format(train_dates.min(), train_dates.max()))\n",
    "    print(\"Validation set da {} a {}\".format(val_dates.min(), val_dates.max()))"
   ]
  },
  {
   "cell_type": "markdown",
   "metadata": {
    "slideshow": {
     "slide_type": "slide"
    }
   },
   "source": [
    "- Per eseguire la cross validation, dobbiamo stabilire anche la metrica di valutazione da utilizzare\n",
    "- Prendiamo come riferimento il ROI, per cui abbiamo implementato la funzione `roi`\n",
    "- Per utilizzarla come metrica al posto di quelle predefinite dobbiamo incapsularla in un oggetto _scorer_ con la funzione `make_scorer`\n",
    "  - `greater_is_better=True` specifica che valori più alti indicano modelli migliori, al contrario delle misure d'errore"
   ]
  },
  {
   "cell_type": "code",
   "execution_count": 65,
   "metadata": {},
   "outputs": [],
   "source": [
    "from sklearn.metrics import make_scorer\n",
    "roi_scorer = make_scorer(roi, greater_is_better=True)"
   ]
  },
  {
   "cell_type": "markdown",
   "metadata": {},
   "source": [
    "- Possiamo ora utilizzare la funzione `cross_validate`, specificando\n",
    "  - il modello da validare\n",
    "  - i dati\n",
    "  - il criterio di suddivisione in fold (oggetto `TimeSeriesSplit`)\n",
    "  - la metrica di valutazione (il ROI)\n",
    "- Usiamo come esempio la regressione lineare semplice"
   ]
  },
  {
   "cell_type": "code",
   "execution_count": 66,
   "metadata": {},
   "outputs": [],
   "source": [
    "from sklearn.model_selection import cross_validate\n",
    "cv_results = cross_validate(\n",
    "    LinearRegression(),\n",
    "    X, y,\n",
    "    cv=tss,\n",
    "    scoring=roi_scorer,\n",
    ")"
   ]
  },
  {
   "cell_type": "markdown",
   "metadata": {
    "slideshow": {
     "slide_type": "slide"
    }
   },
   "source": [
    "- Estraiamo i punteggi ottenuti nei tre fold e calcoliamo la media"
   ]
  },
  {
   "cell_type": "code",
   "execution_count": 67,
   "metadata": {},
   "outputs": [
    {
     "data": {
      "text/plain": [
       "array([-0.14443667,  0.10888867,  0.74112958])"
      ]
     },
     "execution_count": 67,
     "metadata": {},
     "output_type": "execute_result"
    }
   ],
   "source": [
    "cv_results[\"test_score\"]"
   ]
  },
  {
   "cell_type": "code",
   "execution_count": 68,
   "metadata": {},
   "outputs": [
    {
     "data": {
      "text/plain": [
       "0.23519386128885675"
      ]
     },
     "execution_count": 68,
     "metadata": {},
     "output_type": "execute_result"
    }
   ],
   "source": [
    "cv_results[\"test_score\"].mean()"
   ]
  },
  {
   "cell_type": "markdown",
   "metadata": {},
   "source": [
    "- Vediamo che il ROI medio è 23,5\\%, ma molto variabile da un periodo d'applicazione all'altro, probabilmente anche per via dei diversi training set\n",
    "  - notare che questi ROI sono calcolati su periodi di soli due anni, contro i quattro del validation set fisso usato prima"
   ]
  },
  {
   "cell_type": "markdown",
   "metadata": {
    "slideshow": {
     "slide_type": "slide"
    }
   },
   "source": [
    "## Grid search\n",
    "\n",
    "- Possiamo riutilizzare gli stessi componenti della cross validation \"semplice\" in una grid search per tarare gli iperparametri dei modelli più avanzati\n",
    "- Prendiamo ad esempio come modello base la regressione polinomiale con o senza standardizzazione delle feature generate"
   ]
  },
  {
   "cell_type": "code",
   "execution_count": 69,
   "metadata": {},
   "outputs": [],
   "source": [
    "model = Pipeline([\n",
    "    (\"poly\", PolynomialFeatures(include_bias=False)),\n",
    "    (\"scale\", None),\n",
    "    (\"regr\", LinearRegression())\n",
    "])"
   ]
  },
  {
   "cell_type": "markdown",
   "metadata": {},
   "source": [
    "- Definiamo la griglia degli iperparametri variabili: applicazione o non della standardizzazione e grado del polinomio\n",
    "  - includiamo per confronto anche il grado 1, ovvero la regressione lineare standard"
   ]
  },
  {
   "cell_type": "code",
   "execution_count": 70,
   "metadata": {},
   "outputs": [],
   "source": [
    "grid = {\n",
    "    \"scale\": [None, StandardScaler()],\n",
    "    \"poly__degree\": list(range(1, 7))\n",
    "}"
   ]
  },
  {
   "cell_type": "markdown",
   "metadata": {
    "slideshow": {
     "slide_type": "slide"
    }
   },
   "source": [
    "- Creiamo il modello grid search specificando tutti i parametri\n",
    "  - modello base con iperparametri fissi\n",
    "  - griglia dei iperparametri variabili\n",
    "  - criterio di cross validation\n",
    "  - metrica di valutazione"
   ]
  },
  {
   "cell_type": "code",
   "execution_count": 71,
   "metadata": {},
   "outputs": [],
   "source": [
    "from sklearn.model_selection import GridSearchCV\n",
    "gs = GridSearchCV(model, grid, cv=tss, scoring=roi_scorer)"
   ]
  },
  {
   "cell_type": "markdown",
   "metadata": {},
   "source": [
    "- Addestriamolo quindi su tutti i dati"
   ]
  },
  {
   "cell_type": "code",
   "execution_count": 72,
   "metadata": {},
   "outputs": [],
   "source": [
    "gs.fit(X, y);"
   ]
  },
  {
   "cell_type": "markdown",
   "metadata": {
    "slideshow": {
     "slide_type": "-"
    }
   },
   "source": [
    "- Reperiamo e analizziamo i risultati ottenuti"
   ]
  },
  {
   "cell_type": "code",
   "execution_count": 73,
   "metadata": {},
   "outputs": [],
   "source": [
    "gs_results = pd.DataFrame(gs.cv_results_)"
   ]
  },
  {
   "cell_type": "code",
   "execution_count": 74,
   "metadata": {
    "slideshow": {
     "slide_type": "slide"
    }
   },
   "outputs": [
    {
     "data": {
      "text/html": [
       "<div>\n",
       "<style scoped>\n",
       "    .dataframe tbody tr th:only-of-type {\n",
       "        vertical-align: middle;\n",
       "    }\n",
       "\n",
       "    .dataframe tbody tr th {\n",
       "        vertical-align: top;\n",
       "    }\n",
       "\n",
       "    .dataframe thead th {\n",
       "        text-align: right;\n",
       "    }\n",
       "</style>\n",
       "<table border=\"1\" class=\"dataframe\">\n",
       "  <thead>\n",
       "    <tr style=\"text-align: right;\">\n",
       "      <th></th>\n",
       "      <th>mean_fit_time</th>\n",
       "      <th>std_fit_time</th>\n",
       "      <th>mean_score_time</th>\n",
       "      <th>std_score_time</th>\n",
       "      <th>param_poly__degree</th>\n",
       "      <th>param_scale</th>\n",
       "      <th>params</th>\n",
       "      <th>split0_test_score</th>\n",
       "      <th>split1_test_score</th>\n",
       "      <th>split2_test_score</th>\n",
       "      <th>mean_test_score</th>\n",
       "      <th>std_test_score</th>\n",
       "      <th>rank_test_score</th>\n",
       "    </tr>\n",
       "  </thead>\n",
       "  <tbody>\n",
       "    <tr>\n",
       "      <td>8</td>\n",
       "      <td>0.011023</td>\n",
       "      <td>0.000510</td>\n",
       "      <td>0.004269</td>\n",
       "      <td>0.000667</td>\n",
       "      <td>5</td>\n",
       "      <td>None</td>\n",
       "      <td>{'poly__degree': 5, 'scale': None}</td>\n",
       "      <td>-0.042528</td>\n",
       "      <td>0.189003</td>\n",
       "      <td>0.770412</td>\n",
       "      <td>0.305629</td>\n",
       "      <td>0.341974</td>\n",
       "      <td>1</td>\n",
       "    </tr>\n",
       "    <tr>\n",
       "      <td>9</td>\n",
       "      <td>0.011734</td>\n",
       "      <td>0.001609</td>\n",
       "      <td>0.003743</td>\n",
       "      <td>0.000245</td>\n",
       "      <td>5</td>\n",
       "      <td>StandardScaler(copy=True, with_mean=True, with...</td>\n",
       "      <td>{'poly__degree': 5, 'scale': StandardScaler(co...</td>\n",
       "      <td>-0.042528</td>\n",
       "      <td>0.189003</td>\n",
       "      <td>0.770412</td>\n",
       "      <td>0.305629</td>\n",
       "      <td>0.341974</td>\n",
       "      <td>1</td>\n",
       "    </tr>\n",
       "    <tr>\n",
       "      <td>0</td>\n",
       "      <td>0.002589</td>\n",
       "      <td>0.000219</td>\n",
       "      <td>0.001656</td>\n",
       "      <td>0.000147</td>\n",
       "      <td>1</td>\n",
       "      <td>None</td>\n",
       "      <td>{'poly__degree': 1, 'scale': None}</td>\n",
       "      <td>-0.144437</td>\n",
       "      <td>0.108889</td>\n",
       "      <td>0.741130</td>\n",
       "      <td>0.235194</td>\n",
       "      <td>0.372399</td>\n",
       "      <td>3</td>\n",
       "    </tr>\n",
       "    <tr>\n",
       "      <td>1</td>\n",
       "      <td>0.002950</td>\n",
       "      <td>0.000179</td>\n",
       "      <td>0.001716</td>\n",
       "      <td>0.000075</td>\n",
       "      <td>1</td>\n",
       "      <td>StandardScaler(copy=True, with_mean=True, with...</td>\n",
       "      <td>{'poly__degree': 1, 'scale': StandardScaler(co...</td>\n",
       "      <td>-0.144437</td>\n",
       "      <td>0.108889</td>\n",
       "      <td>0.741130</td>\n",
       "      <td>0.235194</td>\n",
       "      <td>0.372399</td>\n",
       "      <td>3</td>\n",
       "    </tr>\n",
       "    <tr>\n",
       "      <td>6</td>\n",
       "      <td>0.013937</td>\n",
       "      <td>0.003132</td>\n",
       "      <td>0.004640</td>\n",
       "      <td>0.000204</td>\n",
       "      <td>4</td>\n",
       "      <td>None</td>\n",
       "      <td>{'poly__degree': 4, 'scale': None}</td>\n",
       "      <td>-0.028171</td>\n",
       "      <td>0.097566</td>\n",
       "      <td>0.272942</td>\n",
       "      <td>0.114112</td>\n",
       "      <td>0.123484</td>\n",
       "      <td>5</td>\n",
       "    </tr>\n",
       "  </tbody>\n",
       "</table>\n",
       "</div>"
      ],
      "text/plain": [
       "   mean_fit_time  std_fit_time  mean_score_time  std_score_time  \\\n",
       "8       0.011023      0.000510         0.004269        0.000667   \n",
       "9       0.011734      0.001609         0.003743        0.000245   \n",
       "0       0.002589      0.000219         0.001656        0.000147   \n",
       "1       0.002950      0.000179         0.001716        0.000075   \n",
       "6       0.013937      0.003132         0.004640        0.000204   \n",
       "\n",
       "  param_poly__degree                                        param_scale  \\\n",
       "8                  5                                               None   \n",
       "9                  5  StandardScaler(copy=True, with_mean=True, with...   \n",
       "0                  1                                               None   \n",
       "1                  1  StandardScaler(copy=True, with_mean=True, with...   \n",
       "6                  4                                               None   \n",
       "\n",
       "                                              params  split0_test_score  \\\n",
       "8                 {'poly__degree': 5, 'scale': None}          -0.042528   \n",
       "9  {'poly__degree': 5, 'scale': StandardScaler(co...          -0.042528   \n",
       "0                 {'poly__degree': 1, 'scale': None}          -0.144437   \n",
       "1  {'poly__degree': 1, 'scale': StandardScaler(co...          -0.144437   \n",
       "6                 {'poly__degree': 4, 'scale': None}          -0.028171   \n",
       "\n",
       "   split1_test_score  split2_test_score  mean_test_score  std_test_score  \\\n",
       "8           0.189003           0.770412         0.305629        0.341974   \n",
       "9           0.189003           0.770412         0.305629        0.341974   \n",
       "0           0.108889           0.741130         0.235194        0.372399   \n",
       "1           0.108889           0.741130         0.235194        0.372399   \n",
       "6           0.097566           0.272942         0.114112        0.123484   \n",
       "\n",
       "   rank_test_score  \n",
       "8                1  \n",
       "9                1  \n",
       "0                3  \n",
       "1                3  \n",
       "6                5  "
      ]
     },
     "execution_count": 74,
     "metadata": {},
     "output_type": "execute_result"
    }
   ],
   "source": [
    "# stampo le 5 configurazioni migliori\n",
    "gs_results.sort_values(\"mean_test_score\", ascending=False).head(5)"
   ]
  },
  {
   "cell_type": "markdown",
   "metadata": {},
   "source": [
    "- Le migliori configurazioni in questo caso sono quelle con le feature di 5° grado (la standardizzazione non fa differenza)\n",
    "- Il ROI è comunque poco sopra al modello lineare"
   ]
  },
  {
   "cell_type": "markdown",
   "metadata": {
    "slideshow": {
     "slide_type": "slide"
    }
   },
   "source": [
    "## Esercizio 9: Grid search su kernel ridge\n",
    "\n",
    "- Effettuare la grid search su un modello kernel ridge\n",
    "  - con kernel `rbf` con `gamma` pari a $10^{-3},10^{-2},10^{-1}$\n",
    "  - con peso di regolarizzazione `alpha` pari a $10^{-3},10^{-2},\\ldots,10^2$\n",
    "    - si può usare `np.logspace`\n",
    "  - con o senza standardizzazione delle feature in ingresso\n",
    "- Stampare come sopra un frame con le 5 configurazioni migliori"
   ]
  },
  {
   "cell_type": "code",
   "execution_count": 75,
   "metadata": {},
   "outputs": [],
   "source": [
    "from sklearn.kernel_ridge import KernelRidge"
   ]
  },
  {
   "cell_type": "markdown",
   "metadata": {
    "slideshow": {
     "slide_type": "slide"
    }
   },
   "source": [
    "## Aggiunta di variabili predittive\n",
    "\n",
    "- I modelli addestrati sopra sono basati solamente su tre variabili, ovvero i valori di $\\Delta_d$ nei tre giorni precedenti a $d$\n",
    "- Non stiamo utilizzando altre informazioni, quali le variazioni dei valori da un giorno all'altro e i massimi/minimi giornalieri\n",
    "- Creiamo un nuovo insieme di variabili che tenga conto di queste altre informazioni"
   ]
  },
  {
   "cell_type": "code",
   "execution_count": 79,
   "metadata": {},
   "outputs": [],
   "source": [
    "features = {}"
   ]
  },
  {
   "cell_type": "markdown",
   "metadata": {},
   "source": [
    "- Inseriamo inizialmente le feature relative ai valori di $\\Delta_d$ nei giorni precedenti, come prima"
   ]
  },
  {
   "cell_type": "code",
   "execution_count": 80,
   "metadata": {},
   "outputs": [],
   "source": [
    "for n in range(1, 4):   # n da 1 a 3\n",
    "    features[\"DeltaLag{}\".format(n)] = delta.shift(n)"
   ]
  },
  {
   "cell_type": "markdown",
   "metadata": {
    "slideshow": {
     "slide_type": "slide"
    }
   },
   "source": [
    "- Per cogliere le variazioni da un giorno all'altro, possiamo considerare le differenze tra valori di una stessa variabile tra giorni consecutivi\n",
    "- Consideriamo ad esempio il valore di apertura $O_d$\n",
    "- Possiamo usare come variabile la differenza $O_d-O_{d-1}$ di questo valore da quello del giorno precedente\n",
    "  - anche questa variabile, come $\\Delta_d$, è una differenza tra valori piuttosto che un valore assoluto: non viene influenzata dall'andamento di lungo periodo del mercato\n",
    "- Possiamo ottenere questa variabile dalla differenza tra la serie `open` e lo `shift` di se stessa"
   ]
  },
  {
   "cell_type": "code",
   "execution_count": 81,
   "metadata": {},
   "outputs": [],
   "source": [
    "open_diff = open - open.shift(1)"
   ]
  },
  {
   "cell_type": "markdown",
   "metadata": {
    "slideshow": {
     "slide_type": "slide"
    }
   },
   "source": [
    "- Visualizziamo alcuni valori di tale variabile, affiancati a quelle da cui è ricavata"
   ]
  },
  {
   "cell_type": "code",
   "execution_count": 82,
   "metadata": {},
   "outputs": [
    {
     "data": {
      "text/html": [
       "<div>\n",
       "<style scoped>\n",
       "    .dataframe tbody tr th:only-of-type {\n",
       "        vertical-align: middle;\n",
       "    }\n",
       "\n",
       "    .dataframe tbody tr th {\n",
       "        vertical-align: top;\n",
       "    }\n",
       "\n",
       "    .dataframe thead th {\n",
       "        text-align: right;\n",
       "    }\n",
       "</style>\n",
       "<table border=\"1\" class=\"dataframe\">\n",
       "  <thead>\n",
       "    <tr style=\"text-align: right;\">\n",
       "      <th></th>\n",
       "      <th>Open</th>\n",
       "      <th>OpenLag1</th>\n",
       "      <th>OpenDiff</th>\n",
       "    </tr>\n",
       "    <tr>\n",
       "      <th>Date</th>\n",
       "      <th></th>\n",
       "      <th></th>\n",
       "      <th></th>\n",
       "    </tr>\n",
       "  </thead>\n",
       "  <tbody>\n",
       "    <tr>\n",
       "      <td>2001-01-02</td>\n",
       "      <td>1320.28</td>\n",
       "      <td>NaN</td>\n",
       "      <td>NaN</td>\n",
       "    </tr>\n",
       "    <tr>\n",
       "      <td>2001-01-03</td>\n",
       "      <td>1283.27</td>\n",
       "      <td>1320.28</td>\n",
       "      <td>-37.01</td>\n",
       "    </tr>\n",
       "    <tr>\n",
       "      <td>2001-01-04</td>\n",
       "      <td>1347.56</td>\n",
       "      <td>1283.27</td>\n",
       "      <td>64.29</td>\n",
       "    </tr>\n",
       "    <tr>\n",
       "      <td>2001-01-05</td>\n",
       "      <td>1333.34</td>\n",
       "      <td>1347.56</td>\n",
       "      <td>-14.22</td>\n",
       "    </tr>\n",
       "    <tr>\n",
       "      <td>2001-01-08</td>\n",
       "      <td>1298.35</td>\n",
       "      <td>1333.34</td>\n",
       "      <td>-34.99</td>\n",
       "    </tr>\n",
       "  </tbody>\n",
       "</table>\n",
       "</div>"
      ],
      "text/plain": [
       "               Open  OpenLag1  OpenDiff\n",
       "Date                                   \n",
       "2001-01-02  1320.28       NaN       NaN\n",
       "2001-01-03  1283.27   1320.28    -37.01\n",
       "2001-01-04  1347.56   1283.27     64.29\n",
       "2001-01-05  1333.34   1347.56    -14.22\n",
       "2001-01-08  1298.35   1333.34    -34.99"
      ]
     },
     "execution_count": 82,
     "metadata": {},
     "output_type": "execute_result"
    }
   ],
   "source": [
    "pd.DataFrame({\n",
    "    \"Open\": open,\n",
    "    \"OpenLag1\": open.shift(1),\n",
    "    \"OpenDiff\": open_diff\n",
    "}).head(5)"
   ]
  },
  {
   "cell_type": "markdown",
   "metadata": {
    "slideshow": {
     "slide_type": "slide"
    }
   },
   "source": [
    "- scikit-learn offre un metodo `diff(n)` per ottenere direttamente la differenza tra una serie e il suo `shift(n)`"
   ]
  },
  {
   "cell_type": "code",
   "execution_count": 83,
   "metadata": {},
   "outputs": [
    {
     "data": {
      "text/plain": [
       "Date\n",
       "2001-01-02      NaN\n",
       "2001-01-03   -37.01\n",
       "2001-01-04    64.29\n",
       "2001-01-05   -14.22\n",
       "2001-01-08   -34.99\n",
       "Name: Open, dtype: float64"
      ]
     },
     "execution_count": 83,
     "metadata": {},
     "output_type": "execute_result"
    }
   ],
   "source": [
    "open.diff()   .head()"
   ]
  },
  {
   "cell_type": "markdown",
   "metadata": {},
   "source": [
    "- Il metodo `equals` permette di verificare che una serie (o frame) sia identica ad un'altra"
   ]
  },
  {
   "cell_type": "code",
   "execution_count": 84,
   "metadata": {},
   "outputs": [
    {
     "data": {
      "text/plain": [
       "True"
      ]
     },
     "execution_count": 84,
     "metadata": {},
     "output_type": "execute_result"
    }
   ],
   "source": [
    "open.diff().equals(open - open.shift(1))"
   ]
  },
  {
   "cell_type": "markdown",
   "metadata": {
    "slideshow": {
     "slide_type": "slide"
    }
   },
   "source": [
    "- Aggiungiamo ad esempio alle feature le differenze da un giorno all'altro dei valori di `high` e `low`, ovvero i massimi e minimi di giornata\n",
    "  - tenere presente che ad ogni giornata $d$ non conosciamo subito $H_d$ e $L_d$, per cui utilizziamo invece $H_{d-1}$ e $L_{d-1}$\n",
    "  - ad es., per ottenere $H_{d-1}-H_{d-2}$, $H_{d-2}-H_{d-3}$ e $H_{d-3}-H_{d-4}$ prendiamo $H_{d}-H_{d-1}$ e applichiamo lo `shift` di 1, 2 e 3 giorni\n",
    "  - _evitiamo quì di usare le differenze $O_d$ e $C_{d-1}$, in quanto in questi dati sono molto correlate a $\\Delta_d$_"
   ]
  },
  {
   "cell_type": "code",
   "execution_count": 85,
   "metadata": {},
   "outputs": [],
   "source": [
    "for n in range(1, 4): # n da 1 a 3\n",
    "    features[\"HighDiff{}\".format(n)] = high.diff().shift(n)\n",
    "    features[\"LowDiff{}\".format(n)] = low.diff().shift(n)"
   ]
  },
  {
   "cell_type": "markdown",
   "metadata": {},
   "source": [
    "- Usiamo la funzione `prepare_data` definita sopra per creare il dataset completo con le variabili scelte"
   ]
  },
  {
   "cell_type": "code",
   "execution_count": 86,
   "metadata": {},
   "outputs": [],
   "source": [
    "X, y = prepare_data(features, delta)"
   ]
  },
  {
   "cell_type": "markdown",
   "metadata": {
    "slideshow": {
     "slide_type": "slide"
    }
   },
   "source": [
    "- Possiamo visualizzare le prime righe del frame con le variabili generate"
   ]
  },
  {
   "cell_type": "code",
   "execution_count": 87,
   "metadata": {},
   "outputs": [
    {
     "data": {
      "text/html": [
       "<div>\n",
       "<style scoped>\n",
       "    .dataframe tbody tr th:only-of-type {\n",
       "        vertical-align: middle;\n",
       "    }\n",
       "\n",
       "    .dataframe tbody tr th {\n",
       "        vertical-align: top;\n",
       "    }\n",
       "\n",
       "    .dataframe thead th {\n",
       "        text-align: right;\n",
       "    }\n",
       "</style>\n",
       "<table border=\"1\" class=\"dataframe\">\n",
       "  <thead>\n",
       "    <tr style=\"text-align: right;\">\n",
       "      <th></th>\n",
       "      <th>DeltaLag1</th>\n",
       "      <th>DeltaLag2</th>\n",
       "      <th>DeltaLag3</th>\n",
       "      <th>HighDiff1</th>\n",
       "      <th>LowDiff1</th>\n",
       "      <th>HighDiff2</th>\n",
       "      <th>LowDiff2</th>\n",
       "      <th>HighDiff3</th>\n",
       "      <th>LowDiff3</th>\n",
       "    </tr>\n",
       "    <tr>\n",
       "      <th>Date</th>\n",
       "      <th></th>\n",
       "      <th></th>\n",
       "      <th></th>\n",
       "      <th></th>\n",
       "      <th></th>\n",
       "      <th></th>\n",
       "      <th></th>\n",
       "      <th></th>\n",
       "      <th></th>\n",
       "    </tr>\n",
       "  </thead>\n",
       "  <tbody>\n",
       "    <tr>\n",
       "      <td>2001-01-08</td>\n",
       "      <td>-34.99</td>\n",
       "      <td>-14.22</td>\n",
       "      <td>64.29</td>\n",
       "      <td>-15.47</td>\n",
       "      <td>-34.19</td>\n",
       "      <td>2.48</td>\n",
       "      <td>54.52</td>\n",
       "      <td>27.48</td>\n",
       "      <td>-1.43</td>\n",
       "    </tr>\n",
       "    <tr>\n",
       "      <td>2001-01-09</td>\n",
       "      <td>-2.49</td>\n",
       "      <td>-34.99</td>\n",
       "      <td>-14.22</td>\n",
       "      <td>-36.42</td>\n",
       "      <td>-18.66</td>\n",
       "      <td>-15.47</td>\n",
       "      <td>-34.19</td>\n",
       "      <td>2.48</td>\n",
       "      <td>54.52</td>\n",
       "    </tr>\n",
       "    <tr>\n",
       "      <td>2001-01-10</td>\n",
       "      <td>4.94</td>\n",
       "      <td>-2.49</td>\n",
       "      <td>-34.99</td>\n",
       "      <td>13.37</td>\n",
       "      <td>18.85</td>\n",
       "      <td>-36.42</td>\n",
       "      <td>-18.66</td>\n",
       "      <td>-15.47</td>\n",
       "      <td>-34.19</td>\n",
       "    </tr>\n",
       "    <tr>\n",
       "      <td>2001-01-11</td>\n",
       "      <td>12.47</td>\n",
       "      <td>4.94</td>\n",
       "      <td>-2.49</td>\n",
       "      <td>2.04</td>\n",
       "      <td>-7.86</td>\n",
       "      <td>13.37</td>\n",
       "      <td>18.85</td>\n",
       "      <td>-36.42</td>\n",
       "      <td>-18.66</td>\n",
       "    </tr>\n",
       "    <tr>\n",
       "      <td>2001-01-12</td>\n",
       "      <td>13.55</td>\n",
       "      <td>12.47</td>\n",
       "      <td>4.94</td>\n",
       "      <td>18.43</td>\n",
       "      <td>22.44</td>\n",
       "      <td>2.04</td>\n",
       "      <td>-7.86</td>\n",
       "      <td>13.37</td>\n",
       "      <td>18.85</td>\n",
       "    </tr>\n",
       "  </tbody>\n",
       "</table>\n",
       "</div>"
      ],
      "text/plain": [
       "            DeltaLag1  DeltaLag2  DeltaLag3  HighDiff1  LowDiff1  HighDiff2  \\\n",
       "Date                                                                          \n",
       "2001-01-08     -34.99     -14.22      64.29     -15.47    -34.19       2.48   \n",
       "2001-01-09      -2.49     -34.99     -14.22     -36.42    -18.66     -15.47   \n",
       "2001-01-10       4.94      -2.49     -34.99      13.37     18.85     -36.42   \n",
       "2001-01-11      12.47       4.94      -2.49       2.04     -7.86      13.37   \n",
       "2001-01-12      13.55      12.47       4.94      18.43     22.44       2.04   \n",
       "\n",
       "            LowDiff2  HighDiff3  LowDiff3  \n",
       "Date                                       \n",
       "2001-01-08     54.52      27.48     -1.43  \n",
       "2001-01-09    -34.19       2.48     54.52  \n",
       "2001-01-10    -18.66     -15.47    -34.19  \n",
       "2001-01-11     18.85     -36.42    -18.66  \n",
       "2001-01-12     -7.86      13.37     18.85  "
      ]
     },
     "execution_count": 87,
     "metadata": {},
     "output_type": "execute_result"
    }
   ],
   "source": [
    "X.head(5)"
   ]
  },
  {
   "cell_type": "markdown",
   "metadata": {
    "slideshow": {
     "slide_type": "slide"
    }
   },
   "source": [
    "## Esercizio 10: Test modelli con nuove feature\n",
    "\n",
    "- **(10a)** Addestrare sui nuovi dati un modello di regressione lasso con $\\alpha=3$ e verificare quali feature non vengono escluse\n",
    "- **(10b)** Eseguire la cross validation di un modello di regressione lineare semplice, con gli stessi criteri di suddivisione dati e valutazione usati sopra\n",
    "- **(10c)** Eseguire la grid search degli iperparametri di un modello kernel ridge, usando le stesse specifiche dell'esercizio 9"
   ]
  },
  {
   "cell_type": "markdown",
   "metadata": {
    "slideshow": {
     "slide_type": "slide"
    }
   },
   "source": [
    "## Esercizi avanzati (opzionali)\n",
    "\n",
    "- Testare modelli con l'aggiunta di nuove feature non considerate quì, ad es. le differenze tra valori massimi e minimi nei giorni precedenti\n",
    "- Cambiare il protocollo di trading in modo che venga svolta un'operazione di acquisto/vendita solo se il valore assoluto di $\\hat{\\Delta}_d$ supera una determinata soglia e verificare come varia il ROI al variare di tale soglia\n",
    "- Eseguire test su periodi differenti e/o con titoli/indici differenti"
   ]
  }
 ],
 "metadata": {
  "language_info": {
   "codemirror_mode": {
    "name": "ipython",
    "version": 3
   },
   "file_extension": ".py",
   "mimetype": "text/x-python",
   "name": "python",
   "nbconvert_exporter": "python",
   "pygments_lexer": "ipython3",
   "version": "3.7.1"
  }
 },
 "nbformat": 4,
 "nbformat_minor": 4
}
