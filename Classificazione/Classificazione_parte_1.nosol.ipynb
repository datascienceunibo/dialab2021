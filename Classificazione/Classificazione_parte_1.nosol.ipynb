{
 "cells": [
  {
   "cell_type": "markdown",
   "metadata": {
    "slideshow": {
     "slide_type": "slide"
    }
   },
   "source": [
    "# Laboratorio: Classificazione (parte 1)\n",
    "\n",
    "**Programmazione di Applicazioni Data Intensive**  \n",
    "Laurea in Ingegneria e Scienze Informatiche  \n",
    "DISI - Università di Bologna, Cesena\n",
    "\n",
    "Proff. Gianluca Moro, Roberto Pasolini  \n",
    "nome.cognome@unibo.it"
   ]
  },
  {
   "cell_type": "code",
   "execution_count": 1,
   "metadata": {},
   "outputs": [],
   "source": [
    "# setup e test librerie\n",
    "%matplotlib inline\n",
    "import numpy as np\n",
    "import pandas as pd\n",
    "import matplotlib.pyplot as plt\n",
    "import sklearn"
   ]
  },
  {
   "cell_type": "markdown",
   "metadata": {
    "slideshow": {
     "slide_type": "slide"
    }
   },
   "source": [
    "## Classificazione\n",
    "\n",
    "- Nei problemi visti finora di _regressione_, l'obiettivo è prevedere il valore di una variabile _continua_\n",
    "  - una quantità di energia consumata, il prezzo di una casa, ...\n",
    "- Nei problemi di **_classificazione_** l'obiettivo generale è invece, per ogni osservazione, **distinguere uno di due o più casi (_classi_) possibili**\n",
    "- Come per la regressione, un modello di classificazione va addestrato su esempi già correttamente classificati"
   ]
  },
  {
   "cell_type": "markdown",
   "metadata": {
    "slideshow": {
     "slide_type": "slide"
    }
   },
   "source": [
    "## Caso di studio: Diagnostica per immagini\n",
    "\n",
    "- Data un'immagine di cellule tumorali estratte da un paziente, si vogliono classificare queste come benigne o maligne\n",
    "- Da ciascuna cellula possono essere estratte delle caratteristiche\n",
    "  - dimensione, concavità, consistenza, ...\n",
    "- Dall'immagine intera possiamo estrarre statistiche su ciascuna di queste caratteristiche\n",
    "- Vogliamo addestrare un modello a classificare ciascuna immagine sulla base di queste caratteristiche"
   ]
  },
  {
   "cell_type": "markdown",
   "metadata": {
    "slideshow": {
     "slide_type": "slide"
    }
   },
   "source": [
    "- Utilizziamo il [Breast Cancer Wisconsin (Diagnostic) Data Set](https://archive.ics.uci.edu/ml/datasets/Breast+Cancer+Wisconsin+%28Diagnostic%29), in cui ogni osservazione contiene le caratteristiche estratte da un'immagine\n",
    "- Con `read_csv` possiamo importare il dataset direttamente in un frame pandas dato il suo URL\n",
    "  - con `header=None` specifichiamo l'assenza di una riga header\n",
    "  - la prima colonna contiene un ID univoco per osservazione, la impostiamo come indice"
   ]
  },
  {
   "cell_type": "code",
   "execution_count": 2,
   "metadata": {},
   "outputs": [],
   "source": [
    "BCWDS_URL = \"https://archive.ics.uci.edu/ml/machine-learning-databases/breast-cancer-wisconsin/wdbc.data\"\n",
    "bcwds = pd.read_csv(BCWDS_URL, header=None, index_col=0)"
   ]
  },
  {
   "cell_type": "code",
   "execution_count": 3,
   "metadata": {},
   "outputs": [
    {
     "data": {
      "text/html": [
       "<div>\n",
       "<style scoped>\n",
       "    .dataframe tbody tr th:only-of-type {\n",
       "        vertical-align: middle;\n",
       "    }\n",
       "\n",
       "    .dataframe tbody tr th {\n",
       "        vertical-align: top;\n",
       "    }\n",
       "\n",
       "    .dataframe thead th {\n",
       "        text-align: right;\n",
       "    }\n",
       "</style>\n",
       "<table border=\"1\" class=\"dataframe\">\n",
       "  <thead>\n",
       "    <tr style=\"text-align: right;\">\n",
       "      <th></th>\n",
       "      <th>1</th>\n",
       "      <th>2</th>\n",
       "      <th>3</th>\n",
       "      <th>4</th>\n",
       "      <th>5</th>\n",
       "      <th>6</th>\n",
       "      <th>7</th>\n",
       "      <th>8</th>\n",
       "      <th>9</th>\n",
       "      <th>10</th>\n",
       "      <th>...</th>\n",
       "      <th>22</th>\n",
       "      <th>23</th>\n",
       "      <th>24</th>\n",
       "      <th>25</th>\n",
       "      <th>26</th>\n",
       "      <th>27</th>\n",
       "      <th>28</th>\n",
       "      <th>29</th>\n",
       "      <th>30</th>\n",
       "      <th>31</th>\n",
       "    </tr>\n",
       "    <tr>\n",
       "      <th>0</th>\n",
       "      <th></th>\n",
       "      <th></th>\n",
       "      <th></th>\n",
       "      <th></th>\n",
       "      <th></th>\n",
       "      <th></th>\n",
       "      <th></th>\n",
       "      <th></th>\n",
       "      <th></th>\n",
       "      <th></th>\n",
       "      <th></th>\n",
       "      <th></th>\n",
       "      <th></th>\n",
       "      <th></th>\n",
       "      <th></th>\n",
       "      <th></th>\n",
       "      <th></th>\n",
       "      <th></th>\n",
       "      <th></th>\n",
       "      <th></th>\n",
       "      <th></th>\n",
       "    </tr>\n",
       "  </thead>\n",
       "  <tbody>\n",
       "    <tr>\n",
       "      <td>842302</td>\n",
       "      <td>M</td>\n",
       "      <td>17.99</td>\n",
       "      <td>10.38</td>\n",
       "      <td>122.8</td>\n",
       "      <td>1001.0</td>\n",
       "      <td>0.11840</td>\n",
       "      <td>0.27760</td>\n",
       "      <td>0.3001</td>\n",
       "      <td>0.14710</td>\n",
       "      <td>0.2419</td>\n",
       "      <td>...</td>\n",
       "      <td>25.38</td>\n",
       "      <td>17.33</td>\n",
       "      <td>184.6</td>\n",
       "      <td>2019.0</td>\n",
       "      <td>0.1622</td>\n",
       "      <td>0.6656</td>\n",
       "      <td>0.7119</td>\n",
       "      <td>0.2654</td>\n",
       "      <td>0.4601</td>\n",
       "      <td>0.11890</td>\n",
       "    </tr>\n",
       "    <tr>\n",
       "      <td>842517</td>\n",
       "      <td>M</td>\n",
       "      <td>20.57</td>\n",
       "      <td>17.77</td>\n",
       "      <td>132.9</td>\n",
       "      <td>1326.0</td>\n",
       "      <td>0.08474</td>\n",
       "      <td>0.07864</td>\n",
       "      <td>0.0869</td>\n",
       "      <td>0.07017</td>\n",
       "      <td>0.1812</td>\n",
       "      <td>...</td>\n",
       "      <td>24.99</td>\n",
       "      <td>23.41</td>\n",
       "      <td>158.8</td>\n",
       "      <td>1956.0</td>\n",
       "      <td>0.1238</td>\n",
       "      <td>0.1866</td>\n",
       "      <td>0.2416</td>\n",
       "      <td>0.1860</td>\n",
       "      <td>0.2750</td>\n",
       "      <td>0.08902</td>\n",
       "    </tr>\n",
       "    <tr>\n",
       "      <td>84300903</td>\n",
       "      <td>M</td>\n",
       "      <td>19.69</td>\n",
       "      <td>21.25</td>\n",
       "      <td>130.0</td>\n",
       "      <td>1203.0</td>\n",
       "      <td>0.10960</td>\n",
       "      <td>0.15990</td>\n",
       "      <td>0.1974</td>\n",
       "      <td>0.12790</td>\n",
       "      <td>0.2069</td>\n",
       "      <td>...</td>\n",
       "      <td>23.57</td>\n",
       "      <td>25.53</td>\n",
       "      <td>152.5</td>\n",
       "      <td>1709.0</td>\n",
       "      <td>0.1444</td>\n",
       "      <td>0.4245</td>\n",
       "      <td>0.4504</td>\n",
       "      <td>0.2430</td>\n",
       "      <td>0.3613</td>\n",
       "      <td>0.08758</td>\n",
       "    </tr>\n",
       "  </tbody>\n",
       "</table>\n",
       "<p>3 rows × 31 columns</p>\n",
       "</div>"
      ],
      "text/plain": [
       "         1      2      3      4       5        6        7       8        9   \\\n",
       "0                                                                             \n",
       "842302    M  17.99  10.38  122.8  1001.0  0.11840  0.27760  0.3001  0.14710   \n",
       "842517    M  20.57  17.77  132.9  1326.0  0.08474  0.07864  0.0869  0.07017   \n",
       "84300903  M  19.69  21.25  130.0  1203.0  0.10960  0.15990  0.1974  0.12790   \n",
       "\n",
       "              10  ...     22     23     24      25      26      27      28  \\\n",
       "0                 ...                                                        \n",
       "842302    0.2419  ...  25.38  17.33  184.6  2019.0  0.1622  0.6656  0.7119   \n",
       "842517    0.1812  ...  24.99  23.41  158.8  1956.0  0.1238  0.1866  0.2416   \n",
       "84300903  0.2069  ...  23.57  25.53  152.5  1709.0  0.1444  0.4245  0.4504   \n",
       "\n",
       "              29      30       31  \n",
       "0                                  \n",
       "842302    0.2654  0.4601  0.11890  \n",
       "842517    0.1860  0.2750  0.08902  \n",
       "84300903  0.2430  0.3613  0.08758  \n",
       "\n",
       "[3 rows x 31 columns]"
      ]
     },
     "execution_count": 3,
     "metadata": {},
     "output_type": "execute_result"
    }
   ],
   "source": [
    "bcwds.head(3)"
   ]
  },
  {
   "cell_type": "markdown",
   "metadata": {
    "slideshow": {
     "slide_type": "slide"
    }
   },
   "source": [
    "- La prima colonna dei dati indica la classificazione delle cellule nell'immagine\n",
    "  - M = maligne, B = benigne\n",
    "- Le altre 30 colonne corrispondono alle variabili estratte dalle immagini\n",
    "- Da ogni cellula in ogni immagine sono state estratte le seguenti caratteristiche\n",
    "  - si veda la pagina del dataset per il significato di ciascuna"
   ]
  },
  {
   "cell_type": "code",
   "execution_count": 4,
   "metadata": {},
   "outputs": [],
   "source": [
    "cell_features = [\"radius\",     \"texture\",\n",
    "                 \"perimeter\",  \"area\",\n",
    "                 \"smoothness\", \"compactness\",\n",
    "                 \"concavity\",  \"concave_pts\",\n",
    "                 \"symmetry\",   \"fractal_dim\"]"
   ]
  },
  {
   "cell_type": "markdown",
   "metadata": {},
   "source": [
    "- Sull'insieme delle cellule sono estratte tre statistiche per ciascuna caratteristica: la media, la deviazione standard e la media dei tre valori più alti (\"worst\")"
   ]
  },
  {
   "cell_type": "code",
   "execution_count": 5,
   "metadata": {},
   "outputs": [],
   "source": [
    "stats = [\"mean\", \"std\", \"worst\"]"
   ]
  },
  {
   "cell_type": "markdown",
   "metadata": {},
   "source": [
    "- Assegniamo i nomi alle colonne del frame, generandoli dalle due liste sopra con due cicli innestati"
   ]
  },
  {
   "cell_type": "code",
   "execution_count": 6,
   "metadata": {},
   "outputs": [],
   "source": [
    "bcwds.columns = [\"diagnosis\"] + [s + \"_\" + f for s in stats for f in cell_features]"
   ]
  },
  {
   "cell_type": "markdown",
   "metadata": {
    "slideshow": {
     "slide_type": "slide"
    }
   },
   "source": [
    "- Abbiamo così il frame con nomi leggibili per le colonne\n",
    "- Di default pandas visualizza al massimo 20 colonne (prime 10 e ultime 10): il seguente comando aumenta tale limite\n",
    "  - ci sono [varie altre opzioni](https://pandas.pydata.org/docs/user_guide/options.html) impostabili per la visualizzazione dei frame, ad es. `max_rows` per il numero di righe"
   ]
  },
  {
   "cell_type": "code",
   "execution_count": 7,
   "metadata": {},
   "outputs": [],
   "source": [
    "pd.options.display.max_columns = 31"
   ]
  },
  {
   "cell_type": "code",
   "execution_count": 8,
   "metadata": {},
   "outputs": [
    {
     "data": {
      "text/html": [
       "<div>\n",
       "<style scoped>\n",
       "    .dataframe tbody tr th:only-of-type {\n",
       "        vertical-align: middle;\n",
       "    }\n",
       "\n",
       "    .dataframe tbody tr th {\n",
       "        vertical-align: top;\n",
       "    }\n",
       "\n",
       "    .dataframe thead th {\n",
       "        text-align: right;\n",
       "    }\n",
       "</style>\n",
       "<table border=\"1\" class=\"dataframe\">\n",
       "  <thead>\n",
       "    <tr style=\"text-align: right;\">\n",
       "      <th></th>\n",
       "      <th>diagnosis</th>\n",
       "      <th>mean_radius</th>\n",
       "      <th>mean_texture</th>\n",
       "      <th>mean_perimeter</th>\n",
       "      <th>mean_area</th>\n",
       "      <th>mean_smoothness</th>\n",
       "      <th>mean_compactness</th>\n",
       "      <th>mean_concavity</th>\n",
       "      <th>mean_concave_pts</th>\n",
       "      <th>mean_symmetry</th>\n",
       "      <th>mean_fractal_dim</th>\n",
       "      <th>std_radius</th>\n",
       "      <th>std_texture</th>\n",
       "      <th>std_perimeter</th>\n",
       "      <th>std_area</th>\n",
       "      <th>std_smoothness</th>\n",
       "      <th>std_compactness</th>\n",
       "      <th>std_concavity</th>\n",
       "      <th>std_concave_pts</th>\n",
       "      <th>std_symmetry</th>\n",
       "      <th>std_fractal_dim</th>\n",
       "      <th>worst_radius</th>\n",
       "      <th>worst_texture</th>\n",
       "      <th>worst_perimeter</th>\n",
       "      <th>worst_area</th>\n",
       "      <th>worst_smoothness</th>\n",
       "      <th>worst_compactness</th>\n",
       "      <th>worst_concavity</th>\n",
       "      <th>worst_concave_pts</th>\n",
       "      <th>worst_symmetry</th>\n",
       "      <th>worst_fractal_dim</th>\n",
       "    </tr>\n",
       "    <tr>\n",
       "      <th>0</th>\n",
       "      <th></th>\n",
       "      <th></th>\n",
       "      <th></th>\n",
       "      <th></th>\n",
       "      <th></th>\n",
       "      <th></th>\n",
       "      <th></th>\n",
       "      <th></th>\n",
       "      <th></th>\n",
       "      <th></th>\n",
       "      <th></th>\n",
       "      <th></th>\n",
       "      <th></th>\n",
       "      <th></th>\n",
       "      <th></th>\n",
       "      <th></th>\n",
       "      <th></th>\n",
       "      <th></th>\n",
       "      <th></th>\n",
       "      <th></th>\n",
       "      <th></th>\n",
       "      <th></th>\n",
       "      <th></th>\n",
       "      <th></th>\n",
       "      <th></th>\n",
       "      <th></th>\n",
       "      <th></th>\n",
       "      <th></th>\n",
       "      <th></th>\n",
       "      <th></th>\n",
       "      <th></th>\n",
       "    </tr>\n",
       "  </thead>\n",
       "  <tbody>\n",
       "    <tr>\n",
       "      <td>842302</td>\n",
       "      <td>M</td>\n",
       "      <td>17.99</td>\n",
       "      <td>10.38</td>\n",
       "      <td>122.80</td>\n",
       "      <td>1001.0</td>\n",
       "      <td>0.11840</td>\n",
       "      <td>0.27760</td>\n",
       "      <td>0.3001</td>\n",
       "      <td>0.14710</td>\n",
       "      <td>0.2419</td>\n",
       "      <td>0.07871</td>\n",
       "      <td>1.0950</td>\n",
       "      <td>0.9053</td>\n",
       "      <td>8.589</td>\n",
       "      <td>153.40</td>\n",
       "      <td>0.006399</td>\n",
       "      <td>0.04904</td>\n",
       "      <td>0.05373</td>\n",
       "      <td>0.01587</td>\n",
       "      <td>0.03003</td>\n",
       "      <td>0.006193</td>\n",
       "      <td>25.38</td>\n",
       "      <td>17.33</td>\n",
       "      <td>184.60</td>\n",
       "      <td>2019.0</td>\n",
       "      <td>0.1622</td>\n",
       "      <td>0.6656</td>\n",
       "      <td>0.7119</td>\n",
       "      <td>0.2654</td>\n",
       "      <td>0.4601</td>\n",
       "      <td>0.11890</td>\n",
       "    </tr>\n",
       "    <tr>\n",
       "      <td>842517</td>\n",
       "      <td>M</td>\n",
       "      <td>20.57</td>\n",
       "      <td>17.77</td>\n",
       "      <td>132.90</td>\n",
       "      <td>1326.0</td>\n",
       "      <td>0.08474</td>\n",
       "      <td>0.07864</td>\n",
       "      <td>0.0869</td>\n",
       "      <td>0.07017</td>\n",
       "      <td>0.1812</td>\n",
       "      <td>0.05667</td>\n",
       "      <td>0.5435</td>\n",
       "      <td>0.7339</td>\n",
       "      <td>3.398</td>\n",
       "      <td>74.08</td>\n",
       "      <td>0.005225</td>\n",
       "      <td>0.01308</td>\n",
       "      <td>0.01860</td>\n",
       "      <td>0.01340</td>\n",
       "      <td>0.01389</td>\n",
       "      <td>0.003532</td>\n",
       "      <td>24.99</td>\n",
       "      <td>23.41</td>\n",
       "      <td>158.80</td>\n",
       "      <td>1956.0</td>\n",
       "      <td>0.1238</td>\n",
       "      <td>0.1866</td>\n",
       "      <td>0.2416</td>\n",
       "      <td>0.1860</td>\n",
       "      <td>0.2750</td>\n",
       "      <td>0.08902</td>\n",
       "    </tr>\n",
       "    <tr>\n",
       "      <td>84300903</td>\n",
       "      <td>M</td>\n",
       "      <td>19.69</td>\n",
       "      <td>21.25</td>\n",
       "      <td>130.00</td>\n",
       "      <td>1203.0</td>\n",
       "      <td>0.10960</td>\n",
       "      <td>0.15990</td>\n",
       "      <td>0.1974</td>\n",
       "      <td>0.12790</td>\n",
       "      <td>0.2069</td>\n",
       "      <td>0.05999</td>\n",
       "      <td>0.7456</td>\n",
       "      <td>0.7869</td>\n",
       "      <td>4.585</td>\n",
       "      <td>94.03</td>\n",
       "      <td>0.006150</td>\n",
       "      <td>0.04006</td>\n",
       "      <td>0.03832</td>\n",
       "      <td>0.02058</td>\n",
       "      <td>0.02250</td>\n",
       "      <td>0.004571</td>\n",
       "      <td>23.57</td>\n",
       "      <td>25.53</td>\n",
       "      <td>152.50</td>\n",
       "      <td>1709.0</td>\n",
       "      <td>0.1444</td>\n",
       "      <td>0.4245</td>\n",
       "      <td>0.4504</td>\n",
       "      <td>0.2430</td>\n",
       "      <td>0.3613</td>\n",
       "      <td>0.08758</td>\n",
       "    </tr>\n",
       "    <tr>\n",
       "      <td>84348301</td>\n",
       "      <td>M</td>\n",
       "      <td>11.42</td>\n",
       "      <td>20.38</td>\n",
       "      <td>77.58</td>\n",
       "      <td>386.1</td>\n",
       "      <td>0.14250</td>\n",
       "      <td>0.28390</td>\n",
       "      <td>0.2414</td>\n",
       "      <td>0.10520</td>\n",
       "      <td>0.2597</td>\n",
       "      <td>0.09744</td>\n",
       "      <td>0.4956</td>\n",
       "      <td>1.1560</td>\n",
       "      <td>3.445</td>\n",
       "      <td>27.23</td>\n",
       "      <td>0.009110</td>\n",
       "      <td>0.07458</td>\n",
       "      <td>0.05661</td>\n",
       "      <td>0.01867</td>\n",
       "      <td>0.05963</td>\n",
       "      <td>0.009208</td>\n",
       "      <td>14.91</td>\n",
       "      <td>26.50</td>\n",
       "      <td>98.87</td>\n",
       "      <td>567.7</td>\n",
       "      <td>0.2098</td>\n",
       "      <td>0.8663</td>\n",
       "      <td>0.6869</td>\n",
       "      <td>0.2575</td>\n",
       "      <td>0.6638</td>\n",
       "      <td>0.17300</td>\n",
       "    </tr>\n",
       "    <tr>\n",
       "      <td>84358402</td>\n",
       "      <td>M</td>\n",
       "      <td>20.29</td>\n",
       "      <td>14.34</td>\n",
       "      <td>135.10</td>\n",
       "      <td>1297.0</td>\n",
       "      <td>0.10030</td>\n",
       "      <td>0.13280</td>\n",
       "      <td>0.1980</td>\n",
       "      <td>0.10430</td>\n",
       "      <td>0.1809</td>\n",
       "      <td>0.05883</td>\n",
       "      <td>0.7572</td>\n",
       "      <td>0.7813</td>\n",
       "      <td>5.438</td>\n",
       "      <td>94.44</td>\n",
       "      <td>0.011490</td>\n",
       "      <td>0.02461</td>\n",
       "      <td>0.05688</td>\n",
       "      <td>0.01885</td>\n",
       "      <td>0.01756</td>\n",
       "      <td>0.005115</td>\n",
       "      <td>22.54</td>\n",
       "      <td>16.67</td>\n",
       "      <td>152.20</td>\n",
       "      <td>1575.0</td>\n",
       "      <td>0.1374</td>\n",
       "      <td>0.2050</td>\n",
       "      <td>0.4000</td>\n",
       "      <td>0.1625</td>\n",
       "      <td>0.2364</td>\n",
       "      <td>0.07678</td>\n",
       "    </tr>\n",
       "  </tbody>\n",
       "</table>\n",
       "</div>"
      ],
      "text/plain": [
       "         diagnosis  mean_radius  mean_texture  mean_perimeter  mean_area  \\\n",
       "0                                                                          \n",
       "842302           M        17.99         10.38          122.80     1001.0   \n",
       "842517           M        20.57         17.77          132.90     1326.0   \n",
       "84300903         M        19.69         21.25          130.00     1203.0   \n",
       "84348301         M        11.42         20.38           77.58      386.1   \n",
       "84358402         M        20.29         14.34          135.10     1297.0   \n",
       "\n",
       "          mean_smoothness  mean_compactness  mean_concavity  mean_concave_pts  \\\n",
       "0                                                                               \n",
       "842302            0.11840           0.27760          0.3001           0.14710   \n",
       "842517            0.08474           0.07864          0.0869           0.07017   \n",
       "84300903          0.10960           0.15990          0.1974           0.12790   \n",
       "84348301          0.14250           0.28390          0.2414           0.10520   \n",
       "84358402          0.10030           0.13280          0.1980           0.10430   \n",
       "\n",
       "          mean_symmetry  mean_fractal_dim  std_radius  std_texture  \\\n",
       "0                                                                    \n",
       "842302           0.2419           0.07871      1.0950       0.9053   \n",
       "842517           0.1812           0.05667      0.5435       0.7339   \n",
       "84300903         0.2069           0.05999      0.7456       0.7869   \n",
       "84348301         0.2597           0.09744      0.4956       1.1560   \n",
       "84358402         0.1809           0.05883      0.7572       0.7813   \n",
       "\n",
       "          std_perimeter  std_area  std_smoothness  std_compactness  \\\n",
       "0                                                                    \n",
       "842302            8.589    153.40        0.006399          0.04904   \n",
       "842517            3.398     74.08        0.005225          0.01308   \n",
       "84300903          4.585     94.03        0.006150          0.04006   \n",
       "84348301          3.445     27.23        0.009110          0.07458   \n",
       "84358402          5.438     94.44        0.011490          0.02461   \n",
       "\n",
       "          std_concavity  std_concave_pts  std_symmetry  std_fractal_dim  \\\n",
       "0                                                                         \n",
       "842302          0.05373          0.01587       0.03003         0.006193   \n",
       "842517          0.01860          0.01340       0.01389         0.003532   \n",
       "84300903        0.03832          0.02058       0.02250         0.004571   \n",
       "84348301        0.05661          0.01867       0.05963         0.009208   \n",
       "84358402        0.05688          0.01885       0.01756         0.005115   \n",
       "\n",
       "          worst_radius  worst_texture  worst_perimeter  worst_area  \\\n",
       "0                                                                    \n",
       "842302           25.38          17.33           184.60      2019.0   \n",
       "842517           24.99          23.41           158.80      1956.0   \n",
       "84300903         23.57          25.53           152.50      1709.0   \n",
       "84348301         14.91          26.50            98.87       567.7   \n",
       "84358402         22.54          16.67           152.20      1575.0   \n",
       "\n",
       "          worst_smoothness  worst_compactness  worst_concavity  \\\n",
       "0                                                                \n",
       "842302              0.1622             0.6656           0.7119   \n",
       "842517              0.1238             0.1866           0.2416   \n",
       "84300903            0.1444             0.4245           0.4504   \n",
       "84348301            0.2098             0.8663           0.6869   \n",
       "84358402            0.1374             0.2050           0.4000   \n",
       "\n",
       "          worst_concave_pts  worst_symmetry  worst_fractal_dim  \n",
       "0                                                               \n",
       "842302               0.2654          0.4601            0.11890  \n",
       "842517               0.1860          0.2750            0.08902  \n",
       "84300903             0.2430          0.3613            0.08758  \n",
       "84348301             0.2575          0.6638            0.17300  \n",
       "84358402             0.1625          0.2364            0.07678  "
      ]
     },
     "execution_count": 8,
     "metadata": {},
     "output_type": "execute_result"
    }
   ],
   "source": [
    "bcwds.head(5)"
   ]
  },
  {
   "cell_type": "markdown",
   "metadata": {
    "slideshow": {
     "slide_type": "slide"
    }
   },
   "source": [
    "## Esercizio 1: Analisi esplorativa\n",
    "\n",
    "- **(1a)** Stampare il numero di valori \"M\" e \"B\" della variabile `diagnosis`\n",
    "- **(1b)** Rappresentare la distribuzione di valori di `diagnosis` in un diagramma a torta\n",
    "- **(1c)** Visualizzare le statistiche principali (media, dev. standard, ...) delle 10 variabili `mean_*`\n",
    "  - si trovano dalla 2ᵃ all'11ᵃ colonna del frame\n",
    "- **(1d)** Rappresentare la distribuzione di valori di `mean_area` in un'istogramma a 20 intervalli\n",
    "- **(1e)** Rappresentare la distribuzione congiunta di `mean_area` e `mean_concave_pts` in un grafico a dispersione"
   ]
  },
  {
   "cell_type": "markdown",
   "metadata": {
    "slideshow": {
     "slide_type": "slide"
    }
   },
   "source": [
    "## Distribuzione valori suddivisi per classi\n",
    "\n",
    "- In un problema di classificazione, è utile visualizzare quanto le variabili predittive siano correlate con la classe da predire\n",
    "- Negli ultimi punti dell'esercizio abbiamo generato grafici con la distribuzione delle variabili, ignorando la classe di appartenenza\n",
    "- Vogliamo ora integrare l'informazione della classe negli stessi grafici, per valutare quanto le variabili siano utili nella predizione della classe"
   ]
  },
  {
   "cell_type": "markdown",
   "metadata": {
    "slideshow": {
     "slide_type": "slide"
    }
   },
   "source": [
    "- Visualizziamo un'istogramma _stacked_ di `mean_area`, in cui in ogni intervallo si vede la suddivisione dei valori tra le due classi\n",
    "  - con `pivot(columns=\"diagnosis\")` sdoppiamo ciascuna colonna nel frame, suddividendo i valori relativi alle classi B e M\n",
    "  - con `[\"mean_area\"]` selezioniamo le due colonne `(\"mean_area\", *)`\n",
    "  - visualizziamole in un'istogramma, specificando `stacked=True` per far sì che le barre delle due colonne siano poste una sopra l'altra"
   ]
  },
  {
   "cell_type": "code",
   "execution_count": 15,
   "metadata": {},
   "outputs": [
    {
     "data": {
      "image/png": "[encoded data removed]",
      "text/plain": [
       "<Figure size 432x288 with 1 Axes>"
      ]
     },
     "metadata": {
      "needs_background": "light"
     },
     "output_type": "display_data"
    }
   ],
   "source": [
    "bcwds.pivot(columns=\"diagnosis\")[\"mean_area\"].plot.hist(bins=20, stacked=True);"
   ]
  },
  {
   "cell_type": "markdown",
   "metadata": {},
   "source": [
    "- Questo grafico evidenzia ad es. che la `mean_area` è tendenzialmente bassa nei casi B e alta nei casi M"
   ]
  },
  {
   "cell_type": "markdown",
   "metadata": {
    "slideshow": {
     "slide_type": "slide"
    }
   },
   "source": [
    "- Possiamo evidenziare le classi anche nei diagrammi a dispersione con la distribuzione tra due variabili, differenziando i punti ad es. per colore\n",
    "- Definiamo in un dizionario che associ un colore a ciascuna classe"
   ]
  },
  {
   "cell_type": "code",
   "execution_count": 16,
   "metadata": {},
   "outputs": [],
   "source": [
    "diagnosis_color_map = {\"B\": \"blue\", \"M\": \"red\"}"
   ]
  },
  {
   "cell_type": "markdown",
   "metadata": {},
   "source": [
    "- Col metodo `map`, convertiamo ciascun elemento in una serie (o frame) secpmdp un dizionario dato"
   ]
  },
  {
   "cell_type": "code",
   "execution_count": 17,
   "metadata": {},
   "outputs": [],
   "source": [
    "diagnosis_colors = bcwds[\"diagnosis\"].map(diagnosis_color_map)"
   ]
  },
  {
   "cell_type": "markdown",
   "metadata": {},
   "source": [
    "- Otteniamo così una serie di valori \"red\" e \"blue\""
   ]
  },
  {
   "cell_type": "code",
   "execution_count": 18,
   "metadata": {},
   "outputs": [
    {
     "data": {
      "text/plain": [
       "0\n",
       "926682     red\n",
       "926954     red\n",
       "927241     red\n",
       "92751     blue\n",
       "Name: diagnosis, dtype: object"
      ]
     },
     "execution_count": 18,
     "metadata": {},
     "output_type": "execute_result"
    }
   ],
   "source": [
    "diagnosis_colors.tail(4)"
   ]
  },
  {
   "cell_type": "markdown",
   "metadata": {
    "slideshow": {
     "slide_type": "slide"
    }
   },
   "source": [
    "- Usiamo questa serie come parametro `c` nel metodo `plot.scatter` per assegnare un colore differenziato ai punti del grafico a dispersione"
   ]
  },
  {
   "cell_type": "code",
   "execution_count": 19,
   "metadata": {},
   "outputs": [
    {
     "data": {
      "image/png": "[encoded data removed]",
      "text/plain": [
       "<Figure size 432x288 with 1 Axes>"
      ]
     },
     "metadata": {
      "needs_background": "light"
     },
     "output_type": "display_data"
    }
   ],
   "source": [
    "bcwds.plot.scatter(\"mean_area\", \"mean_concave_pts\", c=diagnosis_colors);"
   ]
  },
  {
   "cell_type": "markdown",
   "metadata": {
    "slideshow": {
     "slide_type": "slide"
    }
   },
   "source": [
    "## Classificazione lineare\n",
    "\n",
    "- Come per la regressione, anche per la classificazione i metodi più semplici si basano su modelli con relazioni lineari tra le variabili\n",
    "- Un classificatore a due classi _lineare_ è definito da un **iperpiano** che separa lo spazio delle variabili in due _semispazi_\n",
    "  - la classe prevista per un'osservazione (un punto) dipende dal semispazio in cui si trova\n",
    "- Se consideriamo uno spazio di due variabili (un piano), questo significa in pratica tracciare una retta che separi una classe dall'altra"
   ]
  },
  {
   "cell_type": "markdown",
   "metadata": {
    "slideshow": {
     "slide_type": "slide"
    }
   },
   "source": [
    "- Consideriamo ad esempio il piano visualizzato sopra con le due variabili `mean_area` e `mean_concave_pts` e le osservazioni differenziate per classe\n",
    "- Selezioniamo i dati su cui lavorare\n",
    "  - la variabile `y` da predire è la classe: B (benigno) o M (maligno)\n",
    "  - le variabili `X` sono `mean_area` ($x_1$) e `mean_concave_pts` ($x_2$), per ora ignoriamo le altre variabili"
   ]
  },
  {
   "cell_type": "code",
   "execution_count": 20,
   "metadata": {},
   "outputs": [],
   "source": [
    "y = bcwds[\"diagnosis\"]\n",
    "X2d = bcwds[[\"mean_area\", \"mean_concave_pts\"]]"
   ]
  },
  {
   "cell_type": "markdown",
   "metadata": {},
   "source": [
    "- Suddividiamo come al solito i dati in un training set e in un validation set con la funzione `train_test_split`"
   ]
  },
  {
   "cell_type": "code",
   "execution_count": 21,
   "metadata": {},
   "outputs": [],
   "source": [
    "from sklearn.model_selection import train_test_split\n",
    "\n",
    "X2d_train, X2d_val, y_train, y_val = train_test_split(\n",
    "    X2d, y,           # dati da suddividere\n",
    "    test_size=1/3,    # proporzione: 2/3 training, 1/3 validation\n",
    "    random_state=42   # seed per la riproducibilità\n",
    ")"
   ]
  },
  {
   "cell_type": "markdown",
   "metadata": {
    "slideshow": {
     "slide_type": "slide"
    }
   },
   "source": [
    "- Visualizziamo i dati di training su cui addestrare il classificatore\n",
    "  - applichiamo ad `y_train` la mappa dei colori definita sopra"
   ]
  },
  {
   "cell_type": "code",
   "execution_count": 22,
   "metadata": {},
   "outputs": [
    {
     "data": {
      "image/png": "[encoded data removed]",
      "text/plain": [
       "<Figure size 432x288 with 1 Axes>"
      ]
     },
     "metadata": {
      "needs_background": "light"
     },
     "output_type": "display_data"
    }
   ],
   "source": [
    "X2d_train.plot.scatter(\"mean_area\", \"mean_concave_pts\",\n",
    "                       c=y_train.map(diagnosis_color_map));"
   ]
  },
  {
   "cell_type": "markdown",
   "metadata": {
    "slideshow": {
     "slide_type": "slide"
    }
   },
   "source": [
    "- Per addestrare un classificatore lineare, dobbiamo individuare una retta che separi i punti rossi dai punti blu\n",
    "- In seguito, ciascuna nuova osservazione sarà classificata \"B\" (blu) o \"M\" (rossa) a seconda del lato della retta su cui si trova\n",
    "- Ipotizziamo ad esempio di individuare \"ad occhio\" come separazione la retta descritta dall'equazione\n",
    "$$ x_2 = -0.0001\\cdot x_1+0.15 $$\n",
    "- Possiamo rappresentare la retta sovrapposta ai dati similmente a come abbiamo fatto per i modelli di regressione\n",
    "  - campioniamo una serie di valori campione per $x_1$ (essendo una retta bastano i due estremi)\n",
    "  - estraiamo i valori corrispondenti di $x_2$"
   ]
  },
  {
   "cell_type": "code",
   "execution_count": 23,
   "metadata": {},
   "outputs": [],
   "source": [
    "sep_x1 = np.linspace(0, 1500, 2)\n",
    "sep_x2 = -0.0001 * sep_x1 + 0.15"
   ]
  },
  {
   "cell_type": "code",
   "execution_count": 24,
   "metadata": {
    "slideshow": {
     "slide_type": "slide"
    }
   },
   "outputs": [
    {
     "data": {
      "image/png": "[encoded data removed]",
      "text/plain": [
       "<Figure size 432x288 with 1 Axes>"
      ]
     },
     "metadata": {
      "needs_background": "light"
     },
     "output_type": "display_data"
    }
   ],
   "source": [
    "X2d_train.plot.scatter(\"mean_area\", \"mean_concave_pts\",\n",
    "                       c=y_train.map(diagnosis_color_map))\n",
    "plt.plot(sep_x1, sep_x2, c=\"green\", linewidth=2);"
   ]
  },
  {
   "cell_type": "markdown",
   "metadata": {},
   "source": [
    "- Assumiamo questa retta come modello di classificazione, classificando come B i punti al di sotto e come M quelli sopra"
   ]
  },
  {
   "cell_type": "markdown",
   "metadata": {
    "slideshow": {
     "slide_type": "slide"
    }
   },
   "source": [
    "## Esercizio 2: Estrazione predizioni classificazione\n",
    "\n",
    "- Creare un array `y_pred` che indichi la classe predetta (`\"M\"` o `\"B\"`) per ciascuna osservazione del validation set `X2d_val`\n",
    "- Consiglio: servirsi della funzione `np.where(B, xt, xf)`, che dato un array (o serie) booleano `B` ne restituisce uno di pari lunghezza con i valori `xt` e `xf` al posto di `True` e `False`"
   ]
  },
  {
   "cell_type": "code",
   "execution_count": 25,
   "metadata": {},
   "outputs": [
    {
     "data": {
      "text/plain": [
       "array(['pos', 'neg', 'pos', 'neg', 'pos', 'pos'], dtype='<U3')"
      ]
     },
     "execution_count": 25,
     "metadata": {},
     "output_type": "execute_result"
    }
   ],
   "source": [
    "# esempio\n",
    "foo = np.array([1, -2, 3, -4, 5, 6])\n",
    "np.where(foo > 0, \"pos\", \"neg\")"
   ]
  },
  {
   "cell_type": "code",
   "execution_count": 27,
   "metadata": {},
   "outputs": [],
   "source": [
    "y_pred = ..."
   ]
  },
  {
   "cell_type": "markdown",
   "metadata": {
    "slideshow": {
     "slide_type": "slide"
    }
   },
   "source": [
    "## Accuratezza delle predizioni\n",
    "\n",
    "- Per confrontare diversi classificatori, vogliamo una misura quantitativa della loro bontà\n",
    "- Nella predizione di valori continui (regressione), possiamo valutare un modello in base a quanto ciascun valore predetto si avvicini a quello reale\n",
    "  - questo è misurato con metriche quali ad es. MSE o R²\n",
    "- Nella classificazione, possiamo valutare direttamente se le classi predette coincidano o meno con quelle reali\n",
    "- Definiamo come **accuratezza** la percentuale di osservazioni del validation set di cui il modello predice correttamente la classe"
   ]
  },
  {
   "cell_type": "markdown",
   "metadata": {
    "slideshow": {
     "slide_type": "slide"
    }
   },
   "source": [
    "## Esercizio 3: Calcolo dell'accuratezza\n",
    "\n",
    "- **(3a)** Estrarre un array booleano `correct_class` che indichi per quali osservazioni del validation set la classe indicata in `y_pred` è corretta\n",
    "- **(3b)** Da questo calcolare l'accuratezza, ovvero la percentuale di classificazioni corrette"
   ]
  },
  {
   "cell_type": "code",
   "execution_count": 30,
   "metadata": {},
   "outputs": [],
   "source": [
    "correct_class = ..."
   ]
  },
  {
   "cell_type": "markdown",
   "metadata": {
    "slideshow": {
     "slide_type": "slide"
    }
   },
   "source": [
    "## Modelli di classificazione lineari\n",
    "\n",
    "- Abbiamo validato un modello di classificazione individuato \"ad occhio\", vediamo ora come addestrarne uno in modo automatico\n",
    "- Un modello di classificazione lineare a $n$ variabili $x_1,\\ldots,x_n$ consiste in generale nell'individuare un iperpiano di classificazione descritto dall'equazione:\n",
    "$$ w_1\\cdot x_1+\\ldots+w_n\\cdot x_n+b = 0 $$\n",
    "- In forma vettoriale:\n",
    "$$ \\mathbf{w}\\cdot\\mathbf{x}+b = 0 $$\n",
    "- L'addestramento del modello consiste nel determinare valori ottimali per il vettore $\\mathbf{w}$ (_weights_, pesi) e per il termine $b$ (_bias_, distanza dell'iperpiano dall'origine)"
   ]
  },
  {
   "cell_type": "markdown",
   "metadata": {
    "slideshow": {
     "slide_type": "slide"
    }
   },
   "source": [
    "## Perceptron\n",
    "\n",
    "- Il _perceptron_ è un algoritmo di apprendimento molto semplice, concettualmente simile alla discesa gradiente\n",
    "  - i parametri $\\mathbf{w}$ e $b$ sono inizializzati casualmente\n",
    "  - si itera il training set: per ogni istanza mal classificata, i parametri vengono aggiornati proporzionalmente ai valori di $\\mathbf{x}$ e ad un _learning rate_ preimpostato\n",
    "  - si possono eseguire molteplici iterazioni del training set\n",
    "- Per creare un modello perceptron, come per i modelli di regressione, iniziamo creando un'istanza della classe `Perceptron`\n",
    "  - ci sono diversi parametri impostabili per ottenere varianti (es. con regolarizzazione), ma quì non le consideriamo"
   ]
  },
  {
   "cell_type": "markdown",
   "metadata": {
    "slideshow": {
     "slide_type": "slide"
    }
   },
   "source": [
    "## Esercizio 4: Standardizzazione dei dati\n",
    "\n",
    "- Prima di procedere, dato che le variabili `mean_area` e `mean_concave_pts` hanno scale molto diverse, ne effettuiamo la standardizzazione (media 0 e dev. standard 1)\n",
    "  - evitiamo per ora di utilizzare una pipeline, per analizzare più agevolmente il modello\n",
    "- **(4a)** Utilizzare un filtro `StandardScaler` per ottenere un array `X2dn_train` con i dati in `X2d_train` standardizzati\n",
    "- **(4b)** Utilizzando lo stesso filtro, standardizzare i dati in `X2d_val` per ottenere `X2dn_val`\n",
    "- **(4c)** Creare un grafico a dispersione dei dati standardizzati in `X2dn_train` con classi differenziate\n",
    "  - si ottiene una figura identica a quella dei dati non standardizzati, con solamente gli intervalli degli assi cambiati"
   ]
  },
  {
   "cell_type": "code",
   "execution_count": 33,
   "metadata": {},
   "outputs": [],
   "source": [
    "from sklearn.preprocessing import StandardScaler"
   ]
  },
  {
   "cell_type": "code",
   "execution_count": 35,
   "metadata": {},
   "outputs": [],
   "source": [
    "scaler = ...\n",
    "X2dn_train = ..."
   ]
  },
  {
   "cell_type": "code",
   "execution_count": 37,
   "metadata": {},
   "outputs": [],
   "source": [
    "X2dn_val = ..."
   ]
  },
  {
   "cell_type": "markdown",
   "metadata": {
    "slideshow": {
     "slide_type": "slide"
    }
   },
   "source": [
    "- Creiamo un modello `Perceptron`"
   ]
  },
  {
   "cell_type": "code",
   "execution_count": 40,
   "metadata": {},
   "outputs": [],
   "source": [
    "from sklearn.linear_model import Perceptron\n",
    "model = Perceptron(random_state=42)"
   ]
  },
  {
   "cell_type": "markdown",
   "metadata": {},
   "source": [
    "- Addestriamo il modello sul training set standardizzato\n",
    "  - come nei modelli di regressione, passiamo separatamente i valori delle variabili predittive (X) e quelli della variabile da predire (y)"
   ]
  },
  {
   "cell_type": "code",
   "execution_count": 41,
   "metadata": {},
   "outputs": [
    {
     "data": {
      "text/plain": [
       "Perceptron(alpha=0.0001, class_weight=None, early_stopping=False, eta0=1.0,\n",
       "           fit_intercept=True, max_iter=1000, n_iter_no_change=5, n_jobs=None,\n",
       "           penalty=None, random_state=42, shuffle=True, tol=0.001,\n",
       "           validation_fraction=0.1, verbose=0, warm_start=False)"
      ]
     },
     "execution_count": 41,
     "metadata": {},
     "output_type": "execute_result"
    }
   ],
   "source": [
    "model.fit(X2dn_train, y_train)"
   ]
  },
  {
   "cell_type": "markdown",
   "metadata": {
    "slideshow": {
     "slide_type": "slide"
    }
   },
   "source": [
    "- Una volta addestrato il modello, possiamo trovare i valori dei pesi $\\mathbf{w}$ e del bias $b$ rispettivamente negli attributi `coef_[0]` e `intercept_[0]`\n",
    "  - lo `[0]` si riferisce al primo iperpiano, in questo caso è l'unico, in un modello a più di due classi sarebbero molteplici"
   ]
  },
  {
   "cell_type": "code",
   "execution_count": 42,
   "metadata": {},
   "outputs": [
    {
     "data": {
      "text/plain": [
       "array([0.55782253, 1.686364  ])"
      ]
     },
     "execution_count": 42,
     "metadata": {},
     "output_type": "execute_result"
    }
   ],
   "source": [
    "model.coef_[0]"
   ]
  },
  {
   "cell_type": "code",
   "execution_count": 43,
   "metadata": {},
   "outputs": [
    {
     "data": {
      "text/plain": [
       "-1.0"
      ]
     },
     "execution_count": 43,
     "metadata": {},
     "output_type": "execute_result"
    }
   ],
   "source": [
    "model.intercept_[0]"
   ]
  },
  {
   "cell_type": "markdown",
   "metadata": {},
   "source": [
    "- Ad esempio questi coefficienti indicano che l'iperpiano individuato dal modello è descritto dall'equazione\n",
    "$$ 0.558x_1+1.686x_2-1 = 0 $$\n",
    "- L'attributo `classes_` mostra le classi riconosciute dal classificatore\n",
    "  - la prima è quella a cui sono assegnati i punti sotto la retta, la seconda quella a cui sono assegnati i punti sopra"
   ]
  },
  {
   "cell_type": "code",
   "execution_count": 44,
   "metadata": {},
   "outputs": [
    {
     "data": {
      "text/plain": [
       "array(['B', 'M'], dtype='<U1')"
      ]
     },
     "execution_count": 44,
     "metadata": {},
     "output_type": "execute_result"
    }
   ],
   "source": [
    "model.classes_"
   ]
  },
  {
   "cell_type": "markdown",
   "metadata": {
    "slideshow": {
     "slide_type": "slide"
    }
   },
   "source": [
    "## Esercizio 5: Visualizzazione retta dal modello\n",
    "\n",
    "- Per visualizzare la retta del modello, la esprimiamo nella forma $x_2=\\ldots$\n",
    "$$ x_2 = -\\frac{w_1}{w_2}\\cdot x_1-\\frac{b}{w_2} $$\n",
    "- Implementare la funzione `separator_2d` in modo che, dato un modello e un array di valori $x_1$, restituisca l'array di corrispondenti valori $x_2$"
   ]
  },
  {
   "cell_type": "code",
   "execution_count": 46,
   "metadata": {},
   "outputs": [],
   "source": [
    "def separator_2d(model, x1):\n",
    "    return ..."
   ]
  },
  {
   "cell_type": "markdown",
   "metadata": {
    "slideshow": {
     "slide_type": "slide"
    }
   },
   "source": [
    "- Creiamo una funzione per visualizzare la retta del modello sovrapposta al grafico a dispersione dei dati, simile a quella che utilizzavamo nella regressione"
   ]
  },
  {
   "cell_type": "code",
   "execution_count": 48,
   "metadata": {},
   "outputs": [],
   "source": [
    "def plot_separator_on_data(X, y, model=None):\n",
    "    X = np.array(X)\n",
    "    colors = pd.Series(y).map(diagnosis_color_map)\n",
    "    plt.scatter(X[:, 0], X[:, 1], c=colors)\n",
    "    if model is not None:\n",
    "        xlim, ylim = plt.xlim(), plt.ylim()\n",
    "        sep_x = np.linspace(*xlim, 2)\n",
    "        sep_y = separator_2d(model, sep_x)\n",
    "        plt.plot(sep_x, sep_y, c=\"green\", linewidth=2)\n",
    "        plt.xlim(xlim); plt.ylim(ylim)"
   ]
  },
  {
   "cell_type": "markdown",
   "metadata": {
    "slideshow": {
     "slide_type": "slide"
    }
   },
   "source": [
    "- Visualizziamo la retta di separazione sovrapposta al validation set"
   ]
  },
  {
   "cell_type": "code",
   "execution_count": 49,
   "metadata": {},
   "outputs": [
    {
     "data": {
      "image/png": "[encoded data removed]",
      "text/plain": [
       "<Figure size 432x288 with 1 Axes>"
      ]
     },
     "metadata": {
      "needs_background": "light"
     },
     "output_type": "display_data"
    }
   ],
   "source": [
    "plot_separator_on_data(X2dn_val, y_val, model)"
   ]
  },
  {
   "cell_type": "markdown",
   "metadata": {
    "slideshow": {
     "slide_type": "slide"
    }
   },
   "source": [
    "- Dal modello addestrato possiamo ottenere le predizioni per una o più osservazioni con `predict`\n",
    "  - otteniamo ad esempio le predizioni per i primi 3 elementi del validation set"
   ]
  },
  {
   "cell_type": "code",
   "execution_count": 50,
   "metadata": {},
   "outputs": [
    {
     "data": {
      "text/plain": [
       "array(['B', 'M', 'M'], dtype='<U1')"
      ]
     },
     "execution_count": 50,
     "metadata": {},
     "output_type": "execute_result"
    }
   ],
   "source": [
    "model.predict(X2dn_val[:3])"
   ]
  },
  {
   "cell_type": "markdown",
   "metadata": {},
   "source": [
    "- L'accuratezza definita sopra è la metrica predefinita per i modelli di classificazione: possiamo calcolarla col metodo `score`\n",
    "  - come per calcolare R² nei modelli di regressione, passiamo X e y del validation set"
   ]
  },
  {
   "cell_type": "code",
   "execution_count": 51,
   "metadata": {},
   "outputs": [
    {
     "data": {
      "text/plain": [
       "0.8947368421052632"
      ]
     },
     "execution_count": 51,
     "metadata": {},
     "output_type": "execute_result"
    }
   ],
   "source": [
    "model.score(X2dn_val, y_val)"
   ]
  },
  {
   "cell_type": "markdown",
   "metadata": {},
   "source": [
    "- Il modello classifica correttamente quasi il 90\\% delle istanze del validation set"
   ]
  },
  {
   "cell_type": "markdown",
   "metadata": {
    "slideshow": {
     "slide_type": "slide"
    }
   },
   "source": [
    "## Matrice di confusione, precision e recall\n",
    "\n",
    "- Oltre all'accuratezza come percentuale di classificazioni corrette, esistono altri modi per valutare l'accuratezza di un classificatore\n",
    "  - particolarmente utili in caso di sbilanciamento tra le classi, per cui l'accuratezza può non essere un indicatore affidabile\n",
    "- Confrontando le classi predette da un classificatore su un set di dati con quelle reali, possiamo ottenere una **_matrice di confusione_**\n",
    "- Ogni cella in riga i e colonna j indica quanti esempi della classe i-esima sono stati etichettati dal classificatore come di classe j-esima\n",
    "  - lungo la diagonale (i=j) abbiamo quindi le quantità di classificazioni corrette, al di fuori abbiamo invece le quantità di errori"
   ]
  },
  {
   "cell_type": "markdown",
   "metadata": {
    "slideshow": {
     "slide_type": "slide"
    }
   },
   "source": [
    "- Otteniamo la matrice col metodo `confusion_matrix`, passando i vettori di classi reali e predette"
   ]
  },
  {
   "cell_type": "code",
   "execution_count": 52,
   "metadata": {},
   "outputs": [],
   "source": [
    "from sklearn.metrics import confusion_matrix\n",
    "y_pred = model.predict(X2dn_val)\n",
    "cm = confusion_matrix(y_val, y_pred)"
   ]
  },
  {
   "cell_type": "markdown",
   "metadata": {},
   "source": [
    "- Otteniamo la matrice in forma di array NumPy"
   ]
  },
  {
   "cell_type": "code",
   "execution_count": 53,
   "metadata": {},
   "outputs": [
    {
     "data": {
      "text/plain": [
       "array([[122,   0],\n",
       "       [ 20,  48]])"
      ]
     },
     "execution_count": 53,
     "metadata": {},
     "output_type": "execute_result"
    }
   ],
   "source": [
    "cm"
   ]
  },
  {
   "cell_type": "markdown",
   "metadata": {
    "slideshow": {
     "slide_type": "slide"
    }
   },
   "source": [
    "- Per maggiore chiarezza, inseriamo i valori in un frame etichettando righe e colonne con i nomi delle classi"
   ]
  },
  {
   "cell_type": "code",
   "execution_count": 54,
   "metadata": {},
   "outputs": [
    {
     "data": {
      "text/html": [
       "<div>\n",
       "<style scoped>\n",
       "    .dataframe tbody tr th:only-of-type {\n",
       "        vertical-align: middle;\n",
       "    }\n",
       "\n",
       "    .dataframe tbody tr th {\n",
       "        vertical-align: top;\n",
       "    }\n",
       "\n",
       "    .dataframe thead th {\n",
       "        text-align: right;\n",
       "    }\n",
       "</style>\n",
       "<table border=\"1\" class=\"dataframe\">\n",
       "  <thead>\n",
       "    <tr style=\"text-align: right;\">\n",
       "      <th></th>\n",
       "      <th>B</th>\n",
       "      <th>M</th>\n",
       "    </tr>\n",
       "  </thead>\n",
       "  <tbody>\n",
       "    <tr>\n",
       "      <td>B</td>\n",
       "      <td>122</td>\n",
       "      <td>0</td>\n",
       "    </tr>\n",
       "    <tr>\n",
       "      <td>M</td>\n",
       "      <td>20</td>\n",
       "      <td>48</td>\n",
       "    </tr>\n",
       "  </tbody>\n",
       "</table>\n",
       "</div>"
      ],
      "text/plain": [
       "     B   M\n",
       "B  122   0\n",
       "M   20  48"
      ]
     },
     "execution_count": 54,
     "metadata": {},
     "output_type": "execute_result"
    }
   ],
   "source": [
    "pd.DataFrame(cm, index=model.classes_, columns=model.classes_)"
   ]
  },
  {
   "cell_type": "markdown",
   "metadata": {},
   "source": [
    "- La matrice ad esempio ci indica che, di 68 esempi di immagini di cellule maligne (seconda riga) presenti nel validation set\n",
    "  - 48 sono state correttamente etichettate come tali\n",
    "  - 20 sono state erroneamente etichettate come benigne\n",
    "- L'accuratezza si può ottenere dalla matrice di confusione come somma dei valori nella diagonale divisa per la somma complessiva"
   ]
  },
  {
   "cell_type": "code",
   "execution_count": 55,
   "metadata": {},
   "outputs": [
    {
     "data": {
      "text/plain": [
       "0.8947368421052632"
      ]
     },
     "execution_count": 55,
     "metadata": {},
     "output_type": "execute_result"
    }
   ],
   "source": [
    "cm.diagonal().sum() / cm.sum()"
   ]
  },
  {
   "cell_type": "markdown",
   "metadata": {
    "slideshow": {
     "slide_type": "slide"
    }
   },
   "source": [
    "- Dalla sola matrice di confusione possiamo ricavare altre misure di performance importanti\n",
    "- Presa una classe di riferimento, ad es. \"M\" (cellule maligne), la **_precision_** indica la percentuale di esempi classificati come \"M\" che sono realmente tali"
   ]
  },
  {
   "cell_type": "code",
   "execution_count": 56,
   "metadata": {},
   "outputs": [
    {
     "data": {
      "text/plain": [
       "1.0"
      ]
     },
     "execution_count": 56,
     "metadata": {},
     "output_type": "execute_result"
    }
   ],
   "source": [
    "malignant_prc = cm[1, 1] / cm[:, 1].sum()\n",
    "malignant_prc"
   ]
  },
  {
   "cell_type": "markdown",
   "metadata": {},
   "source": [
    "- Di contro, la **_recall_** indica la percentuale di esempi realmente di classe \"M\" che sono stati rilevati essere tali dal modello"
   ]
  },
  {
   "cell_type": "code",
   "execution_count": 57,
   "metadata": {},
   "outputs": [
    {
     "data": {
      "text/plain": [
       "0.7058823529411765"
      ]
     },
     "execution_count": 57,
     "metadata": {},
     "output_type": "execute_result"
    }
   ],
   "source": [
    "malignant_rec = cm[1, 1] / cm[1, :].sum()\n",
    "malignant_rec"
   ]
  },
  {
   "cell_type": "markdown",
   "metadata": {
    "slideshow": {
     "slide_type": "slide"
    }
   },
   "source": [
    "- Precision e recall sono quindi due indicatori complementari della bontà di un modello\n",
    "- Generalmente, tarando il modello per migliorarne uno, l'altro peggiora\n",
    "- Come misura unica della performance di un modello è spesso usata quindi la **_F1-measure_**, ovvero la media armonica tra precision e recall\n",
    "$$ F_1 = \\frac{2\\cdot P\\cdot R}{P+R} $$"
   ]
  },
  {
   "cell_type": "code",
   "execution_count": 58,
   "metadata": {},
   "outputs": [
    {
     "data": {
      "text/plain": [
       "0.8275862068965517"
      ]
     },
     "execution_count": 58,
     "metadata": {},
     "output_type": "execute_result"
    }
   ],
   "source": [
    "2 * malignant_prc * malignant_rec / (malignant_prc + malignant_rec)"
   ]
  },
  {
   "cell_type": "markdown",
   "metadata": {
    "slideshow": {
     "slide_type": "slide"
    }
   },
   "source": [
    "- Per calcolare direttamente tali misure, scikit-learn fornisce le funzioni `precision_score`, `recall_score` e `f1_score`\n",
    "  - col parametro `pos_label` si indica la classe di riferimento\n",
    "  - si può in alternativa ottenere un vettore di punteggi per tutte le classi (`average=None`) o la loro media (`average=\"macro\"`)"
   ]
  },
  {
   "cell_type": "code",
   "execution_count": 59,
   "metadata": {},
   "outputs": [],
   "source": [
    "from sklearn.metrics import precision_score, recall_score, f1_score"
   ]
  },
  {
   "cell_type": "code",
   "execution_count": 60,
   "metadata": {},
   "outputs": [
    {
     "data": {
      "text/plain": [
       "1.0"
      ]
     },
     "execution_count": 60,
     "metadata": {},
     "output_type": "execute_result"
    }
   ],
   "source": [
    "precision_score(y_val, y_pred, pos_label=\"M\")"
   ]
  },
  {
   "cell_type": "code",
   "execution_count": 61,
   "metadata": {},
   "outputs": [
    {
     "data": {
      "text/plain": [
       "0.7058823529411765"
      ]
     },
     "execution_count": 61,
     "metadata": {},
     "output_type": "execute_result"
    }
   ],
   "source": [
    "recall_score(y_val, y_pred, pos_label=\"M\")"
   ]
  },
  {
   "cell_type": "code",
   "execution_count": 62,
   "metadata": {},
   "outputs": [
    {
     "data": {
      "text/plain": [
       "array([0.92424242, 0.82758621])"
      ]
     },
     "execution_count": 62,
     "metadata": {},
     "output_type": "execute_result"
    }
   ],
   "source": [
    "f1_score(y_val, y_pred, average=None)"
   ]
  },
  {
   "cell_type": "code",
   "execution_count": 63,
   "metadata": {},
   "outputs": [
    {
     "data": {
      "text/plain": [
       "0.875914315569488"
      ]
     },
     "execution_count": 63,
     "metadata": {},
     "output_type": "execute_result"
    }
   ],
   "source": [
    "f1_score(y_val, y_pred, average=\"macro\")"
   ]
  },
  {
   "cell_type": "markdown",
   "metadata": {
    "slideshow": {
     "slide_type": "slide"
    }
   },
   "source": [
    "## Regressione Logistica\n",
    "\n",
    "- La regressione _logistica_ è un modello di classificazione binaria basato sulla regressione lineare\n",
    "- Sia data una variabile y pari a 1 per gli esempi di una classe (positiva) e -1 per quelli dell'altra (negativa), si minimizza la funzione\n",
    "$$ \\sum_{i=1}^n \\log(\\exp(- y_i (X_i^T w + c)) + 1) $$\n",
    "- Per addestrare tale modello, creiamo un oggetto `LogisticRegression`\n",
    "  - `random_state` indica il seed per la casualità usato nell'addestramento\n",
    "  - `solver` indica quale implementazione utilizzare tra [diverse disponibili](https://scikit-learn.org/stable/modules/linear_model.html#logistic-regression) per l'addestramento, `\"saga\"` è l'unica che supporta tutte le opzioni per la regolarizzazione (che vediamo sotto)"
   ]
  },
  {
   "cell_type": "code",
   "execution_count": 64,
   "metadata": {},
   "outputs": [],
   "source": [
    "from sklearn.linear_model import LogisticRegression\n",
    "model = LogisticRegression(solver=\"saga\", random_state=42)"
   ]
  },
  {
   "cell_type": "markdown",
   "metadata": {
    "slideshow": {
     "slide_type": "slide"
    }
   },
   "source": [
    "- Come sopra, addestriamo il modello sui dati già standardizzati"
   ]
  },
  {
   "cell_type": "code",
   "execution_count": 65,
   "metadata": {},
   "outputs": [
    {
     "data": {
      "text/plain": [
       "LogisticRegression(C=1.0, class_weight=None, dual=False, fit_intercept=True,\n",
       "                   intercept_scaling=1, l1_ratio=None, max_iter=100,\n",
       "                   multi_class='warn', n_jobs=None, penalty='l2',\n",
       "                   random_state=42, solver='saga', tol=0.0001, verbose=0,\n",
       "                   warm_start=False)"
      ]
     },
     "execution_count": 65,
     "metadata": {},
     "output_type": "execute_result"
    }
   ],
   "source": [
    "model.fit(X2dn_train, y_train)"
   ]
  },
  {
   "cell_type": "markdown",
   "metadata": {},
   "source": [
    "- Anche quì possiamo accedere ai parametri del modello addestrato e usarli per visualizzare il piano di separazione"
   ]
  },
  {
   "cell_type": "code",
   "execution_count": 66,
   "metadata": {},
   "outputs": [
    {
     "data": {
      "text/plain": [
       "array([1.77607177, 2.9625736 ])"
      ]
     },
     "execution_count": 66,
     "metadata": {},
     "output_type": "execute_result"
    }
   ],
   "source": [
    "model.coef_[0]"
   ]
  },
  {
   "cell_type": "code",
   "execution_count": 67,
   "metadata": {},
   "outputs": [
    {
     "data": {
      "text/plain": [
       "-0.32964982072959875"
      ]
     },
     "execution_count": 67,
     "metadata": {},
     "output_type": "execute_result"
    }
   ],
   "source": [
    "model.intercept_[0]"
   ]
  },
  {
   "cell_type": "code",
   "execution_count": 68,
   "metadata": {
    "slideshow": {
     "slide_type": "slide"
    }
   },
   "outputs": [
    {
     "data": {
      "image/png": "[encoded data removed]",
      "text/plain": [
       "<Figure size 432x288 with 1 Axes>"
      ]
     },
     "metadata": {
      "needs_background": "light"
     },
     "output_type": "display_data"
    }
   ],
   "source": [
    "plot_separator_on_data(X2dn_train, y_train, model)"
   ]
  },
  {
   "cell_type": "markdown",
   "metadata": {
    "slideshow": {
     "slide_type": "slide"
    }
   },
   "source": [
    "- La funzione logistica del modello restituisce la probabilità di appartenenza ad una classe (quella considerata \"positiva\")\n",
    "  - sia essa p, quella per la negativa è implicitamente 1-p\n",
    "- Date delle osservazioni da classificare, possiamo ottenere per ciascuna la distribuzione di probabilità tra le classi\n",
    "  - possiamo in pratica vedere quanto il classificatore sia \"sicuro\" della classe da assegnare\n",
    "- Passiamo le osservazioni al metodo `predict_proba`, ad es. le prime 3 del validation set: otteniamo una riga per ciascuna con le probabilità delle due classi\n",
    "  - possiamo verificare l'ordine delle classi in `classes_`"
   ]
  },
  {
   "cell_type": "code",
   "execution_count": 69,
   "metadata": {},
   "outputs": [
    {
     "data": {
      "text/plain": [
       "array(['B', 'M'], dtype=object)"
      ]
     },
     "execution_count": 69,
     "metadata": {},
     "output_type": "execute_result"
    }
   ],
   "source": [
    "model.classes_"
   ]
  },
  {
   "cell_type": "code",
   "execution_count": 70,
   "metadata": {},
   "outputs": [
    {
     "data": {
      "text/plain": [
       "array([[0.88335058, 0.11664942],\n",
       "       [0.01288568, 0.98711432],\n",
       "       [0.06982745, 0.93017255]])"
      ]
     },
     "execution_count": 70,
     "metadata": {},
     "output_type": "execute_result"
    }
   ],
   "source": [
    "model.predict_proba(X2dn_val[:3])"
   ]
  },
  {
   "cell_type": "markdown",
   "metadata": {},
   "source": [
    "- Ad esempio la prima osservazione è \"B\" con probabilità 88\\%, mentre la seconda è \"M\" con probabilità 99\\%"
   ]
  },
  {
   "cell_type": "markdown",
   "metadata": {
    "slideshow": {
     "slide_type": "slide"
    }
   },
   "source": [
    "- Possiamo visualizzare in un grafico i dati sovrapposti al valore di probabilità restituito dal modello nello spazio dei dati"
   ]
  },
  {
   "cell_type": "code",
   "execution_count": 71,
   "metadata": {},
   "outputs": [
    {
     "data": {
      "image/png": "[encoded data removed]",
      "text/plain": [
       "<Figure size 432x288 with 2 Axes>"
      ]
     },
     "metadata": {
      "needs_background": "light"
     },
     "output_type": "display_data"
    }
   ],
   "source": [
    "# estraggo un campione di 100x100 punti nel piano\n",
    "mx1, mx2 = np.meshgrid(np.linspace(-2, 5.5, 100), np.linspace(-2, 4.5, 100))\n",
    "# estraggo le probabilità della classe M per ciascun punto\n",
    "my = model.predict_proba(np.c_[mx1.ravel(), mx2.ravel()])[:, 1].reshape(mx1.shape)\n",
    "# disegno il grafico\n",
    "plt.contourf(mx1, mx2, my, cmap=\"summer\")\n",
    "plt.scatter(*X2dn_train.T, c=y_train.map(diagnosis_color_map))\n",
    "plt.colorbar();"
   ]
  },
  {
   "cell_type": "markdown",
   "metadata": {
    "slideshow": {
     "slide_type": "slide"
    }
   },
   "source": [
    "## Esercizio 6: Accuratezza del modello\n",
    "\n",
    "In riferimento al modello di regressione logistica estrarre, calcolandole sul validation set:\n",
    "- **(6a)** l'accuratezza del modello\n",
    "- **(6b)** la matrice di confusione\n",
    "- **(6c)** la F1-measure relativa alla classe \"M\""
   ]
  },
  {
   "cell_type": "markdown",
   "metadata": {
    "slideshow": {
     "slide_type": "slide"
    }
   },
   "source": [
    "## Regolarizzazione\n",
    "\n",
    "- Anche nella regressione logistica possiamo applicare le tecniche di regolarizzazione viste nell'analisi di regressione\n",
    "- Di default nella classe `LogisticRegression` viene applicata la regolarizzazione L2, che mantiene limitati i pesi in $\\mathbf{w}$\n",
    "  - questo impedisce che a singole variabili siano dati pesi molto grandi\n",
    "- In `LogisticRegression` è possibile impostare un parametro `C`, che è il **reciproco** del peso della regolarizzazione (il parametro `alpha` visto in altre classi)\n",
    "  - `C` è il _costo_ assegnato alle classificazioni sbagliate nella funzione d'errore da minimizzare"
   ]
  },
  {
   "cell_type": "markdown",
   "metadata": {
    "slideshow": {
     "slide_type": "slide"
    }
   },
   "source": [
    "- Confrontiamo ad esempio tre modelli\n",
    "  - il `model` addestrato sopra con `C=1` (default)\n",
    "  - `model_high_C` con `C=1000` (scarsa regolarizzazione)\n",
    "  - `model_low_C` con `C=0.001` (regolarizzazione intensa)"
   ]
  },
  {
   "cell_type": "code",
   "execution_count": 76,
   "metadata": {},
   "outputs": [],
   "source": [
    "model_high_C = LogisticRegression(\n",
    "    solver=\"saga\", random_state=42, C=10000)\n",
    "model_low_C = LogisticRegression(\n",
    "    solver=\"saga\", random_state=42, C=0.01)"
   ]
  },
  {
   "cell_type": "markdown",
   "metadata": {},
   "source": [
    "- Addestriamo i due nuovi modelli sugli stessi dati a due variabili usati sopra"
   ]
  },
  {
   "cell_type": "code",
   "execution_count": 77,
   "metadata": {},
   "outputs": [],
   "source": [
    "model_high_C.fit(X2dn_train, y_train)\n",
    "model_low_C.fit(X2dn_train, y_train);"
   ]
  },
  {
   "cell_type": "markdown",
   "metadata": {
    "slideshow": {
     "slide_type": "slide"
    }
   },
   "source": [
    "- Mettiamo a confronto i parametri dei tre modelli addestrati\n",
    "  - creiamo una funzione per estrarli in forma di serie e la utilizziamo per costruire un frame"
   ]
  },
  {
   "cell_type": "code",
   "execution_count": 78,
   "metadata": {},
   "outputs": [
    {
     "data": {
      "text/html": [
       "<div>\n",
       "<style scoped>\n",
       "    .dataframe tbody tr th:only-of-type {\n",
       "        vertical-align: middle;\n",
       "    }\n",
       "\n",
       "    .dataframe tbody tr th {\n",
       "        vertical-align: top;\n",
       "    }\n",
       "\n",
       "    .dataframe thead th {\n",
       "        text-align: right;\n",
       "    }\n",
       "</style>\n",
       "<table border=\"1\" class=\"dataframe\">\n",
       "  <thead>\n",
       "    <tr style=\"text-align: right;\">\n",
       "      <th></th>\n",
       "      <th>low_C</th>\n",
       "      <th>mid_C</th>\n",
       "      <th>high_C</th>\n",
       "    </tr>\n",
       "  </thead>\n",
       "  <tbody>\n",
       "    <tr>\n",
       "      <td>w1</td>\n",
       "      <td>0.509911</td>\n",
       "      <td>1.776072</td>\n",
       "      <td>2.037397</td>\n",
       "    </tr>\n",
       "    <tr>\n",
       "      <td>w2</td>\n",
       "      <td>0.648664</td>\n",
       "      <td>2.962574</td>\n",
       "      <td>3.497886</td>\n",
       "    </tr>\n",
       "    <tr>\n",
       "      <td>b</td>\n",
       "      <td>-0.520482</td>\n",
       "      <td>-0.329650</td>\n",
       "      <td>-0.271896</td>\n",
       "    </tr>\n",
       "  </tbody>\n",
       "</table>\n",
       "</div>"
      ],
      "text/plain": [
       "       low_C     mid_C    high_C\n",
       "w1  0.509911  1.776072  2.037397\n",
       "w2  0.648664  2.962574  3.497886\n",
       "b  -0.520482 -0.329650 -0.271896"
      ]
     },
     "execution_count": 78,
     "metadata": {},
     "output_type": "execute_result"
    }
   ],
   "source": [
    "def params(model):\n",
    "    return pd.Series(list(model.coef_[0]) + [model.intercept_[0]],\n",
    "                     index=[\"w1\", \"w2\", \"b\"])\n",
    "models = {\"low_C\": model_low_C, \"mid_C\": model, \"high_C\": model_high_C}\n",
    "pd.DataFrame({name: params(model) for name, model in models.items()})"
   ]
  },
  {
   "cell_type": "markdown",
   "metadata": {},
   "source": [
    "- Si può notare che i pesi sono più alti per valori alti di C\n",
    "- Mettendo a confronto le rette dei tre modelli si può notare che, al calare di C, la retta tende ad avere un'inclinazione di (-)45°, in quanto w1 e w2 tendono ad eguagliarsi"
   ]
  },
  {
   "cell_type": "code",
   "execution_count": 79,
   "metadata": {
    "slideshow": {
     "slide_type": "slide"
    }
   },
   "outputs": [
    {
     "data": {
      "text/plain": [
       "(-1.5542730697958385, 4.273913739579122)"
      ]
     },
     "execution_count": 79,
     "metadata": {},
     "output_type": "execute_result"
    },
    {
     "data": {
      "image/png": "[encoded data removed]",
      "text/plain": [
       "<Figure size 360x360 with 1 Axes>"
      ]
     },
     "metadata": {
      "needs_background": "light"
     },
     "output_type": "display_data"
    }
   ],
   "source": [
    "plt.figure(figsize=(5, 5))\n",
    "plt.scatter(*X2dn_train.T, c=y_train.map(diagnosis_color_map))\n",
    "xlim, ylim = plt.xlim(), plt.ylim()\n",
    "sep_x = np.linspace(*xlim, 2)\n",
    "sep_y_hc = separator_2d(model_high_C, sep_x)\n",
    "sep_y_mc = separator_2d(model, sep_x)\n",
    "sep_y_lc = separator_2d(model_low_C, sep_x)\n",
    "plt.plot(sep_x, sep_y_hc)\n",
    "plt.plot(sep_x, sep_y_mc)\n",
    "plt.plot(sep_x, sep_y_lc)\n",
    "plt.legend([\"C=10000\", \"C=1\", \"C=0.01\"])\n",
    "plt.xlim(xlim); plt.ylim(ylim)"
   ]
  },
  {
   "cell_type": "markdown",
   "metadata": {
    "slideshow": {
     "slide_type": "slide"
    }
   },
   "source": [
    "- `LogisticRegression` supporta anche la regolarizzazione L1, che permette di azzerare i pesi delle variabili meno significative\n",
    "- Possiamo applicarla al posto della L2 specificando `penalty=\"l1\"`\n",
    "- Addestriamo ad esempio un modello con regolarizzazione L1 e C basso"
   ]
  },
  {
   "cell_type": "code",
   "execution_count": 80,
   "metadata": {},
   "outputs": [],
   "source": [
    "model = LogisticRegression(\n",
    "    solver=\"saga\", random_state=42, penalty=\"l1\", C=0.01)\n",
    "model.fit(X2dn_train, y_train);"
   ]
  },
  {
   "cell_type": "markdown",
   "metadata": {},
   "source": [
    "- Vediamone i parametri"
   ]
  },
  {
   "cell_type": "code",
   "execution_count": 81,
   "metadata": {},
   "outputs": [
    {
     "data": {
      "text/plain": [
       "array([0.        , 0.50493059])"
      ]
     },
     "execution_count": 81,
     "metadata": {},
     "output_type": "execute_result"
    }
   ],
   "source": [
    "model.coef_[0]"
   ]
  },
  {
   "cell_type": "code",
   "execution_count": 82,
   "metadata": {},
   "outputs": [
    {
     "data": {
      "text/plain": [
       "-0.5089287059647749"
      ]
     },
     "execution_count": 82,
     "metadata": {},
     "output_type": "execute_result"
    }
   ],
   "source": [
    "model.intercept_[0]"
   ]
  },
  {
   "cell_type": "markdown",
   "metadata": {},
   "source": [
    "- Il peso di una delle due variabili ($x_1$) è stato annullato per via della forte regolarizzazione"
   ]
  },
  {
   "cell_type": "markdown",
   "metadata": {
    "slideshow": {
     "slide_type": "slide"
    }
   },
   "source": [
    "- In pratica la retta individuata dal modello è parallela all'asse $x_1$"
   ]
  },
  {
   "cell_type": "code",
   "execution_count": 83,
   "metadata": {},
   "outputs": [
    {
     "data": {
      "image/png": "[encoded data removed]",
      "text/plain": [
       "<Figure size 432x288 with 1 Axes>"
      ]
     },
     "metadata": {
      "needs_background": "light"
     },
     "output_type": "display_data"
    }
   ],
   "source": [
    "plot_separator_on_data(X2dn_train, y_train, model)"
   ]
  },
  {
   "cell_type": "markdown",
   "metadata": {
    "slideshow": {
     "slide_type": "slide"
    }
   },
   "source": [
    "- Possiamo infine indicare `penalty=\"elasticnet\"` per applicare entrambe le tecniche di regolarizzazione\n",
    "  - con `C` si regola il peso complessivo dei due termini di regolarizzazione\n",
    "  - possiamo decidere la proporzione tra le due tramite il parametro `l1_ratio`, funzionante come nel modello di regressione `ElasticNet`"
   ]
  },
  {
   "cell_type": "code",
   "execution_count": 84,
   "metadata": {},
   "outputs": [],
   "source": [
    "model = LogisticRegression(\n",
    "    solver=\"saga\", random_state=42,\n",
    "    penalty=\"elasticnet\", C=0.1, l1_ratio=0.2)\n",
    "model.fit(X2dn_train, y_train);"
   ]
  },
  {
   "cell_type": "markdown",
   "metadata": {},
   "source": [
    "- In questo dataset relativamente semplice non si apprezzano particolari differenze nell'accuratezza"
   ]
  },
  {
   "cell_type": "code",
   "execution_count": 85,
   "metadata": {},
   "outputs": [
    {
     "data": {
      "text/plain": [
       "0.9"
      ]
     },
     "execution_count": 85,
     "metadata": {},
     "output_type": "execute_result"
    }
   ],
   "source": [
    "model.score(X2dn_val, y_val)"
   ]
  },
  {
   "cell_type": "markdown",
   "metadata": {},
   "source": [
    "- È anche possibile disabilitare completamente la regolarizzazione con `penalty=\"none\"`, in tal caso il parametro `C` è ininfluente"
   ]
  },
  {
   "cell_type": "markdown",
   "metadata": {
    "slideshow": {
     "slide_type": "slide"
    }
   },
   "source": [
    "## Cross-validation su classificazione\n",
    "\n",
    "- Abbiamo già visto la cross validation a k fold per la validazione di un modello\n",
    "  - ciascun 1/k dei dati è testato su un modello addestrato sui restanti\n",
    "- Dovendo addestrare un modello a riconoscere delle classi, è opportuno che le proporzioni di ciascuna classe nei fold siano uguali\n",
    "- `StratifiedKFold` è una variante di `KFold` che garantisce uguale distribuzione delle classi tra un fold e l'altro\n",
    "  - le opzioni impostabili sono le stesse (numero di fold e casualità)\n",
    "- Per confronto, creiamo sia uno splitter `KFold` che uno `StratifiedKFold` con stessi parametri (3 fold)"
   ]
  },
  {
   "cell_type": "code",
   "execution_count": 86,
   "metadata": {},
   "outputs": [],
   "source": [
    "from sklearn.model_selection import KFold, StratifiedKFold\n",
    "kf = KFold(3, shuffle=True, random_state=42)\n",
    "skf = StratifiedKFold(3, shuffle=True, random_state=42)"
   ]
  },
  {
   "cell_type": "markdown",
   "metadata": {},
   "source": [
    "- Confrontando le distribuzioni delle classi nei validation set dei 3 fold, vediamo che con `StratifiedKFold` sono eque"
   ]
  },
  {
   "cell_type": "code",
   "execution_count": 87,
   "metadata": {
    "slideshow": {
     "slide_type": "slide"
    }
   },
   "outputs": [
    {
     "name": "stdout",
     "output_type": "stream",
     "text": [
      "B    75\n",
      "M    52\n",
      "Name: diagnosis, dtype: int64\n",
      "B    75\n",
      "M    51\n",
      "Name: diagnosis, dtype: int64\n",
      "B    85\n",
      "M    41\n",
      "Name: diagnosis, dtype: int64\n"
     ]
    }
   ],
   "source": [
    "# KFold\n",
    "for train, val in kf.split(X2dn_train, y_train):\n",
    "    print(y_train.iloc[val].value_counts())"
   ]
  },
  {
   "cell_type": "code",
   "execution_count": 88,
   "metadata": {},
   "outputs": [
    {
     "name": "stdout",
     "output_type": "stream",
     "text": [
      "B    79\n",
      "M    48\n",
      "Name: diagnosis, dtype: int64\n",
      "B    78\n",
      "M    48\n",
      "Name: diagnosis, dtype: int64\n",
      "B    78\n",
      "M    48\n",
      "Name: diagnosis, dtype: int64\n"
     ]
    }
   ],
   "source": [
    "# StratifiedKFold\n",
    "for train, val in skf.split(X2dn_train, y_train):\n",
    "    print(y_train.iloc[val].value_counts())"
   ]
  },
  {
   "cell_type": "markdown",
   "metadata": {
    "slideshow": {
     "slide_type": "slide"
    }
   },
   "source": [
    "## Grid search con parametri opzionali\n",
    "\n",
    "- Abbiamo visto come, data una \"griglia\" con liste di valori possibili per gli iperparametri di un modello, la grid search testi tutte le combinazioni possibili\n",
    "- Esistono però casi in cui alcuni parametri sono significativi dipendentemente dai valori di altri\n",
    "- Ad es. in `LogisticRegression` ha senso specificare `l1_ratio` solo se `penalty=\"elasticnet\"`\n",
    "- Per risolvere il problema, possiamo scomporre le combinazioni possibili su più griglie di parametri"
   ]
  },
  {
   "cell_type": "markdown",
   "metadata": {
    "slideshow": {
     "slide_type": "slide"
    }
   },
   "source": [
    "- Ipotizziamo ad esempio di voler testare la `LogisticRegression` con:\n",
    "  - regolarizzazione di tipo \"l2\", \"l1\" o \"elasticnet\"\n",
    "  - parametro C pari a 0.1, 1 o 10\n",
    "  - nel caso di \"elasticnet\", `l1_ratio` pari a 0.2 o 0.5\n",
    "- Il modello base è dato da:"
   ]
  },
  {
   "cell_type": "code",
   "execution_count": 89,
   "metadata": {},
   "outputs": [],
   "source": [
    "model = LogisticRegression(solver=\"saga\", random_state=42)"
   ]
  },
  {
   "cell_type": "markdown",
   "metadata": {},
   "source": [
    "- Un modo per testare tutte le combinazioni sarebbe:"
   ]
  },
  {
   "cell_type": "code",
   "execution_count": 90,
   "metadata": {},
   "outputs": [],
   "source": [
    "grid = {\n",
    "    \"penalty\": [\"l2\", \"l1\", \"elasticnet\"],\n",
    "    \"C\": [0.1, 1, 10],\n",
    "    \"l1_ratio\": [0.2, 0.5]\n",
    "}"
   ]
  },
  {
   "cell_type": "markdown",
   "metadata": {},
   "source": [
    "- Però anche i casi con regolarizzazione L2 e L1 sarebbero ripetuti con due valori possibili di `l1_ratio`, che non ha alcuna influenza\n",
    "  - riceveremmo inoltre dei warning perché impostiamo inutilmente il parametro `l1_ratio`"
   ]
  },
  {
   "cell_type": "markdown",
   "metadata": {
    "slideshow": {
     "slide_type": "slide"
    }
   },
   "source": [
    "- L'alternativa è scomporre i casi da provare in due griglie:\n",
    "  - una con regolarizzazione L2 e L1 senza specificare `l1_ratio`\n",
    "  - una con elasticnet specificando i valori possibili di `l1_ratio`"
   ]
  },
  {
   "cell_type": "code",
   "execution_count": 91,
   "metadata": {},
   "outputs": [],
   "source": [
    "grid = [\n",
    "    {\n",
    "        \"penalty\": [\"l2\", \"l1\"],\n",
    "        \"C\": [0.1, 1, 10]\n",
    "    },\n",
    "    {\n",
    "        \"penalty\": [\"elasticnet\"],\n",
    "        \"C\": [0.1, 1, 10],\n",
    "        \"l1_ratio\": [0.2, 0.5]\n",
    "    }\n",
    "]"
   ]
  },
  {
   "cell_type": "markdown",
   "metadata": {},
   "source": [
    "- La grid search testerà tutte le 2×3=6 combinazioni possibili della prima griglia e le 1×3×2=6 combinazioni possibili della seconda"
   ]
  },
  {
   "cell_type": "markdown",
   "metadata": {
    "slideshow": {
     "slide_type": "slide"
    }
   },
   "source": [
    "- Definiamo la grid search, specificando il modello, la lista di griglie e lo splitter per la cross-validation (usiamo lo `StratifiedKFold` creato sopra)"
   ]
  },
  {
   "cell_type": "code",
   "execution_count": 92,
   "metadata": {},
   "outputs": [],
   "source": [
    "from sklearn.model_selection import GridSearchCV\n",
    "gs = GridSearchCV(model, grid, cv=skf)"
   ]
  },
  {
   "cell_type": "markdown",
   "metadata": {},
   "source": [
    "- Effettuiamo quindi la ricerca sui dati usati finora per il training"
   ]
  },
  {
   "cell_type": "code",
   "execution_count": 93,
   "metadata": {},
   "outputs": [],
   "source": [
    "gs.fit(X2dn_train, y_train);"
   ]
  },
  {
   "cell_type": "markdown",
   "metadata": {},
   "source": [
    "- Come al solito, possiamo verificare la migliore combinazione di iperparametri...\n",
    "  - la metrica di riferimento di default è l'accuratezza, cioè la percentuale di classificazioni corrette"
   ]
  },
  {
   "cell_type": "code",
   "execution_count": 94,
   "metadata": {},
   "outputs": [
    {
     "data": {
      "text/plain": [
       "{'C': 10, 'penalty': 'l1'}"
      ]
     },
     "execution_count": 94,
     "metadata": {},
     "output_type": "execute_result"
    }
   ],
   "source": [
    "gs.best_params_"
   ]
  },
  {
   "cell_type": "markdown",
   "metadata": {
    "slideshow": {
     "slide_type": "slide"
    }
   },
   "source": [
    "- ...e vedere tutti i dettagli, ad es. selezionando le 5 parametrizzazioni con accuratezza migliore"
   ]
  },
  {
   "cell_type": "code",
   "execution_count": 95,
   "metadata": {},
   "outputs": [
    {
     "data": {
      "text/html": [
       "<div>\n",
       "<style scoped>\n",
       "    .dataframe tbody tr th:only-of-type {\n",
       "        vertical-align: middle;\n",
       "    }\n",
       "\n",
       "    .dataframe tbody tr th {\n",
       "        vertical-align: top;\n",
       "    }\n",
       "\n",
       "    .dataframe thead th {\n",
       "        text-align: right;\n",
       "    }\n",
       "</style>\n",
       "<table border=\"1\" class=\"dataframe\">\n",
       "  <thead>\n",
       "    <tr style=\"text-align: right;\">\n",
       "      <th></th>\n",
       "      <th>mean_fit_time</th>\n",
       "      <th>std_fit_time</th>\n",
       "      <th>mean_score_time</th>\n",
       "      <th>std_score_time</th>\n",
       "      <th>param_C</th>\n",
       "      <th>param_penalty</th>\n",
       "      <th>param_l1_ratio</th>\n",
       "      <th>params</th>\n",
       "      <th>split0_test_score</th>\n",
       "      <th>split1_test_score</th>\n",
       "      <th>split2_test_score</th>\n",
       "      <th>mean_test_score</th>\n",
       "      <th>std_test_score</th>\n",
       "      <th>rank_test_score</th>\n",
       "    </tr>\n",
       "  </thead>\n",
       "  <tbody>\n",
       "    <tr>\n",
       "      <td>5</td>\n",
       "      <td>0.001920</td>\n",
       "      <td>0.000252</td>\n",
       "      <td>0.000416</td>\n",
       "      <td>0.000019</td>\n",
       "      <td>10</td>\n",
       "      <td>l1</td>\n",
       "      <td>NaN</td>\n",
       "      <td>{'C': 10, 'penalty': 'l1'}</td>\n",
       "      <td>0.929134</td>\n",
       "      <td>0.968254</td>\n",
       "      <td>0.888889</td>\n",
       "      <td>0.928760</td>\n",
       "      <td>0.032359</td>\n",
       "      <td>1</td>\n",
       "    </tr>\n",
       "    <tr>\n",
       "      <td>11</td>\n",
       "      <td>0.001767</td>\n",
       "      <td>0.000240</td>\n",
       "      <td>0.000404</td>\n",
       "      <td>0.000001</td>\n",
       "      <td>10</td>\n",
       "      <td>elasticnet</td>\n",
       "      <td>0.5</td>\n",
       "      <td>{'C': 10, 'l1_ratio': 0.5, 'penalty': 'elastic...</td>\n",
       "      <td>0.929134</td>\n",
       "      <td>0.968254</td>\n",
       "      <td>0.888889</td>\n",
       "      <td>0.928760</td>\n",
       "      <td>0.032359</td>\n",
       "      <td>1</td>\n",
       "    </tr>\n",
       "    <tr>\n",
       "      <td>4</td>\n",
       "      <td>0.001712</td>\n",
       "      <td>0.000265</td>\n",
       "      <td>0.000445</td>\n",
       "      <td>0.000040</td>\n",
       "      <td>10</td>\n",
       "      <td>l2</td>\n",
       "      <td>NaN</td>\n",
       "      <td>{'C': 10, 'penalty': 'l2'}</td>\n",
       "      <td>0.929134</td>\n",
       "      <td>0.960317</td>\n",
       "      <td>0.888889</td>\n",
       "      <td>0.926121</td>\n",
       "      <td>0.029201</td>\n",
       "      <td>3</td>\n",
       "    </tr>\n",
       "    <tr>\n",
       "      <td>10</td>\n",
       "      <td>0.001775</td>\n",
       "      <td>0.000240</td>\n",
       "      <td>0.000403</td>\n",
       "      <td>0.000002</td>\n",
       "      <td>10</td>\n",
       "      <td>elasticnet</td>\n",
       "      <td>0.2</td>\n",
       "      <td>{'C': 10, 'l1_ratio': 0.2, 'penalty': 'elastic...</td>\n",
       "      <td>0.929134</td>\n",
       "      <td>0.960317</td>\n",
       "      <td>0.888889</td>\n",
       "      <td>0.926121</td>\n",
       "      <td>0.029201</td>\n",
       "      <td>3</td>\n",
       "    </tr>\n",
       "    <tr>\n",
       "      <td>3</td>\n",
       "      <td>0.001745</td>\n",
       "      <td>0.000202</td>\n",
       "      <td>0.000431</td>\n",
       "      <td>0.000039</td>\n",
       "      <td>1</td>\n",
       "      <td>l1</td>\n",
       "      <td>NaN</td>\n",
       "      <td>{'C': 1, 'penalty': 'l1'}</td>\n",
       "      <td>0.921260</td>\n",
       "      <td>0.960317</td>\n",
       "      <td>0.888889</td>\n",
       "      <td>0.923483</td>\n",
       "      <td>0.029165</td>\n",
       "      <td>5</td>\n",
       "    </tr>\n",
       "  </tbody>\n",
       "</table>\n",
       "</div>"
      ],
      "text/plain": [
       "    mean_fit_time  std_fit_time  mean_score_time  std_score_time param_C  \\\n",
       "5        0.001920      0.000252         0.000416        0.000019      10   \n",
       "11       0.001767      0.000240         0.000404        0.000001      10   \n",
       "4        0.001712      0.000265         0.000445        0.000040      10   \n",
       "10       0.001775      0.000240         0.000403        0.000002      10   \n",
       "3        0.001745      0.000202         0.000431        0.000039       1   \n",
       "\n",
       "   param_penalty param_l1_ratio  \\\n",
       "5             l1            NaN   \n",
       "11    elasticnet            0.5   \n",
       "4             l2            NaN   \n",
       "10    elasticnet            0.2   \n",
       "3             l1            NaN   \n",
       "\n",
       "                                               params  split0_test_score  \\\n",
       "5                          {'C': 10, 'penalty': 'l1'}           0.929134   \n",
       "11  {'C': 10, 'l1_ratio': 0.5, 'penalty': 'elastic...           0.929134   \n",
       "4                          {'C': 10, 'penalty': 'l2'}           0.929134   \n",
       "10  {'C': 10, 'l1_ratio': 0.2, 'penalty': 'elastic...           0.929134   \n",
       "3                           {'C': 1, 'penalty': 'l1'}           0.921260   \n",
       "\n",
       "    split1_test_score  split2_test_score  mean_test_score  std_test_score  \\\n",
       "5            0.968254           0.888889         0.928760        0.032359   \n",
       "11           0.968254           0.888889         0.928760        0.032359   \n",
       "4            0.960317           0.888889         0.926121        0.029201   \n",
       "10           0.960317           0.888889         0.926121        0.029201   \n",
       "3            0.960317           0.888889         0.923483        0.029165   \n",
       "\n",
       "    rank_test_score  \n",
       "5                 1  \n",
       "11                1  \n",
       "4                 3  \n",
       "10                3  \n",
       "3                 5  "
      ]
     },
     "execution_count": 95,
     "metadata": {},
     "output_type": "execute_result"
    }
   ],
   "source": [
    "pd.DataFrame(gs.cv_results_).sort_values(\"rank_test_score\").head(5)"
   ]
  },
  {
   "cell_type": "markdown",
   "metadata": {
    "slideshow": {
     "slide_type": "slide"
    }
   },
   "source": [
    "## Esercizio 7: Addestramento sul dataset completo\n",
    "\n",
    "Effettuiamo ora esperimenti sul dataset completo con tutte le 30 variabili"
   ]
  },
  {
   "cell_type": "code",
   "execution_count": 96,
   "metadata": {},
   "outputs": [],
   "source": [
    "X = bcwds.drop(columns=\"diagnosis\")\n",
    "y = bcwds[\"diagnosis\"]"
   ]
  },
  {
   "cell_type": "markdown",
   "metadata": {},
   "source": [
    "- **(7a)** Addestrare un modello di regressione logistica con standardizzazione dei dati e regolarizzazione L1 con C=0.1 e stampare i pesi del modello etichettati con i nomi delle colonne\n",
    "  - verificare quante e quali delle 30 colonne risultano significative\n",
    "- **(7b)** Effettuare una grid search per ricercare i parametri migliori della regressione logistica sull'intero set di dati con cross-validation a 3 fold stratificati (riutilizzare l'oggetto `skf` sopra), testando tutte le configurazioni significative e stampando i dettagli delle 5 con migliore accuratezza\n",
    "  - con e senza standardizzazione dei dati\n",
    "  - con regolarizzazione \"l2\", \"l1\", \"elasticnet\" o \"none\" (ne L1 ne L2)\n",
    "  - con parametro C pari a 0.01, 0.1, 1, 10 o 100\n",
    "  - con `l1_ratio` pari a 0.2 o 0.5"
   ]
  },
  {
   "cell_type": "code",
   "execution_count": 97,
   "metadata": {},
   "outputs": [],
   "source": [
    "# usare una pipeline per effettuare la standardizzazione\n",
    "from sklearn.pipeline import Pipeline"
   ]
  }
 ],
 "metadata": {
  "language_info": {
   "codemirror_mode": {
    "name": "ipython",
    "version": 3
   },
   "file_extension": ".py",
   "mimetype": "text/x-python",
   "name": "python",
   "nbconvert_exporter": "python",
   "pygments_lexer": "ipython3",
   "version": "3.7.1"
  }
 },
 "nbformat": 4,
 "nbformat_minor": 4
}
