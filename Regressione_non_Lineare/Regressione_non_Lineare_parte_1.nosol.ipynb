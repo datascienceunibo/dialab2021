{
 "cells": [
  {
   "cell_type": "markdown",
   "metadata": {
    "slideshow": {
     "slide_type": "slide"
    }
   },
   "source": [
    "# Regressione non Lineare (parte 1)\n",
    "\n",
    "**Programmazione di Applicazioni Data Intensive**  \n",
    "Laurea in Ingegneria e Scienze Informatiche  \n",
    "DISI - Università di Bologna, Cesena\n",
    "\n",
    "Proff. Gianluca Moro, Roberto Pasolini  \n",
    "`nome.cognome@unibo.it`"
   ]
  },
  {
   "cell_type": "markdown",
   "metadata": {
    "slideshow": {
     "slide_type": "slide"
    }
   },
   "source": [
    "## Setup\n",
    "\n",
    "- Importare i package necessari"
   ]
  },
  {
   "cell_type": "code",
   "execution_count": 1,
   "metadata": {},
   "outputs": [],
   "source": [
    "import numpy as np\n",
    "import pandas as pd\n",
    "import matplotlib.pyplot as plt\n",
    "import sklearn"
   ]
  },
  {
   "cell_type": "markdown",
   "metadata": {},
   "source": [
    "- In Jupyter, configurare l'output di matplotlib integrato nel notebook"
   ]
  },
  {
   "cell_type": "code",
   "execution_count": 2,
   "metadata": {},
   "outputs": [],
   "source": [
    "%matplotlib inline"
   ]
  },
  {
   "cell_type": "markdown",
   "metadata": {
    "slideshow": {
     "slide_type": "slide"
    }
   },
   "source": [
    "## Ripasso: Regressione lineare\n",
    "\n",
    "- Un _modello di regressione_ fornisce una stima $\\hat{y}$ del valore $y$ di una variabile _dipendente_ basata sui valori $x_1,\\ldots,x_n$ di una o più variabili _indipendenti_\n",
    "- In un modello di regressione _lineare_, il valore della variabile dipendente è previsto come combinazione lineare di quelli delle variabili indipendenti\n",
    "  - ciascuna variabile indipendente $x_i$ è moltiplicata per un coefficiente $\\theta_i$\n",
    "  - viene aggiunto un termine noto (_intercetta_) $\\theta_0$\n",
    "$$ \\hat{y} = \\theta_0+\\theta_1\\cdot x_1+\\ldots+\\theta_n\\cdot x_n $$"
   ]
  },
  {
   "cell_type": "markdown",
   "metadata": {
    "slideshow": {
     "slide_type": "slide"
    }
   },
   "source": [
    "## Caso di studio 1: predizione consumo elettricità\n",
    "\n",
    "- Carichiamo i dati già visti nel laboratorio precedente: per ogni giorno degli anni dal 2015 al 2017 abbiamo la temperatura media in una città e il picco registrato di consumo di corrente elettrica\n",
    "  - con l'opzione `index_col` specifichiamo che la colonna `date` costituisce l'indice del DataFrame\n",
    "  - con `parse_dates` indichiamo che i suoi valori vanno interpretati come date"
   ]
  },
  {
   "cell_type": "code",
   "execution_count": 3,
   "metadata": {},
   "outputs": [],
   "source": [
    "import os.path\n",
    "if not os.path.exists(\"power.csv\"):\n",
    "    from urllib.request import urlretrieve\n",
    "    urlretrieve(\"https://git.io/vpaM1\", \"power.csv\")"
   ]
  },
  {
   "cell_type": "code",
   "execution_count": 4,
   "metadata": {},
   "outputs": [],
   "source": [
    "data = pd.read_csv(\"https://git.io/vpaM1\", index_col=\"date\", parse_dates=[\"date\"])"
   ]
  },
  {
   "cell_type": "code",
   "execution_count": 5,
   "metadata": {
    "slideshow": {
     "slide_type": "slide"
    }
   },
   "outputs": [
    {
     "data": {
      "text/html": [
       "<div>\n",
       "<style scoped>\n",
       "    .dataframe tbody tr th:only-of-type {\n",
       "        vertical-align: middle;\n",
       "    }\n",
       "\n",
       "    .dataframe tbody tr th {\n",
       "        vertical-align: top;\n",
       "    }\n",
       "\n",
       "    .dataframe thead th {\n",
       "        text-align: right;\n",
       "    }\n",
       "</style>\n",
       "<table border=\"1\" class=\"dataframe\">\n",
       "  <thead>\n",
       "    <tr style=\"text-align: right;\">\n",
       "      <th></th>\n",
       "      <th>demand</th>\n",
       "      <th>temp</th>\n",
       "    </tr>\n",
       "    <tr>\n",
       "      <th>date</th>\n",
       "      <th></th>\n",
       "      <th></th>\n",
       "    </tr>\n",
       "  </thead>\n",
       "  <tbody>\n",
       "    <tr>\n",
       "      <td>2015-01-01</td>\n",
       "      <td>1.736065</td>\n",
       "      <td>1.7</td>\n",
       "    </tr>\n",
       "    <tr>\n",
       "      <td>2015-01-02</td>\n",
       "      <td>1.831672</td>\n",
       "      <td>2.2</td>\n",
       "    </tr>\n",
       "    <tr>\n",
       "      <td>2015-01-03</td>\n",
       "      <td>1.714934</td>\n",
       "      <td>14.4</td>\n",
       "    </tr>\n",
       "    <tr>\n",
       "      <td>2015-01-04</td>\n",
       "      <td>1.628577</td>\n",
       "      <td>15.6</td>\n",
       "    </tr>\n",
       "    <tr>\n",
       "      <td>2015-01-05</td>\n",
       "      <td>2.045394</td>\n",
       "      <td>0.0</td>\n",
       "    </tr>\n",
       "    <tr>\n",
       "      <td>2015-01-06</td>\n",
       "      <td>2.122799</td>\n",
       "      <td>-6.7</td>\n",
       "    </tr>\n",
       "    <tr>\n",
       "      <td>2015-01-07</td>\n",
       "      <td>2.243265</td>\n",
       "      <td>-9.4</td>\n",
       "    </tr>\n",
       "    <tr>\n",
       "      <td>2015-01-08</td>\n",
       "      <td>2.240975</td>\n",
       "      <td>-8.9</td>\n",
       "    </tr>\n",
       "  </tbody>\n",
       "</table>\n",
       "</div>"
      ],
      "text/plain": [
       "              demand  temp\n",
       "date                      \n",
       "2015-01-01  1.736065   1.7\n",
       "2015-01-02  1.831672   2.2\n",
       "2015-01-03  1.714934  14.4\n",
       "2015-01-04  1.628577  15.6\n",
       "2015-01-05  2.045394   0.0\n",
       "2015-01-06  2.122799  -6.7\n",
       "2015-01-07  2.243265  -9.4\n",
       "2015-01-08  2.240975  -8.9"
      ]
     },
     "execution_count": 5,
     "metadata": {},
     "output_type": "execute_result"
    }
   ],
   "source": [
    "data.head(8)"
   ]
  },
  {
   "cell_type": "markdown",
   "metadata": {
    "slideshow": {
     "slide_type": "slide"
    }
   },
   "source": [
    "## Predizione nei mesi estivi\n",
    "\n",
    "- Nella scorsa esercitazione, abbiamo estratto un modello di predizione sui consumi dei mesi estivi, imputabili all'aria condizionata\n",
    "- Selezioniamo dal frame caricato solamente le righe relative ai mesi di giugno, luglio e agosto"
   ]
  },
  {
   "cell_type": "code",
   "execution_count": 6,
   "metadata": {},
   "outputs": [],
   "source": [
    "data_summer = data[data.index.month.isin([6, 7, 8])]"
   ]
  },
  {
   "cell_type": "code",
   "execution_count": 7,
   "metadata": {},
   "outputs": [
    {
     "data": {
      "text/html": [
       "<div>\n",
       "<style scoped>\n",
       "    .dataframe tbody tr th:only-of-type {\n",
       "        vertical-align: middle;\n",
       "    }\n",
       "\n",
       "    .dataframe tbody tr th {\n",
       "        vertical-align: top;\n",
       "    }\n",
       "\n",
       "    .dataframe thead th {\n",
       "        text-align: right;\n",
       "    }\n",
       "</style>\n",
       "<table border=\"1\" class=\"dataframe\">\n",
       "  <thead>\n",
       "    <tr style=\"text-align: right;\">\n",
       "      <th></th>\n",
       "      <th>demand</th>\n",
       "      <th>temp</th>\n",
       "    </tr>\n",
       "    <tr>\n",
       "      <th>date</th>\n",
       "      <th></th>\n",
       "      <th></th>\n",
       "    </tr>\n",
       "  </thead>\n",
       "  <tbody>\n",
       "    <tr>\n",
       "      <td>2015-06-01</td>\n",
       "      <td>1.640036</td>\n",
       "      <td>15.6</td>\n",
       "    </tr>\n",
       "    <tr>\n",
       "      <td>2015-06-02</td>\n",
       "      <td>1.663211</td>\n",
       "      <td>17.2</td>\n",
       "    </tr>\n",
       "    <tr>\n",
       "      <td>2015-06-03</td>\n",
       "      <td>1.728381</td>\n",
       "      <td>21.7</td>\n",
       "    </tr>\n",
       "  </tbody>\n",
       "</table>\n",
       "</div>"
      ],
      "text/plain": [
       "              demand  temp\n",
       "date                      \n",
       "2015-06-01  1.640036  15.6\n",
       "2015-06-02  1.663211  17.2\n",
       "2015-06-03  1.728381  21.7"
      ]
     },
     "execution_count": 7,
     "metadata": {},
     "output_type": "execute_result"
    }
   ],
   "source": [
    "data_summer.head(3)"
   ]
  },
  {
   "cell_type": "markdown",
   "metadata": {
    "slideshow": {
     "slide_type": "slide"
    }
   },
   "source": [
    "### Addestramento di un modello\n",
    "\n",
    "- Vediamo ad esempio come addestrare un modello sul primo caso di studio, la predizione del consumo di corrente dalla temperatura nei mesi estivi\n",
    "- Per addestrare un modello di regressione con scikit-learn, dapprima creiamo un oggetto modello \"vuoto\", non addestrato\n",
    "  - nel costruttore di un modello è possibile passare dei parametri che influenzano l'addestramento, in questo caso non specifichiamo nulla per lasciare la configurazione di default"
   ]
  },
  {
   "cell_type": "code",
   "execution_count": 8,
   "metadata": {},
   "outputs": [],
   "source": [
    "from sklearn.linear_model import LinearRegression\n",
    "lrm = LinearRegression()"
   ]
  },
  {
   "cell_type": "markdown",
   "metadata": {
    "slideshow": {
     "slide_type": "slide"
    }
   },
   "source": [
    "- I dati necessari per addestrare il modello sono\n",
    "  - una matrice $\\mathbf{X}$ con $m\\times n$ valori, ovvero $m$ osservazioni di $n$ variabili indipendenti\n",
    "  - un vettore $\\mathbf{y}$ con i corrispondenti $m$ valori della variabile dipendente\n",
    "- Prendiamo questi due componenti dal frame `data_summer`\n",
    "  - per X scriviamo `[[\"temp\"]]` invece di `[\"temp\"]` in modo da estrarre un frame $m\\times 1$, cioè $m$ osservazioni di una singola variabile"
   ]
  },
  {
   "cell_type": "code",
   "execution_count": 9,
   "metadata": {},
   "outputs": [],
   "source": [
    "X = data_summer[[\"temp\"]]\n",
    "y = data_summer[\"demand\"]"
   ]
  },
  {
   "cell_type": "markdown",
   "metadata": {
    "slideshow": {
     "slide_type": "slide"
    }
   },
   "source": [
    "- Questi dati vanno passati al metodo `fit`, che esegue l'addestramento del modello"
   ]
  },
  {
   "cell_type": "code",
   "execution_count": 10,
   "metadata": {},
   "outputs": [
    {
     "data": {
      "text/plain": [
       "LinearRegression(copy_X=True, fit_intercept=True, n_jobs=None, normalize=False)"
      ]
     },
     "execution_count": 10,
     "metadata": {},
     "output_type": "execute_result"
    }
   ],
   "source": [
    "lrm.fit(X, y)"
   ]
  },
  {
   "cell_type": "markdown",
   "metadata": {},
   "source": [
    "- `lrm` è ora un modello addestrato e può essere utilizzato per effettuare predizioni"
   ]
  },
  {
   "cell_type": "markdown",
   "metadata": {
    "slideshow": {
     "slide_type": "slide"
    }
   },
   "source": [
    "### Inferenza\n",
    "\n",
    "- Una volta che il modello è addestrato, possiamo ottenere predizioni col metodo `predict`\n",
    "  - va data in input una matrice o frame $m\\times n$ di osservazioni delle variabili indipendenti\n",
    "  - è restituito un vettore di $m$ valori della variabile dipendente previsti dal modello\n",
    "- Ad esempio, passiamo gli stessi dati usati per l'addestramento per vedere le predizioni del modello"
   ]
  },
  {
   "cell_type": "code",
   "execution_count": 11,
   "metadata": {},
   "outputs": [],
   "source": [
    "preds = lrm.predict(X)"
   ]
  },
  {
   "cell_type": "markdown",
   "metadata": {},
   "source": [
    "- Vediamo alcuni dei valori predetti"
   ]
  },
  {
   "cell_type": "code",
   "execution_count": 12,
   "metadata": {},
   "outputs": [
    {
     "data": {
      "text/plain": [
       "array([1.1829682 , 1.31947545, 1.7034021 , 1.9849483 , 2.22383599])"
      ]
     },
     "execution_count": 12,
     "metadata": {},
     "output_type": "execute_result"
    }
   ],
   "source": [
    "preds[:5]"
   ]
  },
  {
   "cell_type": "markdown",
   "metadata": {
    "slideshow": {
     "slide_type": "slide"
    }
   },
   "source": [
    "- `predict` restituisce **sempre** un array NumPy, per ottenere una serie pandas è necessario applicare manualmente le etichette\n",
    "  - si possono copiare quelle delle righe del frame dato in input"
   ]
  },
  {
   "cell_type": "code",
   "execution_count": 13,
   "metadata": {},
   "outputs": [],
   "source": [
    "preds = pd.Series(preds, index=data_summer.index)"
   ]
  },
  {
   "cell_type": "code",
   "execution_count": 14,
   "metadata": {},
   "outputs": [
    {
     "data": {
      "text/plain": [
       "date\n",
       "2015-06-01    1.182968\n",
       "2015-06-02    1.319475\n",
       "2015-06-03    1.703402\n",
       "2015-06-04    1.984948\n",
       "2015-06-05    2.223836\n",
       "dtype: float64"
      ]
     },
     "execution_count": 14,
     "metadata": {},
     "output_type": "execute_result"
    }
   ],
   "source": [
    "preds.head()"
   ]
  },
  {
   "cell_type": "markdown",
   "metadata": {
    "slideshow": {
     "slide_type": "slide"
    }
   },
   "source": [
    "### Parametri del modello\n",
    "\n",
    "- Una volta addestrato il modello possiamo consultarne i parametri tramite due attributi:\n",
    "  - `coef_` restituisce un array dei coefficienti angolari (uno solo nel caso univariato)\n",
    "  - `intercept_` restituisce il valore dell'intercetta"
   ]
  },
  {
   "cell_type": "code",
   "execution_count": 15,
   "metadata": {},
   "outputs": [
    {
     "data": {
      "text/plain": [
       "array([0.08531703])"
      ]
     },
     "execution_count": 15,
     "metadata": {},
     "output_type": "execute_result"
    }
   ],
   "source": [
    "lrm.coef_"
   ]
  },
  {
   "cell_type": "code",
   "execution_count": 16,
   "metadata": {},
   "outputs": [
    {
     "data": {
      "text/plain": [
       "-0.14797750194929682"
      ]
     },
     "execution_count": 16,
     "metadata": {},
     "output_type": "execute_result"
    }
   ],
   "source": [
    "lrm.intercept_"
   ]
  },
  {
   "cell_type": "markdown",
   "metadata": {},
   "source": [
    "- Questi sono i valori di $\\alpha$ e $\\beta$ nella formula del modello lineare univariato $h(x)=\\alpha\\cdot x+\\beta$"
   ]
  },
  {
   "cell_type": "markdown",
   "metadata": {
    "slideshow": {
     "slide_type": "slide"
    }
   },
   "source": [
    "## Misurare l'errore del modello\n",
    "\n",
    "- Per misurare l'errore che un modello $h(\\mathbf{x})$ compie su un set di dati abbiamo usato nello scorso laboratorio l'_errore quadratico medio_ (_mean squared error_, MSE)\n",
    "$$ \\mathrm{MSE} = \\frac{1}{m}\\sum_{i=1}^n\\left(h(\\mathbf{x}_i)-y_i\\right)^2 $$\n",
    "- Possiamo calcolarlo applicando la formula ai valori reali `y` e a quelli dati dal modello `preds`"
   ]
  },
  {
   "cell_type": "code",
   "execution_count": 17,
   "metadata": {},
   "outputs": [
    {
     "data": {
      "text/plain": [
       "0.022015530001979786"
      ]
     },
     "execution_count": 17,
     "metadata": {},
     "output_type": "execute_result"
    }
   ],
   "source": [
    "np.mean(np.square(preds - y))"
   ]
  },
  {
   "cell_type": "markdown",
   "metadata": {},
   "source": [
    "- In alternativa, possiamo usare l'apposita funzione `mean_squared_error` fornita da scikit-learn nel modulo `metrics`"
   ]
  },
  {
   "cell_type": "code",
   "execution_count": 18,
   "metadata": {},
   "outputs": [],
   "source": [
    "from sklearn.metrics import mean_squared_error"
   ]
  },
  {
   "cell_type": "markdown",
   "metadata": {},
   "source": [
    "- Alla funzione vanno passati\n",
    "  - il vettore (o serie) dei valori reali della variabile dipendente\n",
    "  - il vettore dei corrispondenti valori predetti"
   ]
  },
  {
   "cell_type": "code",
   "execution_count": 19,
   "metadata": {},
   "outputs": [
    {
     "data": {
      "text/plain": [
       "0.022015530001979786"
      ]
     },
     "execution_count": 19,
     "metadata": {},
     "output_type": "execute_result"
    }
   ],
   "source": [
    "mean_squared_error(y, preds)"
   ]
  },
  {
   "cell_type": "markdown",
   "metadata": {
    "slideshow": {
     "slide_type": "slide"
    }
   },
   "source": [
    "## Errore relativo\n",
    "\n",
    "- Il MSE è utilizzato per confrontare diversi modelli addestrati sugli stessi dati\n",
    "  - si usa in particolare in fase di addestramento, in quanto è facile estrarne la derivata\n",
    "- Esistono però altre metriche di errore, più facilmente interpretabili\n",
    "- L'_errore relativo_ misura intuitivamente di quanto il modello si sbaglia in percentuale rispetto al valore reale\n",
    "$$ \\mathrm{errore} = \\frac{1}{m}\\sum_{i=1}^m\\left\\vert\\frac{h(\\mathbf{x}_i)-y_i}{y_i}\\right\\vert $$\n",
    "- Come esempio su un singolo caso, se il valore reale da predire è 2 GW, ad una stima di 2,2 GW corrisponde un errore relativo del 10\\%"
   ]
  },
  {
   "cell_type": "markdown",
   "metadata": {
    "slideshow": {
     "slide_type": "slide"
    }
   },
   "source": [
    "- Definiamo una funzione per il calcolo, compatibile con quella usata sopra per il MSE"
   ]
  },
  {
   "cell_type": "code",
   "execution_count": 20,
   "metadata": {},
   "outputs": [],
   "source": [
    "def relative_error(y_true, y_pred):\n",
    "    return np.mean(np.abs((y_true - y_pred) / y_true))"
   ]
  },
  {
   "cell_type": "markdown",
   "metadata": {},
   "source": [
    "- L'errore relativo del modello sopra è:"
   ]
  },
  {
   "cell_type": "code",
   "execution_count": 21,
   "metadata": {},
   "outputs": [
    {
     "data": {
      "text/plain": [
       "0.0568209502755219"
      ]
     },
     "execution_count": 21,
     "metadata": {},
     "output_type": "execute_result"
    }
   ],
   "source": [
    "relative_error(y, preds)"
   ]
  },
  {
   "cell_type": "markdown",
   "metadata": {},
   "source": [
    "- Ovvero, le predizioni del modello hanno un errore medio del 5,68\\% rispetto al valore reale"
   ]
  },
  {
   "cell_type": "markdown",
   "metadata": {
    "slideshow": {
     "slide_type": "slide"
    }
   },
   "source": [
    "## Coefficiente di determinazione\n",
    "\n",
    "- Il _coefficiente di determinazione_ $R^2$ è una misura che esprime intuitivamente quanto il modello catturi la variabilità presente nei dati ($\\bar{y}$ = media di $Y$)\n",
    "$$ R^2 = \\frac{\\sum_{i=1}^m{\\left(y_i-\\hat{y}_i\\right)^2}}{\\sum_{i=1}^m{\\left(y_i-\\bar{y}\\right)^2}} $$\n",
    "- Il coefficiente $R^2$ è compreso tra 1 (il modello descrive perfettamente i dati) e 0 (nessuna relazione tra modello e dati)\n",
    "- Questa metrica si può calcolare con la funzione `r2_score` del modulo `metrics` citato sopra"
   ]
  },
  {
   "cell_type": "code",
   "execution_count": 22,
   "metadata": {},
   "outputs": [
    {
     "data": {
      "text/plain": [
       "0.7674218758655923"
      ]
     },
     "execution_count": 22,
     "metadata": {},
     "output_type": "execute_result"
    }
   ],
   "source": [
    "from sklearn.metrics import r2_score\n",
    "r2_score(y, preds)"
   ]
  },
  {
   "cell_type": "markdown",
   "metadata": {},
   "source": [
    "- Essendo la metrica di default per i modelli di regressione, si può anche usare il metodo `score` del modello passando le osservazioni delle variabili indipendenti e dipendente su cui calcolarla\n",
    "  - le predizioni non sono passate, vengono calcolate da `score` usando `X`"
   ]
  },
  {
   "cell_type": "code",
   "execution_count": 23,
   "metadata": {},
   "outputs": [
    {
     "data": {
      "text/plain": [
       "0.7674218758655923"
      ]
     },
     "execution_count": 23,
     "metadata": {},
     "output_type": "execute_result"
    }
   ],
   "source": [
    "lrm.score(X, y)"
   ]
  },
  {
   "cell_type": "markdown",
   "metadata": {
    "slideshow": {
     "slide_type": "slide"
    }
   },
   "source": [
    "- Per comodità, creiamo una funzione che calcoli e stampi tutte e tre le metriche su dati e modello forniti\n",
    "  - `format` introduce valori in una stringa in corrispondenza dei segnaposto `{...}`\n",
    "  - `{:.5}` indica di stampare un numero con 5 cifre decimali, con `%` lo si stampa in forma percentuale"
   ]
  },
  {
   "cell_type": "code",
   "execution_count": 24,
   "metadata": {},
   "outputs": [],
   "source": [
    "def print_eval(X, y, model):\n",
    "    preds = model.predict(X)\n",
    "    print(\"   Mean squared error: {:.5}\".format(mean_squared_error(y, preds)))\n",
    "    print(\"       Relative error: {:.5%}\".format(relative_error(y, preds)))\n",
    "    print(\"R-squared coefficient: {:.5}\".format(r2_score(y, preds)))"
   ]
  },
  {
   "cell_type": "markdown",
   "metadata": {},
   "source": [
    "- Testiamola sul modello sopra"
   ]
  },
  {
   "cell_type": "code",
   "execution_count": 25,
   "metadata": {},
   "outputs": [
    {
     "name": "stdout",
     "output_type": "stream",
     "text": [
      "   Mean squared error: 0.022016\n",
      "       Relative error: 5.68210%\n",
      "R-squared coefficient: 0.76742\n"
     ]
    }
   ],
   "source": [
    "print_eval(data_summer[[\"temp\"]], data_summer[\"demand\"], lrm)"
   ]
  },
  {
   "cell_type": "markdown",
   "metadata": {
    "slideshow": {
     "slide_type": "slide"
    }
   },
   "source": [
    "## Visualizzazione del modello\n",
    "\n",
    "- Definiamo una funzione che, dato un modello basato su una variabile indipendente, mostri la funzione descritta dal modello sovrapposta ai dati\n",
    "  - la funzione è quella usata nella scorsa esercitazione, adattata per usare modelli di scikit-learn piuttosto che funzioni generiche"
   ]
  },
  {
   "cell_type": "code",
   "execution_count": 26,
   "metadata": {},
   "outputs": [],
   "source": [
    "def plot_model_on_data(X, y, model=None):\n",
    "    plt.scatter(X, y)\n",
    "    if model is not None:\n",
    "        xlim, ylim = plt.xlim(), plt.ylim()\n",
    "        line_x = np.linspace(xlim[0], xlim[1], 100)\n",
    "        line_y = model.predict(line_x[:, None])\n",
    "        plt.plot(line_x, line_y, c=\"red\", lw=3)\n",
    "        plt.xlim(xlim); plt.ylim(ylim)\n",
    "    plt.grid()\n",
    "    plt.xlabel(\"Temperatura (°C)\"); plt.ylabel(\"Consumi (GW)\")"
   ]
  },
  {
   "cell_type": "markdown",
   "metadata": {
    "slideshow": {
     "slide_type": "slide"
    }
   },
   "source": [
    "- Usiamo la funzione per visualizzare il modello sovrapposto ai dati su cui è stato addestrato"
   ]
  },
  {
   "cell_type": "code",
   "execution_count": 27,
   "metadata": {},
   "outputs": [
    {
     "data": {
      "image/png": "[encoded data removed]",
      "text/plain": [
       "<Figure size 432x288 with 1 Axes>"
      ]
     },
     "metadata": {
      "needs_background": "light"
     },
     "output_type": "display_data"
    }
   ],
   "source": [
    "plot_model_on_data(X, y, lrm)"
   ]
  },
  {
   "cell_type": "markdown",
   "metadata": {},
   "source": [
    "- Il grafico mostra come il modello lineare sia efficace nell'approssimare la distribuzione dei dati"
   ]
  },
  {
   "cell_type": "markdown",
   "metadata": {
    "slideshow": {
     "slide_type": "slide"
    }
   },
   "source": [
    "## Divisione tra training e validation set\n",
    "\n",
    "- Abbiamo visto come addestrare un modello di predizione su un set di dati e validarlo calcolandone diverse metriche **basandosi sugli stessi dati**\n",
    "- Per verificare se un modello generalizza correttamente i dati su cui è addestrato, è importante **validarlo su dati diversi**\n",
    "- Il metodo _hold-out_ prevede di dividere i dati a disposizione in\n",
    "  - un _training set_ su cui addestrare il modello\n",
    "  - un _validation set_ su cui calcolare le metriche di accuratezza del modello addestrato\n",
    "- La proporzione tra training e validation set è arbitraria, possono essere ad es. 50-50 e 66-33"
   ]
  },
  {
   "cell_type": "markdown",
   "metadata": {
    "slideshow": {
     "slide_type": "slide"
    }
   },
   "source": [
    "- Avendo dati in ordine cronologico, è comune utilizzare quelli più antecedenti come training set e quelli più recenti come validation\n",
    "- In questo caso scegliamo di utilizzare i dati del 2015 come training set e quelli del 2016 e 2017 come validation set\n",
    "- Definiamo un array booleano che indichi quali dati fanno parte del training set..."
   ]
  },
  {
   "cell_type": "code",
   "execution_count": 28,
   "metadata": {},
   "outputs": [],
   "source": [
    "is_train = data_summer.index.year < 2016"
   ]
  },
  {
   "cell_type": "markdown",
   "metadata": {},
   "source": [
    "- ...e lo usiamo per selezionare i dati del training e del validation set\n",
    "  - l'operatore `~` esegue il NOT elemento per elemento"
   ]
  },
  {
   "cell_type": "code",
   "execution_count": 29,
   "metadata": {},
   "outputs": [],
   "source": [
    "summer_train = data_summer.loc[is_train]\n",
    "summer_val = data_summer.loc[~is_train]"
   ]
  },
  {
   "cell_type": "markdown",
   "metadata": {
    "slideshow": {
     "slide_type": "slide"
    }
   },
   "source": [
    "## Esercizio 1: Addestramento e validazione modello\n",
    "\n",
    "- **(1a)** Creare ed addestrare un modello di regressione lineare sul training set `summer_train`\n",
    "- **(1b)** Stampare le metriche di valutazione viste (MSE, errore relativo, R²) calcolate sullo stesso set\n",
    "- **(1c)** Stampare le stesse metriche calcolate sul validation set `summer_val`\n",
    "- **(1d)** Mostrare il grafico del modello sovrapposto al training set\n",
    "- **(1e)** Mostrare il grafico del modello sovrapposto al validation set"
   ]
  },
  {
   "cell_type": "markdown",
   "metadata": {
    "slideshow": {
     "slide_type": "slide"
    }
   },
   "source": [
    "## Analisi dell'intero anno\n",
    "\n",
    "- I modelli addestrati sopra sono addestrati e validati solamente sui mesi estivi\n",
    "- È possibile addestrare un modello utilizzabile per la predizione sull'intero anno?\n",
    "- Iniziamo dividendo l'intero frame `data` in training e validation set ed estraiamo per ciascuno la matrice X e il vettore y"
   ]
  },
  {
   "cell_type": "code",
   "execution_count": 36,
   "metadata": {},
   "outputs": [],
   "source": [
    "is_train = data.index.year < 2016\n",
    "X_train = data.loc[is_train, [\"temp\"]]\n",
    "y_train = data.loc[is_train, \"demand\"]\n",
    "X_val = data.loc[~is_train, [\"temp\"]]\n",
    "y_val = data.loc[~is_train, \"demand\"]"
   ]
  },
  {
   "cell_type": "markdown",
   "metadata": {},
   "source": [
    "- Addestriamo un nuovo modello sul training set estratto"
   ]
  },
  {
   "cell_type": "code",
   "execution_count": 37,
   "metadata": {},
   "outputs": [
    {
     "data": {
      "text/plain": [
       "LinearRegression(copy_X=True, fit_intercept=True, n_jobs=None, normalize=False)"
      ]
     },
     "execution_count": 37,
     "metadata": {},
     "output_type": "execute_result"
    }
   ],
   "source": [
    "lrm = LinearRegression()\n",
    "lrm.fit(X_train, y_train)"
   ]
  },
  {
   "cell_type": "markdown",
   "metadata": {
    "slideshow": {
     "slide_type": "slide"
    }
   },
   "source": [
    "- Validiamo il modello sia sullo stesso training set che sul validation set"
   ]
  },
  {
   "cell_type": "code",
   "execution_count": 38,
   "metadata": {},
   "outputs": [
    {
     "name": "stdout",
     "output_type": "stream",
     "text": [
      "   Mean squared error: 0.09687\n",
      "       Relative error: 14.17653%\n",
      "R-squared coefficient: 0.095711\n"
     ]
    }
   ],
   "source": [
    "print_eval(X_train, y_train, lrm)"
   ]
  },
  {
   "cell_type": "code",
   "execution_count": 39,
   "metadata": {},
   "outputs": [
    {
     "name": "stdout",
     "output_type": "stream",
     "text": [
      "   Mean squared error: 0.097075\n",
      "       Relative error: 15.39235%\n",
      "R-squared coefficient: 0.095201\n"
     ]
    }
   ],
   "source": [
    "print_eval(X_val, y_val, lrm)"
   ]
  },
  {
   "cell_type": "markdown",
   "metadata": {},
   "source": [
    "- In entrambi i casi, il modello è poco accurato: lo si deduce in particolare dal coefficiente R² vicino allo zero\n",
    "- Visualizziamo il modello sovrapposto ai dati (training e validation insieme) per capire perché..."
   ]
  },
  {
   "cell_type": "code",
   "execution_count": 40,
   "metadata": {
    "slideshow": {
     "slide_type": "slide"
    }
   },
   "outputs": [
    {
     "data": {
      "image/png": "[encoded data removed]",
      "text/plain": [
       "<Figure size 432x288 with 1 Axes>"
      ]
     },
     "metadata": {
      "needs_background": "light"
     },
     "output_type": "display_data"
    }
   ],
   "source": [
    "plot_model_on_data(data[[\"temp\"]], data[\"demand\"], lrm)"
   ]
  },
  {
   "cell_type": "markdown",
   "metadata": {},
   "source": [
    "- Il grafico evidenzia che l'aumento dei consumi si ha sia nelle giornate più calde (a destra) che in quelle più fredde (a sinistra)\n",
    "- Per questo il consumo non può essere approssimato dalla temperatura in modo soddisfacente con un unico modello lineare (una retta) per tutti i mesi dell'anno"
   ]
  },
  {
   "cell_type": "markdown",
   "metadata": {
    "slideshow": {
     "slide_type": "slide"
    }
   },
   "source": [
    "## Regressione polinomiale\n",
    "\n",
    "- La regressione _polinomiale_ è una generalizzazione di quella lineare in cui il modello include **termini di grado superiore**\n",
    "- Ad esempio, mentre un modello di regressione lineare su una singola variabile $x$ (_univariata_) ha forma\n",
    "$$ \\hat{y}=\\theta_0+\\theta_1\\cdot x $$\n",
    "- in un modello polinomiale di secondo grado viene aggiunto un termine col quadrato della variabile, con un proprio coefficiente:\n",
    "$$ \\hat{y}=\\theta_0+\\theta_1\\cdot x+\\theta_2\\cdot x^2 $$\n",
    "- Analogamente, in un modello di terzo grado viene aggiunto un ulteriore termine col cubo della variabile:\n",
    "$$ \\hat{y}=\\theta_0+\\theta_1\\cdot x+\\theta_2\\cdot x^2+\\theta_3\\cdot x^3 $$\n",
    "- La regressione polinomiale corrisponde in pratica a quella lineare con l'aggiunta di variabili derivate da quelle esistenti"
   ]
  },
  {
   "cell_type": "markdown",
   "metadata": {
    "slideshow": {
     "slide_type": "slide"
    }
   },
   "source": [
    "- Addestriamo ad esempio un modello polinomiale di secondo grado\n",
    "- Creiamo una matrice `X_train_sq` con i quadrati elemento per elemento di `X_train`"
   ]
  },
  {
   "cell_type": "code",
   "execution_count": 41,
   "metadata": {},
   "outputs": [],
   "source": [
    "X_train_sq = X_train ** 2"
   ]
  },
  {
   "cell_type": "markdown",
   "metadata": {},
   "source": [
    "- Usiamo quindi `hstack` per unire le due matrici $m\\times 1$ in una $m\\times 2$"
   ]
  },
  {
   "cell_type": "code",
   "execution_count": 42,
   "metadata": {},
   "outputs": [],
   "source": [
    "X_train_d2 = np.hstack([X_train, X_train_sq])"
   ]
  },
  {
   "cell_type": "markdown",
   "metadata": {},
   "source": [
    "- Abbiamo quindi un dataset con due variabili, dove la seconda è il quadrato della prima"
   ]
  },
  {
   "cell_type": "code",
   "execution_count": 43,
   "metadata": {},
   "outputs": [
    {
     "data": {
      "text/plain": [
       "array([[  1.7 ,   2.89],\n",
       "       [  2.2 ,   4.84],\n",
       "       [ 14.4 , 207.36],\n",
       "       [ 15.6 , 243.36]])"
      ]
     },
     "execution_count": 43,
     "metadata": {},
     "output_type": "execute_result"
    }
   ],
   "source": [
    "X_train_d2[:4]"
   ]
  },
  {
   "cell_type": "markdown",
   "metadata": {
    "slideshow": {
     "slide_type": "slide"
    }
   },
   "source": [
    "- Creiamo come al solito un modello di regressione lineare e addestriamolo con questi dati"
   ]
  },
  {
   "cell_type": "code",
   "execution_count": 44,
   "metadata": {},
   "outputs": [
    {
     "data": {
      "text/plain": [
       "LinearRegression(copy_X=True, fit_intercept=True, n_jobs=None, normalize=False)"
      ]
     },
     "execution_count": 44,
     "metadata": {},
     "output_type": "execute_result"
    }
   ],
   "source": [
    "prm = LinearRegression()\n",
    "prm.fit(X_train_d2, y_train)"
   ]
  },
  {
   "cell_type": "markdown",
   "metadata": {},
   "source": [
    "- Possiamo già valutare il modello sul training set stesso"
   ]
  },
  {
   "cell_type": "code",
   "execution_count": 45,
   "metadata": {},
   "outputs": [
    {
     "name": "stdout",
     "output_type": "stream",
     "text": [
      "   Mean squared error: 0.032695\n",
      "       Relative error: 7.81509%\n",
      "R-squared coefficient: 0.69479\n"
     ]
    }
   ],
   "source": [
    "print_eval(X_train_d2, y_train, prm)"
   ]
  },
  {
   "cell_type": "markdown",
   "metadata": {
    "slideshow": {
     "slide_type": "slide"
    }
   },
   "source": [
    "- Per valutarlo sul validation set, ricaviamo da esso (`X_val`) una matrice `X_val_d2` come fatto prima per il training set"
   ]
  },
  {
   "cell_type": "code",
   "execution_count": 46,
   "metadata": {},
   "outputs": [],
   "source": [
    "X_val_d2 = np.hstack([X_val, X_val ** 2])"
   ]
  },
  {
   "cell_type": "code",
   "execution_count": 47,
   "metadata": {},
   "outputs": [
    {
     "name": "stdout",
     "output_type": "stream",
     "text": [
      "   Mean squared error: 0.037151\n",
      "       Relative error: 8.89180%\n",
      "R-squared coefficient: 0.65373\n"
     ]
    }
   ],
   "source": [
    "print_eval(X_val_d2, y_val, prm)"
   ]
  },
  {
   "cell_type": "markdown",
   "metadata": {},
   "source": [
    "- Vediamo che questo modello con l'aggiunta del termine di secondo grado è molto più accurato di quello lineare"
   ]
  },
  {
   "cell_type": "markdown",
   "metadata": {
    "slideshow": {
     "slide_type": "slide"
    }
   },
   "source": [
    "## Esercizio 2: Regressione polinomiale di terzo grado\n",
    "\n",
    "- **(2a)** Creare una matrice `X_train_d3` con tre colonne contenenti rispettivamente i valori di `X_train`, i quadrati e i cubi\n",
    "- **(2b)** Creare una matrice simile `X_val_d3` basata su `X_val`\n",
    "- **(2c)** Addestrare un modello di regressione lineare su `X_train_d3`\n",
    "- **(2d)** Stampare le metriche di valutazione del modello su `X_train_d3` e `X_val_d3`"
   ]
  },
  {
   "cell_type": "markdown",
   "metadata": {
    "slideshow": {
     "slide_type": "slide"
    }
   },
   "source": [
    "## Feature polinomiali con scikit-learn\n",
    "\n",
    "- Per applicare trasformazioni ai dati da fornire ai modelli, scikit-learn fornisce dei _filtri_ con un'interfaccia standard\n",
    "- Ad esempio, per generare le variabili per la regressione polinomiale, usiamo il filtro `PolynomialFeatures`\n",
    "- In modo simile ai modelli di predizione, un filtro va dapprima creato, impostandone eventuali parametri\n",
    "- Il parametro più importante di `PolynomialFeatures` è `degree`, che indica il grado massimo delle feature da generare"
   ]
  },
  {
   "cell_type": "code",
   "execution_count": 54,
   "metadata": {},
   "outputs": [],
   "source": [
    "from sklearn.preprocessing import PolynomialFeatures\n",
    "poly = PolynomialFeatures(degree=3)"
   ]
  },
  {
   "cell_type": "markdown",
   "metadata": {},
   "source": [
    "- Come i modelli (es. `LinearRegression`), i filtri vanno \"addestrati\" con dei dati d'esempio prima di essere utilizzati \n",
    "  - nel caso di `PolynomialFeatures`, l'addestramento serve solo a indicare il numero di variabili presenti nei dati in input\n",
    "- Ad esempio, creiamo una matrice con due osservazioni (righe) di una generica variabile (colonna) $X$"
   ]
  },
  {
   "cell_type": "code",
   "execution_count": 55,
   "metadata": {},
   "outputs": [],
   "source": [
    "sample = np.array([ [ 2],\n",
    "                    [-3] ])"
   ]
  },
  {
   "cell_type": "markdown",
   "metadata": {},
   "source": [
    "- Passiamo ora questa matrice al metodo `fit`: il filtro apprende che i dati sono composti da una singola variabile"
   ]
  },
  {
   "cell_type": "code",
   "execution_count": 56,
   "metadata": {},
   "outputs": [
    {
     "data": {
      "text/plain": [
       "PolynomialFeatures(degree=3, include_bias=True, interaction_only=False,\n",
       "                   order='C')"
      ]
     },
     "execution_count": 56,
     "metadata": {},
     "output_type": "execute_result"
    }
   ],
   "source": [
    "poly.fit(sample)"
   ]
  },
  {
   "cell_type": "markdown",
   "metadata": {},
   "source": [
    "- Una volta addestrato, possiamo usare il metodo `transform` del filtro per trasformare qualsiasi matrice compatibile, ovvero con una sola colonna\n",
    "- Trasformiamo ad esempio la stessa matrice usata in `fit`"
   ]
  },
  {
   "cell_type": "code",
   "execution_count": 57,
   "metadata": {},
   "outputs": [
    {
     "data": {
      "text/plain": [
       "array([[  1.,   2.,   4.,   8.],\n",
       "       [  1.,  -3.,   9., -27.]])"
      ]
     },
     "execution_count": 57,
     "metadata": {},
     "output_type": "execute_result"
    }
   ],
   "source": [
    "poly.transform(sample)\n",
    "#        X^0   X^1   X^2   X^3"
   ]
  },
  {
   "cell_type": "markdown",
   "metadata": {},
   "source": [
    "- Dati i valori di $X$, il filtro ha restituito i valori di $X^0, X^1, X^2, X^3$\n",
    "- I filtri forniscono un metodo `fit_transform` che raggruppa le due operazioni sopra\n",
    "  - in pratica va usato `fit_transform` al primo utilizzo di un filtro e `transform` ai successivi"
   ]
  },
  {
   "cell_type": "code",
   "execution_count": 58,
   "metadata": {},
   "outputs": [
    {
     "data": {
      "text/plain": [
       "array([[  1.,   2.,   4.,   8.],\n",
       "       [  1.,  -3.,   9., -27.]])"
      ]
     },
     "execution_count": 58,
     "metadata": {},
     "output_type": "execute_result"
    }
   ],
   "source": [
    "poly = PolynomialFeatures(degree=3)\n",
    "poly.fit_transform(sample)"
   ]
  },
  {
   "cell_type": "markdown",
   "metadata": {
    "slideshow": {
     "slide_type": "slide"
    }
   },
   "source": [
    "- La colonna $X^0$ ha sempre valore 1 ed è inutile nell'addestrare il modello, in quanto sarebbe ridondante con l'intercetta\n",
    "- Possiamo escluderla impostando `include_bias=False` sul filtro"
   ]
  },
  {
   "cell_type": "code",
   "execution_count": 59,
   "metadata": {},
   "outputs": [
    {
     "data": {
      "text/plain": [
       "array([[  2.,   4.,   8.],\n",
       "       [ -3.,   9., -27.]])"
      ]
     },
     "execution_count": 59,
     "metadata": {},
     "output_type": "execute_result"
    }
   ],
   "source": [
    "poly = PolynomialFeatures(degree=3, include_bias=False)\n",
    "poly.fit_transform(sample)"
   ]
  },
  {
   "cell_type": "markdown",
   "metadata": {
    "slideshow": {
     "slide_type": "slide"
    }
   },
   "source": [
    "- Per addestrare un modello polinomiale possiamo quindi creare il filtro per l'aggiunta delle feature, ad esempio di secondo grado..."
   ]
  },
  {
   "cell_type": "code",
   "execution_count": 60,
   "metadata": {},
   "outputs": [],
   "source": [
    "poly = PolynomialFeatures(degree=2, include_bias=False)"
   ]
  },
  {
   "cell_type": "markdown",
   "metadata": {},
   "source": [
    "- ...e addestrare un modello lineare con i dati trasformati"
   ]
  },
  {
   "cell_type": "code",
   "execution_count": 61,
   "metadata": {},
   "outputs": [
    {
     "data": {
      "text/plain": [
       "LinearRegression(copy_X=True, fit_intercept=True, n_jobs=None, normalize=False)"
      ]
     },
     "execution_count": 61,
     "metadata": {},
     "output_type": "execute_result"
    }
   ],
   "source": [
    "prm = LinearRegression()\n",
    "X_train_sq = poly.fit_transform(X_train)\n",
    "prm.fit(X_train_sq, y_train)"
   ]
  },
  {
   "cell_type": "markdown",
   "metadata": {
    "slideshow": {
     "slide_type": "slide"
    }
   },
   "source": [
    "- In seguito, i valori della _x_ dovranno sempre essere trasformati con lo stesso filtro, utilizzando il metodo `transform`\n",
    "- Ad esempio, per ottenere i consumi predetti a fronte di temperature di -5 °C, 5 °C e 25 °C..."
   ]
  },
  {
   "cell_type": "code",
   "execution_count": 62,
   "metadata": {},
   "outputs": [
    {
     "data": {
      "text/plain": [
       "array([2.0611981 , 1.6400669 , 1.96642686])"
      ]
     },
     "execution_count": 62,
     "metadata": {},
     "output_type": "execute_result"
    }
   ],
   "source": [
    "sample = [ [-5], [5], [25] ]\n",
    "sample_sq = poly.transform(sample)\n",
    "prm.predict(sample_sq)"
   ]
  },
  {
   "cell_type": "markdown",
   "metadata": {},
   "source": [
    "- Per ottenere invece le metriche d'accuratezza..."
   ]
  },
  {
   "cell_type": "code",
   "execution_count": 63,
   "metadata": {},
   "outputs": [
    {
     "name": "stdout",
     "output_type": "stream",
     "text": [
      "   Mean squared error: 0.037151\n",
      "       Relative error: 8.89180%\n",
      "R-squared coefficient: 0.65373\n"
     ]
    }
   ],
   "source": [
    "X_val_sq = poly.transform(X_val)\n",
    "print_eval(X_val_sq, y_val, prm)"
   ]
  },
  {
   "cell_type": "markdown",
   "metadata": {
    "slideshow": {
     "slide_type": "slide"
    }
   },
   "source": [
    "## Pipeline\n",
    "\n",
    "- Ad ogni interazione col modello `prm` sopra dobbiamo esplicitamente trasformare i dati in ingresso col filtro `poly`\n",
    "- scikit-learn permette di integrare uno o più filtri con un modello creando una **_pipeline_**\n",
    "- Una volta costruita, la pipeline offre la **stessa API del modello** di predizione incapsulato, ma **applica automaticamente i filtri** ai dati prima di passarli al modello\n",
    "  - chiamando `fit`, i filtri sono addestrati e applicati (`fit_transform`) sui dati di addestramento\n",
    "  - chiamando `predict` (o `score`), i filtri già tarati sono applicati ai nuovi dati (`transform`)\n",
    "- Ad esempio, per incapsulare il modello polinomiale visto sopra in un oggetto unico, usiamo una pipeline con il filtro `PolynomialFeatures` e il modello lineare\n",
    "  - al costruttore va passata la lista dei componenti **in ordine di applicazione**, ciascuno rappresentato da una tupla con nome e componente"
   ]
  },
  {
   "cell_type": "code",
   "execution_count": 64,
   "metadata": {},
   "outputs": [],
   "source": [
    "from sklearn.pipeline import Pipeline\n",
    "prm = Pipeline([\n",
    "    # nome     elemento\n",
    "    (\"poly\",   PolynomialFeatures(degree=2, include_bias=False)),\n",
    "    (\"linreg\", LinearRegression())\n",
    "])"
   ]
  },
  {
   "cell_type": "markdown",
   "metadata": {
    "slideshow": {
     "slide_type": "slide"
    }
   },
   "source": [
    "- Possiamo ora eseguire le stesse operazioni vista sopra sul modello, ma con la trasformazione dei dati applicata in automatico"
   ]
  },
  {
   "cell_type": "code",
   "execution_count": 65,
   "metadata": {},
   "outputs": [
    {
     "data": {
      "text/plain": [
       "Pipeline(memory=None,\n",
       "         steps=[('poly',\n",
       "                 PolynomialFeatures(degree=2, include_bias=False,\n",
       "                                    interaction_only=False, order='C')),\n",
       "                ('linreg',\n",
       "                 LinearRegression(copy_X=True, fit_intercept=True, n_jobs=None,\n",
       "                                  normalize=False))],\n",
       "         verbose=False)"
      ]
     },
     "execution_count": 65,
     "metadata": {},
     "output_type": "execute_result"
    }
   ],
   "source": [
    "prm.fit(X_train, y_train)"
   ]
  },
  {
   "cell_type": "code",
   "execution_count": 66,
   "metadata": {},
   "outputs": [
    {
     "data": {
      "text/plain": [
       "array([2.0611981 , 1.6400669 , 1.96642686])"
      ]
     },
     "execution_count": 66,
     "metadata": {},
     "output_type": "execute_result"
    }
   ],
   "source": [
    "prm.predict([ [-5], [5], [25] ])"
   ]
  },
  {
   "cell_type": "code",
   "execution_count": 67,
   "metadata": {},
   "outputs": [
    {
     "name": "stdout",
     "output_type": "stream",
     "text": [
      "   Mean squared error: 0.037151\n",
      "       Relative error: 8.89180%\n",
      "R-squared coefficient: 0.65373\n"
     ]
    }
   ],
   "source": [
    "print_eval(X_val, y_val, prm)"
   ]
  },
  {
   "cell_type": "markdown",
   "metadata": {
    "slideshow": {
     "slide_type": "slide"
    }
   },
   "source": [
    "- Tramite l'attributo `named_steps` della pipeline possiamo accedere ai singoli componenti\n",
    "  - funziona come un dizionario le cui chiavi sono i nomi assegnati ai componenti nel costruttore"
   ]
  },
  {
   "cell_type": "code",
   "execution_count": 68,
   "metadata": {},
   "outputs": [
    {
     "data": {
      "text/plain": [
       "dict_keys(['poly', 'linreg'])"
      ]
     },
     "execution_count": 68,
     "metadata": {},
     "output_type": "execute_result"
    }
   ],
   "source": [
    "prm.named_steps.keys()"
   ]
  },
  {
   "cell_type": "markdown",
   "metadata": {},
   "source": [
    "- Possiamo ad esempio reperire il modello di regressione lineare `linreg`..."
   ]
  },
  {
   "cell_type": "code",
   "execution_count": 69,
   "metadata": {},
   "outputs": [
    {
     "data": {
      "text/plain": [
       "LinearRegression(copy_X=True, fit_intercept=True, n_jobs=None, normalize=False)"
      ]
     },
     "execution_count": 69,
     "metadata": {},
     "output_type": "execute_result"
    }
   ],
   "source": [
    "prm.named_steps[\"linreg\"]"
   ]
  },
  {
   "cell_type": "markdown",
   "metadata": {},
   "source": [
    "- ...e vedere i pesi assegnati alle due variabili, nell'ordine X e X²"
   ]
  },
  {
   "cell_type": "code",
   "execution_count": 70,
   "metadata": {},
   "outputs": [
    {
     "data": {
      "text/plain": [
       "array([-0.04211312,  0.0019477 ])"
      ]
     },
     "execution_count": 70,
     "metadata": {},
     "output_type": "execute_result"
    }
   ],
   "source": [
    "prm.named_steps[\"linreg\"].coef_"
   ]
  },
  {
   "cell_type": "markdown",
   "metadata": {
    "slideshow": {
     "slide_type": "slide"
    }
   },
   "source": [
    "## Curva del modello polinomiale\n",
    "\n",
    "- Visualizzando il modello polinomiale di secondo grado in un grafico, vediamo che ha la forma di una funzione $a\\cdot x^2+b\\cdot x+c$, ovvero una parabola"
   ]
  },
  {
   "cell_type": "code",
   "execution_count": 71,
   "metadata": {},
   "outputs": [
    {
     "data": {
      "image/png": "[encoded data removed]",
      "text/plain": [
       "<Figure size 432x288 with 1 Axes>"
      ]
     },
     "metadata": {
      "needs_background": "light"
     },
     "output_type": "display_data"
    }
   ],
   "source": [
    "plot_model_on_data(X_val, y_val, prm)"
   ]
  },
  {
   "cell_type": "markdown",
   "metadata": {},
   "source": [
    "- Come anche confermato dalle misure di errore, questo modello approssima molto meglio il consumo in base alla temperatura rispetto a quello lineare"
   ]
  },
  {
   "cell_type": "markdown",
   "metadata": {
    "slideshow": {
     "slide_type": "slide"
    }
   },
   "source": [
    "## Esercizio 3: Regressione polinomiale con pipeline\n",
    "\n",
    "- **(3a)** Creare un modello di regressione polinomiale di terzo grado usando una pipeline come sopra\n",
    "- **(3b)** Addestrare il modello sui dati di training\n",
    "- **(3c)** Stampare le misure di accuratezza del modello calcolate sui dati di training e su quelli di validazione\n",
    "- **(3d)** Visualizzare il grafico del modello sovrapposto ai dati di validazione"
   ]
  },
  {
   "cell_type": "markdown",
   "metadata": {
    "slideshow": {
     "slide_type": "slide"
    }
   },
   "source": [
    "## Standardizzazione dei dati\n",
    "\n",
    "- Data una variabile $X$ con media $\\mu$ e deviazione standard $\\sigma$, la sua versione \"standard\" è calcolata come\n",
    "$$ Z = \\frac{X-\\mu}{\\sigma} $$\n",
    "- $Z$ mantiene la distribuzione dei dati di $X$, ma con media 0 e deviazione standard 1\n",
    "- In presenza di più variabili con scale diverse, applicare la standardizzazione a ciascuna di esse è utile per uniformarne i valori\n",
    "- Questo può migliorare l'accuratezza dei modelli di regressione"
   ]
  },
  {
   "cell_type": "markdown",
   "metadata": {
    "slideshow": {
     "slide_type": "slide"
    }
   },
   "source": [
    "- La standardizzazione si esegue col filtro `StandardScaler`\n",
    "- Eseguendo `fit_transform` (o `fit`) il filtro memorizza medie e deviazioni standard dei dati passati\n",
    "  - queste sono salvate negli attributi `mean_` e `var_`"
   ]
  },
  {
   "cell_type": "code",
   "execution_count": 78,
   "metadata": {},
   "outputs": [
    {
     "data": {
      "text/plain": [
       "array([[-1.06904497,  1.22474487],\n",
       "       [-0.26726124,  0.        ],\n",
       "       [ 1.33630621, -1.22474487]])"
      ]
     },
     "execution_count": 78,
     "metadata": {},
     "output_type": "execute_result"
    }
   ],
   "source": [
    "from sklearn.preprocessing import StandardScaler\n",
    "scaler = StandardScaler()\n",
    "scaler.fit_transform([[0.001, 4000],\n",
    "                      [0.002, 2500],\n",
    "                      [0.004, 1000]])"
   ]
  },
  {
   "cell_type": "markdown",
   "metadata": {},
   "source": [
    "- Successivamente `transform` trasformerà ulteriori dati secondo medie e deviazioni memorizzate"
   ]
  },
  {
   "cell_type": "code",
   "execution_count": 79,
   "metadata": {},
   "outputs": [
    {
     "data": {
      "text/plain": [
       "array([[ 6.14700856, -1.95959179]])"
      ]
     },
     "execution_count": 79,
     "metadata": {},
     "output_type": "execute_result"
    }
   ],
   "source": [
    "scaler.transform([ [0.01, 100] ])"
   ]
  },
  {
   "cell_type": "markdown",
   "metadata": {
    "slideshow": {
     "slide_type": "slide"
    }
   },
   "source": [
    "- Addestriamo un modello polinomiale di secondo grado come quello sopra, ma applicando la standardizzazione alle variabili $X$ e $X^2$\n",
    "- Per far ciò, basta aggiungere il filtro alla pipeline"
   ]
  },
  {
   "cell_type": "code",
   "execution_count": 80,
   "metadata": {},
   "outputs": [
    {
     "data": {
      "text/plain": [
       "Pipeline(memory=None,\n",
       "         steps=[('poly',\n",
       "                 PolynomialFeatures(degree=2, include_bias=False,\n",
       "                                    interaction_only=False, order='C')),\n",
       "                ('scale',\n",
       "                 StandardScaler(copy=True, with_mean=True, with_std=True)),\n",
       "                ('linreg',\n",
       "                 LinearRegression(copy_X=True, fit_intercept=True, n_jobs=None,\n",
       "                                  normalize=False))],\n",
       "         verbose=False)"
      ]
     },
     "execution_count": 80,
     "metadata": {},
     "output_type": "execute_result"
    }
   ],
   "source": [
    "prm = Pipeline([\n",
    "    (\"poly\",   PolynomialFeatures(degree=2, include_bias=False)),\n",
    "    (\"scale\",  StandardScaler()),   # <- aggiunto\n",
    "    (\"linreg\", LinearRegression())\n",
    "])\n",
    "prm.fit(X_train, y_train)"
   ]
  },
  {
   "cell_type": "markdown",
   "metadata": {
    "slideshow": {
     "slide_type": "slide"
    }
   },
   "source": [
    "- Valutiamo l'accuratezza del modello"
   ]
  },
  {
   "cell_type": "code",
   "execution_count": 81,
   "metadata": {},
   "outputs": [
    {
     "name": "stdout",
     "output_type": "stream",
     "text": [
      "   Mean squared error: 0.037151\n",
      "       Relative error: 8.89180%\n",
      "R-squared coefficient: 0.65373\n"
     ]
    }
   ],
   "source": [
    "print_eval(X_val, y_val, prm)"
   ]
  },
  {
   "cell_type": "markdown",
   "metadata": {},
   "source": [
    "- In questo caso le metriche di accuratezza non sono cambiate standardizzando i dati\n",
    "- Ma cosa succede con più variabili con ordini di grandezza molto diversi?"
   ]
  },
  {
   "cell_type": "markdown",
   "metadata": {
    "slideshow": {
     "slide_type": "slide"
    }
   },
   "source": [
    "## Esercizio 4: Standardizzazione\n",
    "\n",
    "- **(4a)** Addestrare sul training set un modello di regressione polinomiale di grado 15 (con variabili $X,X^2,\\ldots,X^{15}$) e verificarne le misure di accuratezza sul validation set\n",
    "- **(4b)** Ripetere il punto 4a, ma applicando la standardizzazione dei dati nel modello\n",
    "\n",
    "Avendo a che fare con molte variabili di ordini di grandezza diversi, la standardizzazione contribuisce a migliorare l'accuratezza"
   ]
  },
  {
   "cell_type": "markdown",
   "metadata": {
    "slideshow": {
     "slide_type": "slide"
    }
   },
   "source": [
    "## Regolarizzazione e regressione ridge\n",
    "\n",
    "- Abbiamo visto come l'addestramento di un modello si compia minimizzando l'errore sui dati di addestramento, dato da\n",
    "$$ E = \\mathrm{media}\\left(\\left(\\mathbf{X}\\mathbf{\\theta}-\\mathbf{y}\\right)^2\\right) $$\n",
    "- Per l'esattezza, la formula su cui si basa `LinearRegression` è\n",
    "$$ E = \\left\\Vert\\mathbf{X}\\mathbf{\\theta}-\\mathbf{y}\\right\\Vert_2^2 $$\n",
    "- Dove la _norma euclidea_ (o _norma 2_) $\\left\\Vert\\mathbf{x}\\right\\Vert_2$ di un vettore $\\mathbf{x}$ di $n$ elementi è\n",
    "$$ \\left\\Vert\\mathbf{x}\\right\\Vert_2 = \\sqrt{\\sum_{i=1}^n x_i^2} = \\sqrt{x_1^2+\\ldots+x_n^2} $$\n",
    "- Tuttavia, questo non garantisce l'accuratezza del modello in generale\n",
    "- Soprattutto se il modello ha molti parametri, è possibile che questi vengano \"forzati\" a funzionare bene sui dati d'addestramento, rendendo però il modello poco accurato in generale"
   ]
  },
  {
   "cell_type": "markdown",
   "metadata": {
    "slideshow": {
     "slide_type": "slide"
    }
   },
   "source": [
    "- Addestriamo ad esempio un modello polinomiale di grado 30 con standardizzazione"
   ]
  },
  {
   "cell_type": "code",
   "execution_count": 85,
   "metadata": {},
   "outputs": [
    {
     "data": {
      "text/plain": [
       "Pipeline(memory=None,\n",
       "         steps=[('poly',\n",
       "                 PolynomialFeatures(degree=30, include_bias=False,\n",
       "                                    interaction_only=False, order='C')),\n",
       "                ('scale',\n",
       "                 StandardScaler(copy=True, with_mean=True, with_std=True)),\n",
       "                ('linreg',\n",
       "                 LinearRegression(copy_X=True, fit_intercept=True, n_jobs=None,\n",
       "                                  normalize=False))],\n",
       "         verbose=False)"
      ]
     },
     "execution_count": 85,
     "metadata": {},
     "output_type": "execute_result"
    }
   ],
   "source": [
    "prm = Pipeline([\n",
    "    (\"poly\",   PolynomialFeatures(degree=30, include_bias=False)),\n",
    "    (\"scale\",  StandardScaler()),\n",
    "    (\"linreg\", LinearRegression())\n",
    "])\n",
    "prm.fit(X_train, y_train)"
   ]
  },
  {
   "cell_type": "markdown",
   "metadata": {
    "slideshow": {
     "slide_type": "slide"
    }
   },
   "source": [
    "- Valutiamone le misure di accuratezza sia sul training set che sul validation set"
   ]
  },
  {
   "cell_type": "code",
   "execution_count": 86,
   "metadata": {},
   "outputs": [
    {
     "name": "stdout",
     "output_type": "stream",
     "text": [
      "   Mean squared error: 0.019873\n",
      "       Relative error: 5.96890%\n",
      "R-squared coefficient: 0.81449\n"
     ]
    }
   ],
   "source": [
    "print_eval(X_train, y_train, prm)"
   ]
  },
  {
   "cell_type": "code",
   "execution_count": 87,
   "metadata": {},
   "outputs": [
    {
     "name": "stdout",
     "output_type": "stream",
     "text": [
      "   Mean squared error: 0.037238\n",
      "       Relative error: 7.25381%\n",
      "R-squared coefficient: 0.65292\n"
     ]
    }
   ],
   "source": [
    "print_eval(X_val, y_val, prm)"
   ]
  },
  {
   "cell_type": "markdown",
   "metadata": {},
   "source": [
    "- La differenza tra le misure suggerisce che il modello sia stato addestrato \"troppo bene\" sul training set ma non sia abbastanza generale (_overfitting_)"
   ]
  },
  {
   "cell_type": "markdown",
   "metadata": {
    "slideshow": {
     "slide_type": "slide"
    }
   },
   "source": [
    "- A dimostrazione, si veda il grafico del modello sovrapposto ai dati del training set"
   ]
  },
  {
   "cell_type": "code",
   "execution_count": 88,
   "metadata": {},
   "outputs": [
    {
     "data": {
      "image/png": "[encoded data removed]",
      "text/plain": [
       "<Figure size 432x288 with 1 Axes>"
      ]
     },
     "metadata": {
      "needs_background": "light"
     },
     "output_type": "display_data"
    }
   ],
   "source": [
    "plot_model_on_data(X_train, y_train, prm)"
   ]
  },
  {
   "cell_type": "markdown",
   "metadata": {},
   "source": [
    "- Soprattutto nella parte a sinistra, si nota che il modello è stato ottimizzato per minimizzare l'errore anche in casi estremi del training set"
   ]
  },
  {
   "cell_type": "markdown",
   "metadata": {
    "slideshow": {
     "slide_type": "slide"
    }
   },
   "source": [
    "- Vediamo ora il modello sovrapposto al validation set"
   ]
  },
  {
   "cell_type": "code",
   "execution_count": 89,
   "metadata": {},
   "outputs": [
    {
     "data": {
      "image/png": "[encoded data removed]",
      "text/plain": [
       "<Figure size 432x288 with 1 Axes>"
      ]
     },
     "metadata": {
      "needs_background": "light"
     },
     "output_type": "display_data"
    }
   ],
   "source": [
    "plot_model_on_data(X_val, y_val, prm)"
   ]
  },
  {
   "cell_type": "markdown",
   "metadata": {},
   "source": [
    "- Si nota che nei casi estremi del validation set, diversi da quelli del training set, l'errore del modello è molto alto"
   ]
  },
  {
   "cell_type": "markdown",
   "metadata": {
    "slideshow": {
     "slide_type": "slide"
    }
   },
   "source": [
    "- Vediamo quali sono i coefficienti del modello addestrato"
   ]
  },
  {
   "cell_type": "code",
   "execution_count": 90,
   "metadata": {},
   "outputs": [
    {
     "data": {
      "text/plain": [
       "array([-2.23595400e-01, -4.99571633e+00, -1.26632250e+01,  8.41235258e+02,\n",
       "       -5.57066217e+02, -5.27476432e+04,  1.10579204e+05,  1.60256172e+06,\n",
       "       -5.30165688e+06, -2.43806927e+07,  1.22671804e+08,  1.35175046e+08,\n",
       "       -1.52212842e+09,  1.05834081e+09,  9.71189651e+09, -2.06802756e+10,\n",
       "       -2.06811500e+10,  1.19391934e+11, -9.12361939e+10, -2.39320109e+11,\n",
       "        5.55146237e+11, -2.33579521e+11, -6.44723886e+11,  1.12872238e+12,\n",
       "       -6.92328143e+11, -5.92376500e+10,  3.74457553e+11, -2.54811937e+11,\n",
       "        7.94330780e+10, -1.00302519e+10])"
      ]
     },
     "execution_count": 90,
     "metadata": {},
     "output_type": "execute_result"
    }
   ],
   "source": [
    "prm.named_steps[\"linreg\"].coef_"
   ]
  },
  {
   "cell_type": "markdown",
   "metadata": {},
   "source": [
    "- I coefficienti per i termini di grado più alto sono molto alti in valore assoluto (fino a ${10}^{12}$)\n",
    "- Questo causa l'andamento irregolare del modello nei casi estremi e i conseguenti errori\n",
    "- Come evitare che i coefficienti assumano tali valori?"
   ]
  },
  {
   "cell_type": "markdown",
   "metadata": {
    "slideshow": {
     "slide_type": "slide"
    }
   },
   "source": [
    "- La **_regolarizzazione_** modifica la funzione d'errore su cui si basa l'addestramento, aggiungendo una penalità per valori estremi dei parametri del modello\n",
    "- Nella regolarizzazione _L2_, la più comune, la penalità è proporzionale al quadrato della norma euclidea del vettore $\\mathbf{\\theta}$ dei parametri\n",
    "  - in questo modo parametri molto alti in valore assoluto sono molto penalizzati\n",
    "- La regressione _ridge_ consiste nella regressione lineare con applicata la regolarizzazione L2, utilizzando quindi la seguente funzione d'errore:\n",
    "$$ E = \\left\\Vert\\mathbf{X}\\mathbf{\\theta}-\\mathbf{y}\\right\\Vert_2^2 + \\alpha\\left\\Vert\\mathbf{\\theta}\\right\\Vert_2^2 $$\n",
    "- $\\alpha$ è un parametro impostabile dall'utente che controlla il \"peso\" della regolarizzazione\n",
    "  - tali parametri impostabili sono a volte detti _iperparametri_ per distinguerli dai parametri addestrabili del modello"
   ]
  },
  {
   "cell_type": "markdown",
   "metadata": {
    "slideshow": {
     "slide_type": "slide"
    }
   },
   "source": [
    "- Per eseguire la regressione ridge usiamo un modello `Ridge`\n",
    "- Alla creazione del modello è possibile specificare il peso della regolarizzazione con l'opzione `alpha`\n",
    "- Per il resto l'API della classe `Ridge` è identica a quella di `LinearRegression`, possiamo quindi sostituirla nella pipeline"
   ]
  },
  {
   "cell_type": "code",
   "execution_count": 91,
   "metadata": {},
   "outputs": [
    {
     "data": {
      "text/plain": [
       "Pipeline(memory=None,\n",
       "         steps=[('poly',\n",
       "                 PolynomialFeatures(degree=30, include_bias=False,\n",
       "                                    interaction_only=False, order='C')),\n",
       "                ('scale',\n",
       "                 StandardScaler(copy=True, with_mean=True, with_std=True)),\n",
       "                ('linreg',\n",
       "                 Ridge(alpha=1, copy_X=True, fit_intercept=True, max_iter=None,\n",
       "                       normalize=False, random_state=None, solver='auto',\n",
       "                       tol=0.001))],\n",
       "         verbose=False)"
      ]
     },
     "execution_count": 91,
     "metadata": {},
     "output_type": "execute_result"
    }
   ],
   "source": [
    "from sklearn.linear_model import Ridge\n",
    "rrm = Pipeline([\n",
    "    (\"poly\",   PolynomialFeatures(degree=30, include_bias=False)),\n",
    "    (\"scale\",  StandardScaler()),\n",
    "    (\"linreg\", Ridge(alpha=1))\n",
    "])\n",
    "rrm.fit(X_train, y_train)"
   ]
  },
  {
   "cell_type": "markdown",
   "metadata": {
    "slideshow": {
     "slide_type": "slide"
    }
   },
   "source": [
    "- Verifichiamo i coefficienti del modello addestrato"
   ]
  },
  {
   "cell_type": "code",
   "execution_count": 92,
   "metadata": {},
   "outputs": [
    {
     "data": {
      "text/plain": [
       "array([-0.31325676, -0.02583932,  0.16619334,  0.12873744,  0.15304114,\n",
       "        0.10838303,  0.08446827,  0.04675489,  0.01952785, -0.00549028,\n",
       "       -0.02267416, -0.03463496, -0.04084124, -0.0427362 , -0.04099736,\n",
       "       -0.03668078, -0.03057249, -0.02344422, -0.01590952, -0.00848886,\n",
       "       -0.00158713,  0.00448139,  0.00948767,  0.01327275,  0.01573763,\n",
       "        0.01683213,  0.01654581,  0.01489957,  0.01193869,  0.00772681])"
      ]
     },
     "execution_count": 92,
     "metadata": {},
     "output_type": "execute_result"
    }
   ],
   "source": [
    "rrm.named_steps[\"linreg\"].coef_"
   ]
  },
  {
   "cell_type": "markdown",
   "metadata": {},
   "source": [
    "- Vediamo che questa volta sono tutti inferiori a 1 in valore assoluto, per effetto della regolarizzazione"
   ]
  },
  {
   "cell_type": "markdown",
   "metadata": {
    "slideshow": {
     "slide_type": "slide"
    }
   },
   "source": [
    "- Con tali, coefficienti, il modello ha un comportamento regolare anche per casi estremi, come si può vedere dal grafico"
   ]
  },
  {
   "cell_type": "code",
   "execution_count": 93,
   "metadata": {},
   "outputs": [
    {
     "data": {
      "image/png": "[encoded data removed]",
      "text/plain": [
       "<Figure size 432x288 with 1 Axes>"
      ]
     },
     "metadata": {
      "needs_background": "light"
     },
     "output_type": "display_data"
    }
   ],
   "source": [
    "plot_model_on_data(X_val, y_val, rrm)"
   ]
  },
  {
   "cell_type": "markdown",
   "metadata": {
    "slideshow": {
     "slide_type": "slide"
    }
   },
   "source": [
    "- Verifichiamo l'accuratezza su training e validation set"
   ]
  },
  {
   "cell_type": "code",
   "execution_count": 94,
   "metadata": {},
   "outputs": [
    {
     "name": "stdout",
     "output_type": "stream",
     "text": [
      "   Mean squared error: 0.020643\n",
      "       Relative error: 6.14974%\n",
      "R-squared coefficient: 0.8073\n"
     ]
    }
   ],
   "source": [
    "print_eval(X_train, y_train, rrm)"
   ]
  },
  {
   "cell_type": "code",
   "execution_count": 95,
   "metadata": {},
   "outputs": [
    {
     "name": "stdout",
     "output_type": "stream",
     "text": [
      "   Mean squared error: 0.024567\n",
      "       Relative error: 6.91874%\n",
      "R-squared coefficient: 0.77102\n"
     ]
    }
   ],
   "source": [
    "print_eval(X_val, y_val, rrm)"
   ]
  },
  {
   "cell_type": "markdown",
   "metadata": {},
   "source": [
    "- Vediamo che le misure sul training set sono di poco peggiori, ma quelle sul validation set sono nettamente migliori"
   ]
  },
  {
   "cell_type": "markdown",
   "metadata": {
    "slideshow": {
     "slide_type": "slide"
    }
   },
   "source": [
    "## Esercizio 5: Regressione polinomiale al variare di grado e regolarizzazione\n",
    "\n",
    "- **(5a)** Definire una funzione `test_regression` con parametri `degree` e `alpha` che\n",
    "  - definisca un modello di regressione polinomiale di grado `degree` con standardizzazione dei dati e regolarizzazione L2 con peso `alpha`\n",
    "  - addestri tale modello sui dati `X_train`, `y_train`\n",
    "  - restituisca il coefficiente R² del modello calcolato sui dati `X_val`, `y_val`\n",
    "- **(5b)** Generare una lista, array o serie di valori restituiti dalla funzione con `alpha=0.01` e `degree` variabile con valori da 3 a 30\n",
    "- **(5c)** Ripetere il punto 5b con `alpha=10`\n",
    "- **(5d)** Visualizzare i risultati in un grafico a linea (`plt.plot`)"
   ]
  },
  {
   "cell_type": "markdown",
   "metadata": {
    "slideshow": {
     "slide_type": "slide"
    }
   },
   "source": [
    "## Caso di studio 2: predizione dei prezzi delle case\n",
    "\n",
    "- Riprendiamo dalla scorsa esercitazione il dataset relativo ai prezzi delle case\n",
    "  - sono fornite informazioni (tasso criminalità, inquinamento, demografia, ...) su diversi quartieri\n",
    "  - in base a queste va stimato per ciascuno il prezzo mediano delle abitazioni (`MEDV`)\n",
    "- Forniamo tale dataset già adattato per essere caricato con `read_csv` con le opzioni di default"
   ]
  },
  {
   "cell_type": "code",
   "execution_count": 101,
   "metadata": {},
   "outputs": [],
   "source": [
    "import os.path\n",
    "if not os.path.exists(\"housing.csv\"):\n",
    "    from urllib.request import urlretrieve\n",
    "    urlretrieve(\"https://git.io/fjGjx\", \"housing.csv\")"
   ]
  },
  {
   "cell_type": "code",
   "execution_count": 102,
   "metadata": {},
   "outputs": [],
   "source": [
    "housing = pd.read_csv(\"housing.csv\")"
   ]
  },
  {
   "cell_type": "code",
   "execution_count": 103,
   "metadata": {
    "slideshow": {
     "slide_type": "slide"
    }
   },
   "outputs": [
    {
     "data": {
      "text/html": [
       "<div>\n",
       "<style scoped>\n",
       "    .dataframe tbody tr th:only-of-type {\n",
       "        vertical-align: middle;\n",
       "    }\n",
       "\n",
       "    .dataframe tbody tr th {\n",
       "        vertical-align: top;\n",
       "    }\n",
       "\n",
       "    .dataframe thead th {\n",
       "        text-align: right;\n",
       "    }\n",
       "</style>\n",
       "<table border=\"1\" class=\"dataframe\">\n",
       "  <thead>\n",
       "    <tr style=\"text-align: right;\">\n",
       "      <th></th>\n",
       "      <th>CRIM</th>\n",
       "      <th>ZN</th>\n",
       "      <th>INDUS</th>\n",
       "      <th>CHAS</th>\n",
       "      <th>NOX</th>\n",
       "      <th>RM</th>\n",
       "      <th>AGE</th>\n",
       "      <th>DIS</th>\n",
       "      <th>RAD</th>\n",
       "      <th>TAX</th>\n",
       "      <th>PTRATIO</th>\n",
       "      <th>B</th>\n",
       "      <th>LSTAT</th>\n",
       "      <th>MEDV</th>\n",
       "    </tr>\n",
       "  </thead>\n",
       "  <tbody>\n",
       "    <tr>\n",
       "      <td>0</td>\n",
       "      <td>0.00632</td>\n",
       "      <td>18.0</td>\n",
       "      <td>2.31</td>\n",
       "      <td>0</td>\n",
       "      <td>0.538</td>\n",
       "      <td>6.575</td>\n",
       "      <td>65.2</td>\n",
       "      <td>4.0900</td>\n",
       "      <td>1</td>\n",
       "      <td>296.0</td>\n",
       "      <td>15.3</td>\n",
       "      <td>396.90</td>\n",
       "      <td>4.98</td>\n",
       "      <td>24.0</td>\n",
       "    </tr>\n",
       "    <tr>\n",
       "      <td>1</td>\n",
       "      <td>0.02731</td>\n",
       "      <td>0.0</td>\n",
       "      <td>7.07</td>\n",
       "      <td>0</td>\n",
       "      <td>0.469</td>\n",
       "      <td>6.421</td>\n",
       "      <td>78.9</td>\n",
       "      <td>4.9671</td>\n",
       "      <td>2</td>\n",
       "      <td>242.0</td>\n",
       "      <td>17.8</td>\n",
       "      <td>396.90</td>\n",
       "      <td>9.14</td>\n",
       "      <td>21.6</td>\n",
       "    </tr>\n",
       "    <tr>\n",
       "      <td>2</td>\n",
       "      <td>0.02729</td>\n",
       "      <td>0.0</td>\n",
       "      <td>7.07</td>\n",
       "      <td>0</td>\n",
       "      <td>0.469</td>\n",
       "      <td>7.185</td>\n",
       "      <td>61.1</td>\n",
       "      <td>4.9671</td>\n",
       "      <td>2</td>\n",
       "      <td>242.0</td>\n",
       "      <td>17.8</td>\n",
       "      <td>392.83</td>\n",
       "      <td>4.03</td>\n",
       "      <td>34.7</td>\n",
       "    </tr>\n",
       "    <tr>\n",
       "      <td>3</td>\n",
       "      <td>0.03237</td>\n",
       "      <td>0.0</td>\n",
       "      <td>2.18</td>\n",
       "      <td>0</td>\n",
       "      <td>0.458</td>\n",
       "      <td>6.998</td>\n",
       "      <td>45.8</td>\n",
       "      <td>6.0622</td>\n",
       "      <td>3</td>\n",
       "      <td>222.0</td>\n",
       "      <td>18.7</td>\n",
       "      <td>394.63</td>\n",
       "      <td>2.94</td>\n",
       "      <td>33.4</td>\n",
       "    </tr>\n",
       "    <tr>\n",
       "      <td>4</td>\n",
       "      <td>0.06905</td>\n",
       "      <td>0.0</td>\n",
       "      <td>2.18</td>\n",
       "      <td>0</td>\n",
       "      <td>0.458</td>\n",
       "      <td>7.147</td>\n",
       "      <td>54.2</td>\n",
       "      <td>6.0622</td>\n",
       "      <td>3</td>\n",
       "      <td>222.0</td>\n",
       "      <td>18.7</td>\n",
       "      <td>396.90</td>\n",
       "      <td>5.33</td>\n",
       "      <td>36.2</td>\n",
       "    </tr>\n",
       "    <tr>\n",
       "      <td>5</td>\n",
       "      <td>0.02985</td>\n",
       "      <td>0.0</td>\n",
       "      <td>2.18</td>\n",
       "      <td>0</td>\n",
       "      <td>0.458</td>\n",
       "      <td>6.430</td>\n",
       "      <td>58.7</td>\n",
       "      <td>6.0622</td>\n",
       "      <td>3</td>\n",
       "      <td>222.0</td>\n",
       "      <td>18.7</td>\n",
       "      <td>394.12</td>\n",
       "      <td>5.21</td>\n",
       "      <td>28.7</td>\n",
       "    </tr>\n",
       "    <tr>\n",
       "      <td>6</td>\n",
       "      <td>0.08829</td>\n",
       "      <td>12.5</td>\n",
       "      <td>7.87</td>\n",
       "      <td>0</td>\n",
       "      <td>0.524</td>\n",
       "      <td>6.012</td>\n",
       "      <td>66.6</td>\n",
       "      <td>5.5605</td>\n",
       "      <td>5</td>\n",
       "      <td>311.0</td>\n",
       "      <td>15.2</td>\n",
       "      <td>395.60</td>\n",
       "      <td>12.43</td>\n",
       "      <td>22.9</td>\n",
       "    </tr>\n",
       "    <tr>\n",
       "      <td>7</td>\n",
       "      <td>0.14455</td>\n",
       "      <td>12.5</td>\n",
       "      <td>7.87</td>\n",
       "      <td>0</td>\n",
       "      <td>0.524</td>\n",
       "      <td>6.172</td>\n",
       "      <td>96.1</td>\n",
       "      <td>5.9505</td>\n",
       "      <td>5</td>\n",
       "      <td>311.0</td>\n",
       "      <td>15.2</td>\n",
       "      <td>396.90</td>\n",
       "      <td>19.15</td>\n",
       "      <td>27.1</td>\n",
       "    </tr>\n",
       "    <tr>\n",
       "      <td>8</td>\n",
       "      <td>0.21124</td>\n",
       "      <td>12.5</td>\n",
       "      <td>7.87</td>\n",
       "      <td>0</td>\n",
       "      <td>0.524</td>\n",
       "      <td>5.631</td>\n",
       "      <td>100.0</td>\n",
       "      <td>6.0821</td>\n",
       "      <td>5</td>\n",
       "      <td>311.0</td>\n",
       "      <td>15.2</td>\n",
       "      <td>386.63</td>\n",
       "      <td>29.93</td>\n",
       "      <td>16.5</td>\n",
       "    </tr>\n",
       "    <tr>\n",
       "      <td>9</td>\n",
       "      <td>0.17004</td>\n",
       "      <td>12.5</td>\n",
       "      <td>7.87</td>\n",
       "      <td>0</td>\n",
       "      <td>0.524</td>\n",
       "      <td>6.004</td>\n",
       "      <td>85.9</td>\n",
       "      <td>6.5921</td>\n",
       "      <td>5</td>\n",
       "      <td>311.0</td>\n",
       "      <td>15.2</td>\n",
       "      <td>386.71</td>\n",
       "      <td>17.10</td>\n",
       "      <td>18.9</td>\n",
       "    </tr>\n",
       "  </tbody>\n",
       "</table>\n",
       "</div>"
      ],
      "text/plain": [
       "      CRIM    ZN  INDUS  CHAS    NOX     RM    AGE     DIS  RAD    TAX  \\\n",
       "0  0.00632  18.0   2.31     0  0.538  6.575   65.2  4.0900    1  296.0   \n",
       "1  0.02731   0.0   7.07     0  0.469  6.421   78.9  4.9671    2  242.0   \n",
       "2  0.02729   0.0   7.07     0  0.469  7.185   61.1  4.9671    2  242.0   \n",
       "3  0.03237   0.0   2.18     0  0.458  6.998   45.8  6.0622    3  222.0   \n",
       "4  0.06905   0.0   2.18     0  0.458  7.147   54.2  6.0622    3  222.0   \n",
       "5  0.02985   0.0   2.18     0  0.458  6.430   58.7  6.0622    3  222.0   \n",
       "6  0.08829  12.5   7.87     0  0.524  6.012   66.6  5.5605    5  311.0   \n",
       "7  0.14455  12.5   7.87     0  0.524  6.172   96.1  5.9505    5  311.0   \n",
       "8  0.21124  12.5   7.87     0  0.524  5.631  100.0  6.0821    5  311.0   \n",
       "9  0.17004  12.5   7.87     0  0.524  6.004   85.9  6.5921    5  311.0   \n",
       "\n",
       "   PTRATIO       B  LSTAT  MEDV  \n",
       "0     15.3  396.90   4.98  24.0  \n",
       "1     17.8  396.90   9.14  21.6  \n",
       "2     17.8  392.83   4.03  34.7  \n",
       "3     18.7  394.63   2.94  33.4  \n",
       "4     18.7  396.90   5.33  36.2  \n",
       "5     18.7  394.12   5.21  28.7  \n",
       "6     15.2  395.60  12.43  22.9  \n",
       "7     15.2  396.90  19.15  27.1  \n",
       "8     15.2  386.63  29.93  16.5  \n",
       "9     15.2  386.71  17.10  18.9  "
      ]
     },
     "execution_count": 103,
     "metadata": {},
     "output_type": "execute_result"
    }
   ],
   "source": [
    "housing.head(10)"
   ]
  },
  {
   "cell_type": "markdown",
   "metadata": {
    "slideshow": {
     "slide_type": "slide"
    }
   },
   "source": [
    "## Divisione training-validation con scikit-learn\n",
    "\n",
    "- Abbiamo visto il metodo _hold-out_ in cui i dati disponibili sono divisi in training e validation set\n",
    "- scikit-learn fornisce un'apposita funzione `train_test_split` per suddividere casualmente un set di dati in due insiemi \"train\" e \"test\" disgiunti\n",
    "  - il set di dati è una sequenza di elementi, es. array NumPy o serie/frame pandas\n",
    "  - con l'opzione `test_size=X` si indica la proporzione (se X decimale tra 0 e 1) o il numero di elementi (se X intero) da inserire nel test piuttosto che nel train (default 0.25, ovvero 25\\%)\n",
    "  - con l'opzione `random_state` si indica un seed per la riproducibilità\n",
    "- Ad esempio, dividiamo il frame `housing` in due parti `train_data` e `val_data`, contenenti rispettivamente 2/3 e 1/3 dei dati"
   ]
  },
  {
   "cell_type": "code",
   "execution_count": 104,
   "metadata": {},
   "outputs": [],
   "source": [
    "from sklearn.model_selection import train_test_split\n",
    "train_data, val_data = train_test_split(housing, test_size=1/3, random_state=42)"
   ]
  },
  {
   "cell_type": "markdown",
   "metadata": {
    "slideshow": {
     "slide_type": "slide"
    }
   },
   "source": [
    "- I due nuovi frame contengono due sottoinsiemi disgiunti delle righe di `housing`, mescolate casualmente"
   ]
  },
  {
   "cell_type": "code",
   "execution_count": 105,
   "metadata": {},
   "outputs": [
    {
     "data": {
      "text/plain": [
       "(337, 14)"
      ]
     },
     "execution_count": 105,
     "metadata": {},
     "output_type": "execute_result"
    }
   ],
   "source": [
    "train_data.shape"
   ]
  },
  {
   "cell_type": "code",
   "execution_count": 106,
   "metadata": {},
   "outputs": [
    {
     "data": {
      "text/html": [
       "<div>\n",
       "<style scoped>\n",
       "    .dataframe tbody tr th:only-of-type {\n",
       "        vertical-align: middle;\n",
       "    }\n",
       "\n",
       "    .dataframe tbody tr th {\n",
       "        vertical-align: top;\n",
       "    }\n",
       "\n",
       "    .dataframe thead th {\n",
       "        text-align: right;\n",
       "    }\n",
       "</style>\n",
       "<table border=\"1\" class=\"dataframe\">\n",
       "  <thead>\n",
       "    <tr style=\"text-align: right;\">\n",
       "      <th></th>\n",
       "      <th>CRIM</th>\n",
       "      <th>ZN</th>\n",
       "      <th>INDUS</th>\n",
       "      <th>CHAS</th>\n",
       "      <th>NOX</th>\n",
       "      <th>RM</th>\n",
       "      <th>AGE</th>\n",
       "      <th>DIS</th>\n",
       "      <th>RAD</th>\n",
       "      <th>TAX</th>\n",
       "      <th>PTRATIO</th>\n",
       "      <th>B</th>\n",
       "      <th>LSTAT</th>\n",
       "      <th>MEDV</th>\n",
       "    </tr>\n",
       "  </thead>\n",
       "  <tbody>\n",
       "    <tr>\n",
       "      <td>7</td>\n",
       "      <td>0.14455</td>\n",
       "      <td>12.5</td>\n",
       "      <td>7.87</td>\n",
       "      <td>0</td>\n",
       "      <td>0.524</td>\n",
       "      <td>6.172</td>\n",
       "      <td>96.1</td>\n",
       "      <td>5.9505</td>\n",
       "      <td>5</td>\n",
       "      <td>311.0</td>\n",
       "      <td>15.2</td>\n",
       "      <td>396.90</td>\n",
       "      <td>19.15</td>\n",
       "      <td>27.1</td>\n",
       "    </tr>\n",
       "    <tr>\n",
       "      <td>492</td>\n",
       "      <td>0.11132</td>\n",
       "      <td>0.0</td>\n",
       "      <td>27.74</td>\n",
       "      <td>0</td>\n",
       "      <td>0.609</td>\n",
       "      <td>5.983</td>\n",
       "      <td>83.5</td>\n",
       "      <td>2.1099</td>\n",
       "      <td>4</td>\n",
       "      <td>711.0</td>\n",
       "      <td>20.1</td>\n",
       "      <td>396.90</td>\n",
       "      <td>13.35</td>\n",
       "      <td>20.1</td>\n",
       "    </tr>\n",
       "    <tr>\n",
       "      <td>108</td>\n",
       "      <td>0.12802</td>\n",
       "      <td>0.0</td>\n",
       "      <td>8.56</td>\n",
       "      <td>0</td>\n",
       "      <td>0.520</td>\n",
       "      <td>6.474</td>\n",
       "      <td>97.1</td>\n",
       "      <td>2.4329</td>\n",
       "      <td>5</td>\n",
       "      <td>384.0</td>\n",
       "      <td>20.9</td>\n",
       "      <td>395.24</td>\n",
       "      <td>12.27</td>\n",
       "      <td>19.8</td>\n",
       "    </tr>\n",
       "  </tbody>\n",
       "</table>\n",
       "</div>"
      ],
      "text/plain": [
       "        CRIM    ZN  INDUS  CHAS    NOX     RM   AGE     DIS  RAD    TAX  \\\n",
       "7    0.14455  12.5   7.87     0  0.524  6.172  96.1  5.9505    5  311.0   \n",
       "492  0.11132   0.0  27.74     0  0.609  5.983  83.5  2.1099    4  711.0   \n",
       "108  0.12802   0.0   8.56     0  0.520  6.474  97.1  2.4329    5  384.0   \n",
       "\n",
       "     PTRATIO       B  LSTAT  MEDV  \n",
       "7       15.2  396.90  19.15  27.1  \n",
       "492     20.1  396.90  13.35  20.1  \n",
       "108     20.9  395.24  12.27  19.8  "
      ]
     },
     "execution_count": 106,
     "metadata": {},
     "output_type": "execute_result"
    }
   ],
   "source": [
    "train_data.head(3)"
   ]
  },
  {
   "cell_type": "code",
   "execution_count": 107,
   "metadata": {},
   "outputs": [
    {
     "data": {
      "text/plain": [
       "(169, 14)"
      ]
     },
     "execution_count": 107,
     "metadata": {},
     "output_type": "execute_result"
    }
   ],
   "source": [
    "val_data.shape"
   ]
  },
  {
   "cell_type": "code",
   "execution_count": 108,
   "metadata": {},
   "outputs": [
    {
     "data": {
      "text/html": [
       "<div>\n",
       "<style scoped>\n",
       "    .dataframe tbody tr th:only-of-type {\n",
       "        vertical-align: middle;\n",
       "    }\n",
       "\n",
       "    .dataframe tbody tr th {\n",
       "        vertical-align: top;\n",
       "    }\n",
       "\n",
       "    .dataframe thead th {\n",
       "        text-align: right;\n",
       "    }\n",
       "</style>\n",
       "<table border=\"1\" class=\"dataframe\">\n",
       "  <thead>\n",
       "    <tr style=\"text-align: right;\">\n",
       "      <th></th>\n",
       "      <th>CRIM</th>\n",
       "      <th>ZN</th>\n",
       "      <th>INDUS</th>\n",
       "      <th>CHAS</th>\n",
       "      <th>NOX</th>\n",
       "      <th>RM</th>\n",
       "      <th>AGE</th>\n",
       "      <th>DIS</th>\n",
       "      <th>RAD</th>\n",
       "      <th>TAX</th>\n",
       "      <th>PTRATIO</th>\n",
       "      <th>B</th>\n",
       "      <th>LSTAT</th>\n",
       "      <th>MEDV</th>\n",
       "    </tr>\n",
       "  </thead>\n",
       "  <tbody>\n",
       "    <tr>\n",
       "      <td>173</td>\n",
       "      <td>0.09178</td>\n",
       "      <td>0.0</td>\n",
       "      <td>4.05</td>\n",
       "      <td>0</td>\n",
       "      <td>0.510</td>\n",
       "      <td>6.416</td>\n",
       "      <td>84.1</td>\n",
       "      <td>2.6463</td>\n",
       "      <td>5</td>\n",
       "      <td>296.0</td>\n",
       "      <td>16.6</td>\n",
       "      <td>395.50</td>\n",
       "      <td>9.04</td>\n",
       "      <td>23.6</td>\n",
       "    </tr>\n",
       "    <tr>\n",
       "      <td>274</td>\n",
       "      <td>0.05644</td>\n",
       "      <td>40.0</td>\n",
       "      <td>6.41</td>\n",
       "      <td>1</td>\n",
       "      <td>0.447</td>\n",
       "      <td>6.758</td>\n",
       "      <td>32.9</td>\n",
       "      <td>4.0776</td>\n",
       "      <td>4</td>\n",
       "      <td>254.0</td>\n",
       "      <td>17.6</td>\n",
       "      <td>396.90</td>\n",
       "      <td>3.53</td>\n",
       "      <td>32.4</td>\n",
       "    </tr>\n",
       "    <tr>\n",
       "      <td>491</td>\n",
       "      <td>0.10574</td>\n",
       "      <td>0.0</td>\n",
       "      <td>27.74</td>\n",
       "      <td>0</td>\n",
       "      <td>0.609</td>\n",
       "      <td>5.983</td>\n",
       "      <td>98.8</td>\n",
       "      <td>1.8681</td>\n",
       "      <td>4</td>\n",
       "      <td>711.0</td>\n",
       "      <td>20.1</td>\n",
       "      <td>390.11</td>\n",
       "      <td>18.07</td>\n",
       "      <td>13.6</td>\n",
       "    </tr>\n",
       "  </tbody>\n",
       "</table>\n",
       "</div>"
      ],
      "text/plain": [
       "        CRIM    ZN  INDUS  CHAS    NOX     RM   AGE     DIS  RAD    TAX  \\\n",
       "173  0.09178   0.0   4.05     0  0.510  6.416  84.1  2.6463    5  296.0   \n",
       "274  0.05644  40.0   6.41     1  0.447  6.758  32.9  4.0776    4  254.0   \n",
       "491  0.10574   0.0  27.74     0  0.609  5.983  98.8  1.8681    4  711.0   \n",
       "\n",
       "     PTRATIO       B  LSTAT  MEDV  \n",
       "173     16.6  395.50   9.04  23.6  \n",
       "274     17.6  396.90   3.53  32.4  \n",
       "491     20.1  390.11  18.07  13.6  "
      ]
     },
     "execution_count": 108,
     "metadata": {},
     "output_type": "execute_result"
    }
   ],
   "source": [
    "val_data.head(3)"
   ]
  },
  {
   "cell_type": "markdown",
   "metadata": {
    "slideshow": {
     "slide_type": "slide"
    }
   },
   "source": [
    "- A `train_test_split` possiamo passare **due (o più) collezioni** con pari numero di elementi per far sì che siano suddivise insieme, applicando **a tutte lo stesso ordine** casuale dei dati\n",
    "- Ad esempio separiamo `housing` in due strutture dati allineate:\n",
    "  - una serie y con i valori della variabile dipendente (`MEDV`)\n",
    "  - un frame X con i valori delle variabili indipendenti (tutte le altre)"
   ]
  },
  {
   "cell_type": "code",
   "execution_count": 109,
   "metadata": {},
   "outputs": [],
   "source": [
    "y = housing[\"MEDV\"]\n",
    "X = housing.drop(columns=[\"MEDV\"])"
   ]
  },
  {
   "cell_type": "markdown",
   "metadata": {},
   "source": [
    "- Applichiamo quindi `train_test_split` congiuntamente a X e y"
   ]
  },
  {
   "cell_type": "code",
   "execution_count": 110,
   "metadata": {},
   "outputs": [],
   "source": [
    "X_train, X_val, y_train, y_val = \\\n",
    "    train_test_split(X, y, test_size=1/3, random_state=42)"
   ]
  },
  {
   "cell_type": "markdown",
   "metadata": {
    "slideshow": {
     "slide_type": "slide"
    }
   },
   "source": [
    "- Si può verificare dagli indici che l'ordine delle righe di `X_train` è lo stesso di `y_train` (lo stesso vale per `X_val` e `y_val`)"
   ]
  },
  {
   "cell_type": "code",
   "execution_count": 111,
   "metadata": {},
   "outputs": [
    {
     "data": {
      "text/html": [
       "<div>\n",
       "<style scoped>\n",
       "    .dataframe tbody tr th:only-of-type {\n",
       "        vertical-align: middle;\n",
       "    }\n",
       "\n",
       "    .dataframe tbody tr th {\n",
       "        vertical-align: top;\n",
       "    }\n",
       "\n",
       "    .dataframe thead th {\n",
       "        text-align: right;\n",
       "    }\n",
       "</style>\n",
       "<table border=\"1\" class=\"dataframe\">\n",
       "  <thead>\n",
       "    <tr style=\"text-align: right;\">\n",
       "      <th></th>\n",
       "      <th>CRIM</th>\n",
       "      <th>ZN</th>\n",
       "      <th>INDUS</th>\n",
       "      <th>CHAS</th>\n",
       "      <th>NOX</th>\n",
       "      <th>RM</th>\n",
       "      <th>AGE</th>\n",
       "      <th>DIS</th>\n",
       "      <th>RAD</th>\n",
       "      <th>TAX</th>\n",
       "      <th>PTRATIO</th>\n",
       "      <th>B</th>\n",
       "      <th>LSTAT</th>\n",
       "    </tr>\n",
       "  </thead>\n",
       "  <tbody>\n",
       "    <tr>\n",
       "      <td>7</td>\n",
       "      <td>0.14455</td>\n",
       "      <td>12.5</td>\n",
       "      <td>7.87</td>\n",
       "      <td>0</td>\n",
       "      <td>0.524</td>\n",
       "      <td>6.172</td>\n",
       "      <td>96.1</td>\n",
       "      <td>5.9505</td>\n",
       "      <td>5</td>\n",
       "      <td>311.0</td>\n",
       "      <td>15.2</td>\n",
       "      <td>396.90</td>\n",
       "      <td>19.15</td>\n",
       "    </tr>\n",
       "    <tr>\n",
       "      <td>492</td>\n",
       "      <td>0.11132</td>\n",
       "      <td>0.0</td>\n",
       "      <td>27.74</td>\n",
       "      <td>0</td>\n",
       "      <td>0.609</td>\n",
       "      <td>5.983</td>\n",
       "      <td>83.5</td>\n",
       "      <td>2.1099</td>\n",
       "      <td>4</td>\n",
       "      <td>711.0</td>\n",
       "      <td>20.1</td>\n",
       "      <td>396.90</td>\n",
       "      <td>13.35</td>\n",
       "    </tr>\n",
       "    <tr>\n",
       "      <td>108</td>\n",
       "      <td>0.12802</td>\n",
       "      <td>0.0</td>\n",
       "      <td>8.56</td>\n",
       "      <td>0</td>\n",
       "      <td>0.520</td>\n",
       "      <td>6.474</td>\n",
       "      <td>97.1</td>\n",
       "      <td>2.4329</td>\n",
       "      <td>5</td>\n",
       "      <td>384.0</td>\n",
       "      <td>20.9</td>\n",
       "      <td>395.24</td>\n",
       "      <td>12.27</td>\n",
       "    </tr>\n",
       "  </tbody>\n",
       "</table>\n",
       "</div>"
      ],
      "text/plain": [
       "        CRIM    ZN  INDUS  CHAS    NOX     RM   AGE     DIS  RAD    TAX  \\\n",
       "7    0.14455  12.5   7.87     0  0.524  6.172  96.1  5.9505    5  311.0   \n",
       "492  0.11132   0.0  27.74     0  0.609  5.983  83.5  2.1099    4  711.0   \n",
       "108  0.12802   0.0   8.56     0  0.520  6.474  97.1  2.4329    5  384.0   \n",
       "\n",
       "     PTRATIO       B  LSTAT  \n",
       "7       15.2  396.90  19.15  \n",
       "492     20.1  396.90  13.35  \n",
       "108     20.9  395.24  12.27  "
      ]
     },
     "execution_count": 111,
     "metadata": {},
     "output_type": "execute_result"
    }
   ],
   "source": [
    "X_train.head(3)"
   ]
  },
  {
   "cell_type": "code",
   "execution_count": 112,
   "metadata": {},
   "outputs": [
    {
     "data": {
      "text/plain": [
       "7      27.1\n",
       "492    20.1\n",
       "108    19.8\n",
       "Name: MEDV, dtype: float64"
      ]
     },
     "execution_count": 112,
     "metadata": {},
     "output_type": "execute_result"
    }
   ],
   "source": [
    "y_train.head(3)"
   ]
  },
  {
   "cell_type": "code",
   "execution_count": 113,
   "metadata": {},
   "outputs": [
    {
     "data": {
      "text/plain": [
       "True"
      ]
     },
     "execution_count": 113,
     "metadata": {},
     "output_type": "execute_result"
    }
   ],
   "source": [
    "np.array_equal(X_train.index, y_train.index)"
   ]
  },
  {
   "cell_type": "markdown",
   "metadata": {
    "slideshow": {
     "slide_type": "slide"
    }
   },
   "source": [
    "- Addestriamo e valutiamo dapprima un modello lineare semplice"
   ]
  },
  {
   "cell_type": "code",
   "execution_count": 114,
   "metadata": {},
   "outputs": [
    {
     "data": {
      "text/plain": [
       "LinearRegression(copy_X=True, fit_intercept=True, n_jobs=None, normalize=False)"
      ]
     },
     "execution_count": 114,
     "metadata": {},
     "output_type": "execute_result"
    }
   ],
   "source": [
    "lrm = LinearRegression()\n",
    "lrm.fit(X_train, y_train)"
   ]
  },
  {
   "cell_type": "code",
   "execution_count": 115,
   "metadata": {},
   "outputs": [
    {
     "name": "stdout",
     "output_type": "stream",
     "text": [
      "   Mean squared error: 20.595\n",
      "       Relative error: 16.20789%\n",
      "R-squared coefficient: 0.72621\n"
     ]
    }
   ],
   "source": [
    "print_eval(X_val, y_val, lrm)"
   ]
  },
  {
   "cell_type": "markdown",
   "metadata": {
    "slideshow": {
     "slide_type": "-"
    }
   },
   "source": [
    "- Osservando i coefficienti del modello etichettati con i nomi delle colonne, possiamo dedurre il peso che ciascuna variabile ha nella predizione\n",
    "  - i coefficienti si trovano in un array `lrm.coef_`\n",
    "  - usiamo una serie per associarli ai nomi delle colonne corrispondenti\n",
    "- Tuttavia, tali pesi dipendono molto dalla scala delle variabili"
   ]
  },
  {
   "cell_type": "code",
   "execution_count": 116,
   "metadata": {
    "slideshow": {
     "slide_type": "slide"
    }
   },
   "outputs": [
    {
     "data": {
      "text/plain": [
       "CRIM       -0.129470\n",
       "ZN          0.037960\n",
       "INDUS       0.060978\n",
       "CHAS        3.213498\n",
       "NOX       -16.499614\n",
       "RM          3.911519\n",
       "AGE        -0.012602\n",
       "DIS        -1.427742\n",
       "RAD         0.239546\n",
       "TAX        -0.008180\n",
       "PTRATIO    -0.935991\n",
       "B           0.011948\n",
       "LSTAT      -0.546562\n",
       "dtype: float64"
      ]
     },
     "execution_count": 116,
     "metadata": {},
     "output_type": "execute_result"
    }
   ],
   "source": [
    "pd.Series(lrm.coef_, index=X_train.columns)"
   ]
  },
  {
   "cell_type": "markdown",
   "metadata": {
    "slideshow": {
     "slide_type": "slide"
    }
   },
   "source": [
    "## Esercizio 6: Analisi coefficienti con standardizzazione\n",
    "\n",
    "- **(6a)** Creare con una pipeline un modello di regressione lineare che applichi la standardizzazione ai dati in ingresso\n",
    "- **(6b)** Addestrare il modello sui dati `X_train`, `y_train`\n",
    "- **(6c)** Stamparne le misure di accuratezza calcolate su `X_val`, `y_val`\n",
    "- **(6d)** Stampare come sopra i coefficienti del modello con nomi delle colonne associate"
   ]
  },
  {
   "cell_type": "markdown",
   "metadata": {
    "slideshow": {
     "slide_type": "slide"
    }
   },
   "source": [
    "## k-Fold Cross Validation\n",
    "\n",
    "- Il metodo _k-fold_ è un'alternativa al metodo hold-out per valutare l'accuratezza di un modello\n",
    "  - i dati sono divisi causalmente in k gruppi (_fold_)\n",
    "  - ciascun gruppo è validato su un modello addestrato su tutti gli altri gruppi\n",
    "  - i risultati dei singoli test sono aggregati\n",
    "- Per iniziare, definiamo gli oggetti `X` e `y` con i valori di variabili indipendenti e dipendente dell'intero dataset\n",
    "  - non usiamo più le partizioni create con `train_test_split`"
   ]
  },
  {
   "cell_type": "code",
   "execution_count": 122,
   "metadata": {},
   "outputs": [],
   "source": [
    "X = housing.drop([\"MEDV\"], axis=1)\n",
    "y = housing[\"MEDV\"]"
   ]
  },
  {
   "cell_type": "markdown",
   "metadata": {
    "slideshow": {
     "slide_type": "slide"
    }
   },
   "source": [
    "- La classe `KFold` definisce oggetti che generano un dato numero di fold su un insieme di dati\n",
    "  - esistono altre classi per generare fold in modi diversi, usate ad es. per dati divisi in gruppi\n",
    "- Creiamo ad esempio un oggetto che genera 5 fold\n",
    "  - dobbiamo specificare che i dati sono distribuiti casualmente e con quale seed"
   ]
  },
  {
   "cell_type": "code",
   "execution_count": 123,
   "metadata": {},
   "outputs": [],
   "source": [
    "from sklearn.model_selection import KFold\n",
    "kf = KFold(5, shuffle=True, random_state=42)"
   ]
  },
  {
   "cell_type": "markdown",
   "metadata": {
    "slideshow": {
     "slide_type": "slide"
    }
   },
   "source": [
    "- Per eseguire la cross validation secondo un generatore di fold dato, scikit-learn fornisce la funzione `cross_validate`\n",
    "- Gli input alla funzione `cross_validate` sono:\n",
    "  - la definizione di un modello, di cui viene addestrata una copia con la stessa configurazione per ciascun fold\n",
    "  - i dati, divisi come per `fit` in valori di variabili indipendenti (X) e dipendente (y)\n",
    "  - l'oggetto che genera i fold dai dati, ad es. un'istanza di `KFold`\n",
    "- Definiamo ad esempio un modello polinomiale di grado 2 con standardizzazione"
   ]
  },
  {
   "cell_type": "code",
   "execution_count": 124,
   "metadata": {},
   "outputs": [],
   "source": [
    "model = Pipeline([\n",
    "    (\"poly\",   PolynomialFeatures(degree=2, include_bias=False)),\n",
    "    (\"scale\",  StandardScaler()),\n",
    "    (\"linreg\", LinearRegression())\n",
    "])"
   ]
  },
  {
   "cell_type": "markdown",
   "metadata": {
    "slideshow": {
     "slide_type": "slide"
    }
   },
   "source": [
    "- Utilizziamo la funzione `cross_validate` passando il modello, i dati e l'oggetto `KFold` definito sopra\n",
    "  - `return_train_score=True` indica che vogliamo ottenere l'accuratezza di ciascun modello anche sul train set oltre che sul validation set"
   ]
  },
  {
   "cell_type": "code",
   "execution_count": 125,
   "metadata": {},
   "outputs": [],
   "source": [
    "from sklearn.model_selection import cross_validate\n",
    "cv_result = cross_validate(model, X, y, cv=kf, return_train_score=True)"
   ]
  },
  {
   "cell_type": "markdown",
   "metadata": {
    "slideshow": {
     "slide_type": "-"
    }
   },
   "source": [
    "- Otteniamo un dizionario con un vettore per ciascuna misura estratta, ciascuno ha un valore per ogni fold"
   ]
  },
  {
   "cell_type": "code",
   "execution_count": 126,
   "metadata": {},
   "outputs": [
    {
     "data": {
      "text/plain": [
       "{'fit_time': array([0.0209229 , 0.02735591, 0.0121789 , 0.01162195, 0.00843215]),\n",
       " 'score_time': array([0.01728225, 0.00586557, 0.00206804, 0.00208831, 0.00223064]),\n",
       " 'test_score': array([0.80558294, 0.78699438, 0.76305893, 0.91222428, 0.83023822]),\n",
       " 'train_score': array([0.9409317 , 0.93635502, 0.93248495, 0.92682517, 0.93430016])}"
      ]
     },
     "execution_count": 126,
     "metadata": {},
     "output_type": "execute_result"
    }
   ],
   "source": [
    "cv_result"
   ]
  },
  {
   "cell_type": "markdown",
   "metadata": {
    "slideshow": {
     "slide_type": "slide"
    }
   },
   "source": [
    "- Per operare facilmente, raccogliamo i dati in un frame"
   ]
  },
  {
   "cell_type": "code",
   "execution_count": 127,
   "metadata": {},
   "outputs": [
    {
     "data": {
      "text/html": [
       "<div>\n",
       "<style scoped>\n",
       "    .dataframe tbody tr th:only-of-type {\n",
       "        vertical-align: middle;\n",
       "    }\n",
       "\n",
       "    .dataframe tbody tr th {\n",
       "        vertical-align: top;\n",
       "    }\n",
       "\n",
       "    .dataframe thead th {\n",
       "        text-align: right;\n",
       "    }\n",
       "</style>\n",
       "<table border=\"1\" class=\"dataframe\">\n",
       "  <thead>\n",
       "    <tr style=\"text-align: right;\">\n",
       "      <th></th>\n",
       "      <th>fit_time</th>\n",
       "      <th>score_time</th>\n",
       "      <th>test_score</th>\n",
       "      <th>train_score</th>\n",
       "    </tr>\n",
       "  </thead>\n",
       "  <tbody>\n",
       "    <tr>\n",
       "      <td>0</td>\n",
       "      <td>0.020923</td>\n",
       "      <td>0.017282</td>\n",
       "      <td>0.805583</td>\n",
       "      <td>0.940932</td>\n",
       "    </tr>\n",
       "    <tr>\n",
       "      <td>1</td>\n",
       "      <td>0.027356</td>\n",
       "      <td>0.005866</td>\n",
       "      <td>0.786994</td>\n",
       "      <td>0.936355</td>\n",
       "    </tr>\n",
       "    <tr>\n",
       "      <td>2</td>\n",
       "      <td>0.012179</td>\n",
       "      <td>0.002068</td>\n",
       "      <td>0.763059</td>\n",
       "      <td>0.932485</td>\n",
       "    </tr>\n",
       "    <tr>\n",
       "      <td>3</td>\n",
       "      <td>0.011622</td>\n",
       "      <td>0.002088</td>\n",
       "      <td>0.912224</td>\n",
       "      <td>0.926825</td>\n",
       "    </tr>\n",
       "    <tr>\n",
       "      <td>4</td>\n",
       "      <td>0.008432</td>\n",
       "      <td>0.002231</td>\n",
       "      <td>0.830238</td>\n",
       "      <td>0.934300</td>\n",
       "    </tr>\n",
       "  </tbody>\n",
       "</table>\n",
       "</div>"
      ],
      "text/plain": [
       "   fit_time  score_time  test_score  train_score\n",
       "0  0.020923    0.017282    0.805583     0.940932\n",
       "1  0.027356    0.005866    0.786994     0.936355\n",
       "2  0.012179    0.002068    0.763059     0.932485\n",
       "3  0.011622    0.002088    0.912224     0.926825\n",
       "4  0.008432    0.002231    0.830238     0.934300"
      ]
     },
     "execution_count": 127,
     "metadata": {},
     "output_type": "execute_result"
    }
   ],
   "source": [
    "cv_table = pd.DataFrame(cv_result)\n",
    "cv_table"
   ]
  },
  {
   "cell_type": "markdown",
   "metadata": {},
   "source": [
    "- Per ognuno dei 5 fold vediamo riportati\n",
    "  - i secondi impiegati per l'addestramento (`fit_time`) e la validazione (`score_time`) del modello\n",
    "  - lo score calcolato su training set (`train_score`) e validation set (`test_score`)\n",
    "- Lo score è quello calcolato dal metodo `score` del modello, ovvero il coefficiente R²"
   ]
  },
  {
   "cell_type": "markdown",
   "metadata": {
    "slideshow": {
     "slide_type": "slide"
    }
   },
   "source": [
    "- Per avere un dato generale sulla bontà del modello, possiamo calcolare media e deviazione standard degli score"
   ]
  },
  {
   "cell_type": "code",
   "execution_count": 128,
   "metadata": {},
   "outputs": [
    {
     "data": {
      "text/html": [
       "<div>\n",
       "<style scoped>\n",
       "    .dataframe tbody tr th:only-of-type {\n",
       "        vertical-align: middle;\n",
       "    }\n",
       "\n",
       "    .dataframe tbody tr th {\n",
       "        vertical-align: top;\n",
       "    }\n",
       "\n",
       "    .dataframe thead th {\n",
       "        text-align: right;\n",
       "    }\n",
       "</style>\n",
       "<table border=\"1\" class=\"dataframe\">\n",
       "  <thead>\n",
       "    <tr style=\"text-align: right;\">\n",
       "      <th></th>\n",
       "      <th>train_score</th>\n",
       "      <th>test_score</th>\n",
       "    </tr>\n",
       "  </thead>\n",
       "  <tbody>\n",
       "    <tr>\n",
       "      <td>mean</td>\n",
       "      <td>0.934179</td>\n",
       "      <td>0.819620</td>\n",
       "    </tr>\n",
       "    <tr>\n",
       "      <td>std</td>\n",
       "      <td>0.005179</td>\n",
       "      <td>0.057334</td>\n",
       "    </tr>\n",
       "  </tbody>\n",
       "</table>\n",
       "</div>"
      ],
      "text/plain": [
       "      train_score  test_score\n",
       "mean     0.934179    0.819620\n",
       "std      0.005179    0.057334"
      ]
     },
     "execution_count": 128,
     "metadata": {},
     "output_type": "execute_result"
    }
   ],
   "source": [
    "cv_table[[\"train_score\", \"test_score\"]].agg([\"mean\", \"std\"])"
   ]
  },
  {
   "cell_type": "markdown",
   "metadata": {},
   "source": [
    "- Tale valutazione è più affidabile di quella col metodo hold-out, ottenuta da un singolo modello\n",
    "- Ci permette inoltre di valutare la \"robustezza\" del modello, ovvero quanto l'accuratezza sia stabile addestrandosi su set di dati diversi"
   ]
  },
  {
   "cell_type": "markdown",
   "metadata": {
    "slideshow": {
     "slide_type": "slide"
    }
   },
   "source": [
    "## Esercizio 7: Regressione ridge polinomiale\n",
    "\n",
    "- **(7a)** Definire un modello di regressione polinomiale di grado 2 con standardizzazione come sopra, ma con regolarizzazione L2 (ridge) con $\\alpha=1$\n",
    "- **(7b)** Effettuare la cross validation a 5 fold del modello (riutilizzare `kf`), usando come sopra tutti i dati in `X` e `y`\n",
    "- **(7c)** Estrarre media e deviazione standard di R² sui 5 fold e confrontarla col modello senza regolarizzazione"
   ]
  }
 ],
 "metadata": {
  "language_info": {
   "codemirror_mode": {
    "name": "ipython",
    "version": 3
   },
   "file_extension": ".py",
   "mimetype": "text/x-python",
   "name": "python",
   "nbconvert_exporter": "python",
   "pygments_lexer": "ipython3",
   "version": "3.7.1"
  }
 },
 "nbformat": 4,
 "nbformat_minor": 4
}
