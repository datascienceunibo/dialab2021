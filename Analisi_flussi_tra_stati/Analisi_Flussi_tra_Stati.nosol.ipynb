{
 "cells": [
  {
   "cell_type": "markdown",
   "metadata": {
    "slideshow": {
     "slide_type": "slide"
    }
   },
   "source": [
    "# Laboratorio: Analisi Flussi di Popolazione con pandas\n",
    "\n",
    "**Programmazione di Applicazioni Data Intensive**  \n",
    "Laurea in Ingegneria e Scienze Informatiche  \n",
    "DISI - Università di Bologna, Cesena\n",
    "\n",
    "Proff. Gianluca Moro, Roberto Pasolini  \n",
    "`nome.cognome@unibo.it`"
   ]
  },
  {
   "cell_type": "code",
   "execution_count": 1,
   "metadata": {},
   "outputs": [],
   "source": [
    "# test librerie\n",
    "import numpy\n",
    "import pandas"
   ]
  },
  {
   "cell_type": "markdown",
   "metadata": {
    "slideshow": {
     "slide_type": "slide"
    }
   },
   "source": [
    "## Caso di studio: Analisi flussi tra stati USA\n",
    "\n",
    "- L'ufficio del censimento degli Stati Uniti d'America pubblica annualmente un riepilogo dei flussi della popolazione tra stati\n",
    "- I dataset per ogni anno in formato XLS (Excel) possono essere reperiti alla pagina https://www.census.gov/data/tables/time-series/demo/geographic-mobility/state-to-state-migration.html\n",
    "- In questa esercitazione, lavoriamo sui dati dei flussi tra gli stati relativi al 2016\n",
    "- Eseguire la seguente cella per scaricare il file con i dati dell'esercitazione, se non presente"
   ]
  },
  {
   "cell_type": "code",
   "execution_count": 2,
   "metadata": {},
   "outputs": [],
   "source": [
    "import os.path\n",
    "if not os.path.exists(\"usa_census.npz\"):\n",
    "    from urllib.request import urlretrieve\n",
    "    urlretrieve(\"https://git.io/vxh8Y\", \"usa_census.npz\")"
   ]
  },
  {
   "cell_type": "markdown",
   "metadata": {
    "slideshow": {
     "slide_type": "slide"
    }
   },
   "source": [
    "## Caricamento dei dati\n",
    "\n",
    "- Abbiamo raccolto i dati da analizzare in un _archivio NumPy_, un file contenente un insieme di array con nomi associati\n",
    "- Usiamo la funzione `load` di NumPy per caricarlo\n",
    "  - `allow_pickle=True` abilita il caricamento di oggetti Python arbitrari, in questo caso serve per le stringhe con i nomi degli stati, **usarlo solo su file da fonti fidate!**"
   ]
  },
  {
   "cell_type": "code",
   "execution_count": 3,
   "metadata": {},
   "outputs": [],
   "source": [
    "import numpy as np\n",
    "data = np.load(\"usa_census.npz\", allow_pickle=True)"
   ]
  },
  {
   "cell_type": "markdown",
   "metadata": {},
   "source": [
    "- L'oggetto `data` ottenuto è simile ad un dizionario, i cui valori sono le matrici e le cui chiavi sono i loro nomi\n",
    "- Otteniamo una lista dei nomi delle matrici caricate"
   ]
  },
  {
   "cell_type": "code",
   "execution_count": 4,
   "metadata": {},
   "outputs": [
    {
     "name": "stdout",
     "output_type": "stream",
     "text": [
      "states, population, area, same_house, same_state, other_state, state_to_state, from_abroad\n"
     ]
    }
   ],
   "source": [
    "print(\", \".join(data.keys()))"
   ]
  },
  {
   "cell_type": "markdown",
   "metadata": {
    "slideshow": {
     "slide_type": "slide"
    }
   },
   "source": [
    "## Dati disponibili\n",
    "\n",
    "I dati contenuti nel file sono i seguenti:\n",
    "- `states`: vettore con i nomi degli stati\n",
    "- `population`: vettore con la popolazione totale attuale di ogni stato\n",
    "- `area`: vettore con la superficie di terra di ciascuno stato in miglia quadrate\n",
    "- `same_house`: vettore con numero di abitanti per stato che non hanno cambiato residenza nell'ultimo anno\n",
    "- `same_state`: vettore con numero di abitanti per stato che hanno cambiato residenza nell'ultimo anno, ma non lo stato\n",
    "- `other_state`: vettore con numero di abitanti per stato che si sono trasferiti da un altro stato nell'ultimo anno\n",
    "- `state_to_state`: matrice col numero di abitanti trasferitisi nell'ultimo anno da ciascuno stato ad un altro\n",
    "- `from_abroad`: vettore con numero di abitanti per stato trasferitisi negli USA dall'estero nell'ultimo anno"
   ]
  },
  {
   "cell_type": "markdown",
   "metadata": {
    "slideshow": {
     "slide_type": "slide"
    }
   },
   "source": [
    "- Possiamo stampare nome, tipo e forma di ciascun array"
   ]
  },
  {
   "cell_type": "code",
   "execution_count": 13,
   "metadata": {},
   "outputs": [
    {
     "name": "stdout",
     "output_type": "stream",
     "text": [
      "states object (51,)\n",
      "population int64 (51,)\n",
      "area float64 (51,)\n",
      "same_house int64 (51,)\n",
      "same_state int64 (51,)\n",
      "other_state int64 (51,)\n",
      "state_to_state int64 (51, 51)\n",
      "from_abroad int64 (51,)\n"
     ]
    }
   ],
   "source": [
    "# modo semplice: passo i valori a print che li separa con uno spazio\n",
    "for name, array in data.items():\n",
    "    print(name, array.dtype, array.shape)"
   ]
  },
  {
   "cell_type": "code",
   "execution_count": 14,
   "metadata": {},
   "outputs": [
    {
     "name": "stdout",
     "output_type": "stream",
     "text": [
      "         states:   object (51,)\n",
      "     population:    int64 (51,)\n",
      "           area:  float64 (51,)\n",
      "     same_house:    int64 (51,)\n",
      "     same_state:    int64 (51,)\n",
      "    other_state:    int64 (51,)\n",
      " state_to_state:    int64 (51, 51)\n",
      "    from_abroad:    int64 (51,)\n"
     ]
    }
   ],
   "source": [
    "# per maggiore leggibilità posso usare una f-string\n",
    "for name, array in data.items():\n",
    "    print(f\"{name:>15}: {array.dtype!s:>8} {array.shape}\")"
   ]
  },
  {
   "cell_type": "markdown",
   "metadata": {
    "slideshow": {
     "slide_type": "slide"
    }
   },
   "source": [
    "- Vediamo ad esempio l'array con i nomi degli stati, che sono in ordine alfabetico"
   ]
  },
  {
   "cell_type": "code",
   "execution_count": 16,
   "metadata": {
    "slideshow": {
     "slide_type": "-"
    }
   },
   "outputs": [
    {
     "data": {
      "text/plain": [
       "array(['Alabama', 'Alaska', 'Arizona', 'Arkansas', 'California',\n",
       "       'Colorado', 'Connecticut', 'Delaware', 'District of Columbia',\n",
       "       'Florida', 'Georgia', 'Hawaii', 'Idaho', 'Illinois', 'Indiana',\n",
       "       'Iowa', 'Kansas', 'Kentucky', 'Louisiana', 'Maine', 'Maryland',\n",
       "       'Massachusetts', 'Michigan', 'Minnesota', 'Mississippi',\n",
       "       'Missouri', 'Montana', 'Nebraska', 'Nevada', 'New Hampshire',\n",
       "       'New Jersey', 'New Mexico', 'New York', 'North Carolina',\n",
       "       'North Dakota', 'Ohio', 'Oklahoma', 'Oregon', 'Pennsylvania',\n",
       "       'Rhode Island', 'South Carolina', 'South Dakota', 'Tennessee',\n",
       "       'Texas', 'Utah', 'Vermont', 'Virginia', 'Washington',\n",
       "       'West Virginia', 'Wisconsin', 'Wyoming'], dtype=object)"
      ]
     },
     "execution_count": 16,
     "metadata": {},
     "output_type": "execute_result"
    }
   ],
   "source": [
    "data[\"states\"]"
   ]
  },
  {
   "cell_type": "markdown",
   "metadata": {},
   "source": [
    "- In tutti i vettori, i dati relativi ad uno stesso stato si trovano nella stessa posizione\n",
    "  - ad es. i dati relativi all'Alalbama si trovano nella posizione 0 di ciascun array (`population[0]`, `area[0]`, ...)"
   ]
  },
  {
   "cell_type": "markdown",
   "metadata": {
    "slideshow": {
     "slide_type": "slide"
    }
   },
   "source": [
    "- Per comodità, eseguire il seguente codice per importare automaticamente tutti gli elementi di `data` come variabili locali\n",
    "  - la funzione `exec` esegue codice Python dato in una stringa **(può eseguire codice arbitrario, va usata con cautela!)**"
   ]
  },
  {
   "cell_type": "code",
   "execution_count": 17,
   "metadata": {},
   "outputs": [],
   "source": [
    "for key, value in data.items():\n",
    "    exec(key + \" = value\")"
   ]
  },
  {
   "cell_type": "markdown",
   "metadata": {},
   "source": [
    "- In questo modo potremo usare ad es. `states` al posto di `data[\"states\"]`"
   ]
  },
  {
   "cell_type": "code",
   "execution_count": 18,
   "metadata": {},
   "outputs": [
    {
     "data": {
      "text/plain": [
       "array(['Alabama', 'Alaska', 'Arizona', 'Arkansas', 'California'],\n",
       "      dtype=object)"
      ]
     },
     "execution_count": 18,
     "metadata": {},
     "output_type": "execute_result"
    }
   ],
   "source": [
    "states   [:5]"
   ]
  },
  {
   "cell_type": "code",
   "execution_count": 19,
   "metadata": {},
   "outputs": [
    {
     "data": {
      "text/plain": [
       "array([ 4810126,   731760,  6851836,  2949650, 38783436])"
      ]
     },
     "execution_count": 19,
     "metadata": {},
     "output_type": "execute_result"
    }
   ],
   "source": [
    "population   [:5]"
   ]
  },
  {
   "cell_type": "markdown",
   "metadata": {
    "slideshow": {
     "slide_type": "slide"
    }
   },
   "source": [
    "## Esercizio 1: Ripasso NumPy\n",
    "\n",
    "Usando sugli array `states` e `population` le operazioni viste nello scorso laboratorio, estrarre:\n",
    "- **(1a)** il numero di abitanti del 5° stato in ordine alfabetico (California)\n",
    "- **(1b)** i nomi degli ultimi tre stati in ordine alfabetico\n",
    "- **(1c)** il numero di abitanti in Florida (senza sapere a priori la sua posizione)\n",
    "- **(1d)** i nomi degli stati con almeno 20 milioni di abitanti\n",
    "- **(1e)** il numero totale di abitanti in tutti gli stati\n",
    "- **(1f)** il nome dello stato con meno abitanti"
   ]
  },
  {
   "cell_type": "markdown",
   "metadata": {
    "slideshow": {
     "slide_type": "slide"
    }
   },
   "source": [
    "## pandas\n",
    "\n",
    "- **pandas** è una libreria Python di uso comune per lavorare con dati in forma tabulare\n",
    "- Definisce _serie_ e _data frame_, strutture dati simili agli array di NumPy ma dotate di _indici_ che etichettano i dati\n",
    "- Questo rende semplice reperire dati specifici, ad esempio la popolazione di uno stato data l'etichetta (il nome)\n",
    "- Iniziamo importando il package `pandas` con l'alias convenzionale `pd`"
   ]
  },
  {
   "cell_type": "code",
   "execution_count": 30,
   "metadata": {},
   "outputs": [],
   "source": [
    "import pandas as pd"
   ]
  },
  {
   "cell_type": "markdown",
   "metadata": {
    "slideshow": {
     "slide_type": "slide"
    }
   },
   "source": [
    "## Serie\n",
    "\n",
    "- Una **_serie_** pandas è un vettore di valori simile ad un array 1D NumPy con un'etichetta associata a ciascuno\n",
    "- La sequenza di etichette costituisce l'_indice_ della serie, anch'esso un array 1D\n",
    "- Il costruttore `Series` permette di creare una serie di cui sono forniti i dati e l'indice (`index`) in due vettori di uguale lunghezza\n",
    "- Creiamo la serie `population` che sostituisca l'array con lo stesso nome\n",
    "  - i dati della serie sono contenuti nell'array stesso\n",
    "  - le etichette sono i nomi degli stati contenuti nell'array `states`"
   ]
  },
  {
   "cell_type": "code",
   "execution_count": 33,
   "metadata": {},
   "outputs": [],
   "source": [
    "population = pd.Series(population, index=states)"
   ]
  },
  {
   "cell_type": "markdown",
   "metadata": {
    "slideshow": {
     "slide_type": "slide"
    }
   },
   "source": [
    "- Visualizziamo la serie, utilizzando il metodo `head` per estrarne solo i primi N elementi"
   ]
  },
  {
   "cell_type": "code",
   "execution_count": 34,
   "metadata": {},
   "outputs": [
    {
     "data": {
      "text/plain": [
       "Alabama         4810126\n",
       "Alaska           731760\n",
       "Arizona         6851836\n",
       "Arkansas        2949650\n",
       "California     38783436\n",
       "Colorado        5476928\n",
       "Connecticut     3541758\n",
       "dtype: int64"
      ]
     },
     "execution_count": 34,
     "metadata": {},
     "output_type": "execute_result"
    }
   ],
   "source": [
    "population.head(7)"
   ]
  },
  {
   "cell_type": "markdown",
   "metadata": {},
   "source": [
    "- Sulla sinistra vediamo le **etichette** che formano l'indice: i nomi degli stati\n",
    "- Sulla destra vediamo i **valori**: la popolazione di ciascuno stato\n",
    "- In fondo vediamo il datatype dei valori (numeri interi)"
   ]
  },
  {
   "cell_type": "markdown",
   "metadata": {
    "slideshow": {
     "slide_type": "slide"
    }
   },
   "source": [
    "## Attributi di base di una serie\n",
    "\n",
    "- Una serie è composta dai dati e dalle etichette: gli attributi `values` e `index` restituiscono questi elementi in forma di vettori"
   ]
  },
  {
   "cell_type": "code",
   "execution_count": 37,
   "metadata": {},
   "outputs": [
    {
     "data": {
      "text/plain": [
       "array([ 4810126,   731760,  6851836,  2949650, 38783436])"
      ]
     },
     "execution_count": 37,
     "metadata": {},
     "output_type": "execute_result"
    }
   ],
   "source": [
    "population.values   [:5]"
   ]
  },
  {
   "cell_type": "code",
   "execution_count": 38,
   "metadata": {},
   "outputs": [
    {
     "data": {
      "text/plain": [
       "Index(['Alabama', 'Alaska', 'Arizona', 'Arkansas', 'California'], dtype='object')"
      ]
     },
     "execution_count": 38,
     "metadata": {},
     "output_type": "execute_result"
    }
   ],
   "source": [
    "population.index    [:5]"
   ]
  },
  {
   "cell_type": "markdown",
   "metadata": {},
   "source": [
    "- Il numero di elementi totale si può ottenere con la funzione `len` di Python o (per analogia con gli array) con l'attributo `size`"
   ]
  },
  {
   "cell_type": "code",
   "execution_count": 39,
   "metadata": {},
   "outputs": [
    {
     "data": {
      "text/plain": [
       "51"
      ]
     },
     "execution_count": 39,
     "metadata": {},
     "output_type": "execute_result"
    }
   ],
   "source": [
    "len(population)\n",
    "# oppure\n",
    "population.size"
   ]
  },
  {
   "cell_type": "markdown",
   "metadata": {
    "slideshow": {
     "slide_type": "slide"
    }
   },
   "source": [
    "## Selezionare dati da una serie\n",
    "\n",
    "- Le serie supportano in pratica le stesse tecniche di selezione degli array, ma usando le **etichette al posto degli indici numerici**\n",
    "- Per cui ad es. per ottenere la popolazione della California si scrive semplicemente:"
   ]
  },
  {
   "cell_type": "code",
   "execution_count": 40,
   "metadata": {},
   "outputs": [
    {
     "data": {
      "text/plain": [
       "38783436"
      ]
     },
     "execution_count": 40,
     "metadata": {},
     "output_type": "execute_result"
    }
   ],
   "source": [
    "population[\"California\"]"
   ]
  },
  {
   "cell_type": "markdown",
   "metadata": {},
   "source": [
    "- Se si seleziona un'etichetta inesistente, si ha un `KeyError` come per i dizionari `{...}`"
   ]
  },
  {
   "cell_type": "markdown",
   "metadata": {
    "slideshow": {
     "slide_type": "slide"
    }
   },
   "source": [
    "- Si può selezionare un intervallo tra due etichette\n",
    "  - sono **inclusi entrambi gli estremi**, a differenza di altre strutture dati"
   ]
  },
  {
   "cell_type": "code",
   "execution_count": 46,
   "metadata": {},
   "outputs": [
    {
     "data": {
      "text/plain": [
       "Arizona        6851836\n",
       "Arkansas       2949650\n",
       "California    38783436\n",
       "Colorado       5476928\n",
       "dtype: int64"
      ]
     },
     "execution_count": 46,
     "metadata": {},
     "output_type": "execute_result"
    }
   ],
   "source": [
    "population[\"Arizona\":\"Colorado\"]"
   ]
  },
  {
   "cell_type": "markdown",
   "metadata": {},
   "source": [
    "- Gli estremi dell'intervallo _A:B_ possono non esistere, vengono comunque presi gli elementi inclusi con _A <= etichetta <= B_\n",
    "  - funziona se le etichette sono disposte in ordine, altrimenti si ha errore!\n",
    "- Ad es. per selezionare gli stati con iniziali da S a U (incluse) selezioniamo le etichette nell'intervallo `\"S\":\"V\"`\n",
    "  - con `\"S\":\"U\"` verrebbe escluso \"Utah\" perché viene dopo \"U\""
   ]
  },
  {
   "cell_type": "code",
   "execution_count": 52,
   "metadata": {},
   "outputs": [
    {
     "data": {
      "text/plain": [
       "South Carolina     4903788\n",
       "South Dakota        853832\n",
       "Tennessee          6580953\n",
       "Texas             27472626\n",
       "Utah               3002244\n",
       "dtype: int64"
      ]
     },
     "execution_count": 52,
     "metadata": {},
     "output_type": "execute_result"
    }
   ],
   "source": [
    "population[\"S\":\"V\"]"
   ]
  },
  {
   "cell_type": "markdown",
   "metadata": {
    "slideshow": {
     "slide_type": "slide"
    }
   },
   "source": [
    "- Si può selezionare un sottoinsieme della serie indicando una lista di etichette"
   ]
  },
  {
   "cell_type": "code",
   "execution_count": 53,
   "metadata": {},
   "outputs": [],
   "source": [
    "# lista di stati della costa ovest\n",
    "west_coast = [\"Washington\", \"Oregon\", \"California\"]"
   ]
  },
  {
   "cell_type": "code",
   "execution_count": 54,
   "metadata": {},
   "outputs": [
    {
     "data": {
      "text/plain": [
       "Washington     7202119\n",
       "Oregon         4052221\n",
       "California    38783436\n",
       "dtype: int64"
      ]
     },
     "execution_count": 54,
     "metadata": {},
     "output_type": "execute_result"
    }
   ],
   "source": [
    "# popolazione stati della costa ovest\n",
    "population[west_coast]"
   ]
  },
  {
   "cell_type": "markdown",
   "metadata": {
    "slideshow": {
     "slide_type": "slide"
    }
   },
   "source": [
    "## Creazione delle altre serie\n",
    "\n",
    "- Creiamo una serie per ciascuno degli altri vettori di dati, utilizzando sempre il vettore di nomi degli Stati `states` come indice\n",
    "  - _(se servissero, gli array originali rimangono disponibili nell'oggetto `data`)_"
   ]
  },
  {
   "cell_type": "code",
   "execution_count": 55,
   "metadata": {},
   "outputs": [],
   "source": [
    "area        = pd.Series(area,        index=states)\n",
    "same_house  = pd.Series(same_house,  index=states)\n",
    "same_state  = pd.Series(same_state,  index=states)\n",
    "other_state = pd.Series(other_state, index=states)\n",
    "from_abroad = pd.Series(from_abroad, index=states)"
   ]
  },
  {
   "cell_type": "markdown",
   "metadata": {
    "slideshow": {
     "slide_type": "slide"
    }
   },
   "source": [
    "## Operazioni tra serie\n",
    "\n",
    "- Come per gli array, è possibile effettuare operazioni elemento per elemento tra due serie o tra una serie ed un valore singolo\n",
    "- Si possono utilizzare operazioni binarie (`+`, `*`, ...) e funzioni universali di NumPy (`np.log`, ...)\n",
    "- Nel caso di due serie, le operazioni sono applicate **tra elementi di uguale etichetta** (indipendentemente dalla posizione!)\n",
    "  - la serie risultante avrà valori mancanti (NA) in corrispondenza di etichette presenti in un solo operando"
   ]
  },
  {
   "cell_type": "markdown",
   "metadata": {
    "slideshow": {
     "slide_type": "slide"
    }
   },
   "source": [
    "- Ad es. per ottenere la popolazione in milioni di abitanti"
   ]
  },
  {
   "cell_type": "code",
   "execution_count": 56,
   "metadata": {},
   "outputs": [
    {
     "data": {
      "text/plain": [
       "Alabama    4.810126\n",
       "Alaska     0.731760\n",
       "Arizona    6.851836\n",
       "dtype: float64"
      ]
     },
     "execution_count": 56,
     "metadata": {},
     "output_type": "execute_result"
    }
   ],
   "source": [
    "(population / 1_000_000)    .head(3)"
   ]
  },
  {
   "cell_type": "markdown",
   "metadata": {},
   "source": [
    "- Per ottenere il logaritmo in base 10 della popolazione (ad es. per creare un grafico in tale scala):"
   ]
  },
  {
   "cell_type": "code",
   "execution_count": 57,
   "metadata": {},
   "outputs": [
    {
     "data": {
      "text/plain": [
       "Alabama    6.682156\n",
       "Alaska     5.864369\n",
       "Arizona    6.835807\n",
       "dtype: float64"
      ]
     },
     "execution_count": 57,
     "metadata": {},
     "output_type": "execute_result"
    }
   ],
   "source": [
    "np.log10(population)   .head(3)"
   ]
  },
  {
   "cell_type": "markdown",
   "metadata": {
    "slideshow": {
     "slide_type": "slide"
    }
   },
   "source": [
    "## Esercizio 2: Operazioni tra serie\n",
    "\n",
    "- **(2a)** La serie `area` riporta la superficie degli stati in miglia quadrate: ricavare una serie `area_km2` con la superficie in chilometri quadrati (1 mi² = 2,59 km²)\n",
    "- **(2b)** Creare una serie `density` con la densità di popolazione di ciascuno stato in abitanti per km²"
   ]
  },
  {
   "cell_type": "code",
   "execution_count": 59,
   "metadata": {},
   "outputs": [],
   "source": [
    "area_km2 = ..."
   ]
  },
  {
   "cell_type": "code",
   "execution_count": 61,
   "metadata": {},
   "outputs": [],
   "source": [
    "density = ..."
   ]
  },
  {
   "cell_type": "markdown",
   "metadata": {
    "slideshow": {
     "slide_type": "slide"
    }
   },
   "source": [
    "## Serie booleane e selezione per condizioni\n",
    "\n",
    "- Applicando una comparazione ad una serie, si ottiene una serie di valori booleani\n",
    "- Ad esempio, per ottenere la serie che associa `True` agli stati non più grandi di 5.000 miglia quadrate:"
   ]
  },
  {
   "cell_type": "code",
   "execution_count": 64,
   "metadata": {},
   "outputs": [
    {
     "data": {
      "text/plain": [
       "Alabama                 False\n",
       "Alaska                  False\n",
       "Arizona                 False\n",
       "Arkansas                False\n",
       "California              False\n",
       "Colorado                False\n",
       "Connecticut              True\n",
       "Delaware                 True\n",
       "District of Columbia     True\n",
       "Florida                 False\n",
       "dtype: bool"
      ]
     },
     "execution_count": 64,
     "metadata": {},
     "output_type": "execute_result"
    }
   ],
   "source": [
    "is_small = area <= 5000\n",
    "is_small.head(10)"
   ]
  },
  {
   "cell_type": "markdown",
   "metadata": {
    "slideshow": {
     "slide_type": "slide"
    }
   },
   "source": [
    "- Come per gli array, una serie booleana può essere usata per selezionare solamente alcuni elementi di una serie di dati\n",
    "  - sono selezionati solamente gli elementi alla cui etichetta nella serie booleana è associato `True`\n",
    "- Ad esempio, per mostrare la superficie dei soli stati piccoli individuati sopra:"
   ]
  },
  {
   "cell_type": "code",
   "execution_count": 65,
   "metadata": {},
   "outputs": [
    {
     "data": {
      "text/plain": [
       "Connecticut             4842.36\n",
       "Delaware                1948.54\n",
       "District of Columbia      61.05\n",
       "Rhode Island            1033.81\n",
       "dtype: float64"
      ]
     },
     "execution_count": 65,
     "metadata": {},
     "output_type": "execute_result"
    }
   ],
   "source": [
    "area[area <= 5000]\n",
    "# o anche: area[is_small]"
   ]
  },
  {
   "cell_type": "markdown",
   "metadata": {
    "slideshow": {
     "slide_type": "slide"
    }
   },
   "source": [
    "- La serie da cui sono selezionati i dati e quella usata come condizione possono anche differire..."
   ]
  },
  {
   "cell_type": "code",
   "execution_count": 66,
   "metadata": {},
   "outputs": [
    {
     "data": {
      "text/plain": [
       "Connecticut             3541758\n",
       "Delaware                 942073\n",
       "District of Columbia     672022\n",
       "Rhode Island            1045691\n",
       "dtype: int64"
      ]
     },
     "execution_count": 66,
     "metadata": {},
     "output_type": "execute_result"
    }
   ],
   "source": [
    "# popolazione degli stati piccoli\n",
    "population[area <= 5000]"
   ]
  },
  {
   "cell_type": "markdown",
   "metadata": {},
   "source": [
    "- Possiamo combinare serie booleane con gli operatori `&` (AND), `|` (OR), `^` (XOR), `~` (NOT)\n",
    "  - tali operatori hanno normalmente priorità superiore alle comparazioni (`>`, `<=`, ...), **usare le parentesi** per evitare errori"
   ]
  },
  {
   "cell_type": "code",
   "execution_count": 67,
   "metadata": {},
   "outputs": [
    {
     "data": {
      "text/plain": [
       "Connecticut     3541758\n",
       "Rhode Island    1045691\n",
       "dtype: int64"
      ]
     },
     "execution_count": 67,
     "metadata": {},
     "output_type": "execute_result"
    }
   ],
   "source": [
    "# stati piccoli con più di un milione di abitanti\n",
    "population[(population >= 1_000_000) & (area <= 5000)]"
   ]
  },
  {
   "cell_type": "markdown",
   "metadata": {
    "slideshow": {
     "slide_type": "slide"
    }
   },
   "source": [
    "## Operazioni di riduzione sulle serie\n",
    "\n",
    "- Le serie offrono metodi simili a quelli degli array per aggregare i dati: `sum`, `mean`, `min`, `max`, ...\n",
    "- Ad esempio, per ottenere la popolazione totale di tutti gli Stati:"
   ]
  },
  {
   "cell_type": "code",
   "execution_count": 68,
   "metadata": {},
   "outputs": [
    {
     "data": {
      "text/plain": [
       "319361956"
      ]
     },
     "execution_count": 68,
     "metadata": {},
     "output_type": "execute_result"
    }
   ],
   "source": [
    "population.sum()"
   ]
  },
  {
   "cell_type": "markdown",
   "metadata": {},
   "source": [
    "- Per ottenere la popolazione nello Stato dove è maggiore:"
   ]
  },
  {
   "cell_type": "code",
   "execution_count": 69,
   "metadata": {},
   "outputs": [
    {
     "data": {
      "text/plain": [
       "38783436"
      ]
     },
     "execution_count": 69,
     "metadata": {},
     "output_type": "execute_result"
    }
   ],
   "source": [
    "population.max()"
   ]
  },
  {
   "cell_type": "markdown",
   "metadata": {},
   "source": [
    "- Per conoscere a quale Stato corrisponde, uso il metodo `idxmax` che restituisce l'etichetta del valore maggiore"
   ]
  },
  {
   "cell_type": "code",
   "execution_count": 70,
   "metadata": {},
   "outputs": [
    {
     "data": {
      "text/plain": [
       "'California'"
      ]
     },
     "execution_count": 70,
     "metadata": {},
     "output_type": "execute_result"
    }
   ],
   "source": [
    "population.idxmax()"
   ]
  },
  {
   "cell_type": "markdown",
   "metadata": {
    "slideshow": {
     "slide_type": "slide"
    }
   },
   "source": [
    "## Esercizio 3: Operazioni di riduzione su serie\n",
    "\n",
    "Ricavare:\n",
    "- **(3a)** la densità di popolazione dello stato più piccolo\n",
    "- **(3b)** il numero di stati la cui popolazione è superiore al milione di abitanti\n",
    "- **(3c)** il totale della popolazione degli stati sulla costa ovest (vedi lista `west_coast`)\n",
    "- **(3d)** la densità media degli stati con almeno 10 milioni di abitanti"
   ]
  },
  {
   "cell_type": "markdown",
   "metadata": {
    "slideshow": {
     "slide_type": "slide"
    }
   },
   "source": [
    "## DataFrame\n",
    "\n",
    "- Un `DataFrame` pandas contiene dati strutturati in **forma tabulare**, dove in genere\n",
    "  - **ogni riga** della tabella rappresenta **un elemento** dell'insieme che si sta analizzando (una persona, un territorio, ...)\n",
    "  - **ogni colonna** rappresenta **una caratteristica** di interesse (_feature_) degli elementi (età, popolazione, ...)\n",
    "- Le colonne di un data frame costituiscono un insieme di serie tutte con la stessa sequenza di etichette\n",
    "  - tale sequenza costituisce l'_indice delle righe_ del frame (o semplicemente _indice_)\n",
    "  - ogni colonna ha un nome, i nomi delle colonne formano l'_indice delle colonne_ del frame\n",
    "  - i datatype dei valori possono differire da una colonna all'altra"
   ]
  },
  {
   "cell_type": "markdown",
   "metadata": {
    "slideshow": {
     "slide_type": "slide"
    }
   },
   "source": [
    "## Creare un DataFrame\n",
    "\n",
    "- Per creare un DataFrame possiamo passare un dizionario con una serie di valori per ciascuna colonna, la cui chiave è il nome\n",
    "  - l'indice delle serie, identico per tutte, è usato come indice delle righe del DataFrame\n",
    "  - se alcune etichette fossero presenti solo in alcune serie, si otterrebbero valori mancanti nelle altre colonne"
   ]
  },
  {
   "cell_type": "code",
   "execution_count": 77,
   "metadata": {},
   "outputs": [],
   "source": [
    "census = pd.DataFrame({\n",
    "    \"population\": population,\n",
    "    \"from_abroad\": from_abroad,\n",
    "    \"area\": area_km2\n",
    "})"
   ]
  },
  {
   "cell_type": "markdown",
   "metadata": {
    "slideshow": {
     "slide_type": "slide"
    }
   },
   "source": [
    "- Visualizziamo le prime righe del DataFrame come esempio..."
   ]
  },
  {
   "cell_type": "code",
   "execution_count": 78,
   "metadata": {},
   "outputs": [
    {
     "data": {
      "text/html": [
       "<div>\n",
       "<style scoped>\n",
       "    .dataframe tbody tr th:only-of-type {\n",
       "        vertical-align: middle;\n",
       "    }\n",
       "\n",
       "    .dataframe tbody tr th {\n",
       "        vertical-align: top;\n",
       "    }\n",
       "\n",
       "    .dataframe thead th {\n",
       "        text-align: right;\n",
       "    }\n",
       "</style>\n",
       "<table border=\"1\" class=\"dataframe\">\n",
       "  <thead>\n",
       "    <tr style=\"text-align: right;\">\n",
       "      <th></th>\n",
       "      <th>population</th>\n",
       "      <th>from_abroad</th>\n",
       "      <th>area</th>\n",
       "    </tr>\n",
       "  </thead>\n",
       "  <tbody>\n",
       "    <tr>\n",
       "      <td>Alabama</td>\n",
       "      <td>4810126</td>\n",
       "      <td>16062</td>\n",
       "      <td>1.311714e+05</td>\n",
       "    </tr>\n",
       "    <tr>\n",
       "      <td>Alaska</td>\n",
       "      <td>731760</td>\n",
       "      <td>6559</td>\n",
       "      <td>1.477960e+06</td>\n",
       "    </tr>\n",
       "    <tr>\n",
       "      <td>Arizona</td>\n",
       "      <td>6851836</td>\n",
       "      <td>53749</td>\n",
       "      <td>2.942087e+05</td>\n",
       "    </tr>\n",
       "    <tr>\n",
       "      <td>Arkansas</td>\n",
       "      <td>2949650</td>\n",
       "      <td>9051</td>\n",
       "      <td>1.347719e+05</td>\n",
       "    </tr>\n",
       "    <tr>\n",
       "      <td>California</td>\n",
       "      <td>38783436</td>\n",
       "      <td>336614</td>\n",
       "      <td>4.034682e+05</td>\n",
       "    </tr>\n",
       "  </tbody>\n",
       "</table>\n",
       "</div>"
      ],
      "text/plain": [
       "            population  from_abroad          area\n",
       "Alabama        4810126        16062  1.311714e+05\n",
       "Alaska          731760         6559  1.477960e+06\n",
       "Arizona        6851836        53749  2.942087e+05\n",
       "Arkansas       2949650         9051  1.347719e+05\n",
       "California    38783436       336614  4.034682e+05"
      ]
     },
     "execution_count": 78,
     "metadata": {},
     "output_type": "execute_result"
    }
   ],
   "source": [
    "census.head(5)"
   ]
  },
  {
   "cell_type": "markdown",
   "metadata": {},
   "source": [
    "- In alto sono scritti i nomi delle colonne, che costituiscono _l'indice delle colonne_\n",
    "- A sinistra sono scritti i nomi degli Stati, che costituiscono _l'indice delle righe_\n",
    "- Gli indici **non** contano come righe o colonne del frame"
   ]
  },
  {
   "cell_type": "markdown",
   "metadata": {
    "slideshow": {
     "slide_type": "slide"
    }
   },
   "source": [
    "- Da un `DataFrame` possiamo estrarre i suoi componenti:\n",
    "  - la matrice dei dati `values`\n",
    "  - l'indice delle righe `index`\n",
    "  - l'indice delle colonne `columns`"
   ]
  },
  {
   "cell_type": "code",
   "execution_count": 85,
   "metadata": {},
   "outputs": [
    {
     "data": {
      "text/plain": [
       "array([[4.81012600e+06, 1.60620000e+04, 1.31171405e+05],\n",
       "       [7.31760000e+05, 6.55900000e+03, 1.47796006e+06],\n",
       "       [6.85183600e+06, 5.37490000e+04, 2.94208667e+05],\n",
       "       [2.94965000e+06, 9.05100000e+03, 1.34771893e+05]])"
      ]
     },
     "execution_count": 85,
     "metadata": {},
     "output_type": "execute_result"
    }
   ],
   "source": [
    "census.values   [:4] # prime 4 righe"
   ]
  },
  {
   "cell_type": "code",
   "execution_count": 86,
   "metadata": {},
   "outputs": [
    {
     "data": {
      "text/plain": [
       "Index(['Alabama', 'Alaska', 'Arizona', 'Arkansas'], dtype='object')"
      ]
     },
     "execution_count": 86,
     "metadata": {},
     "output_type": "execute_result"
    }
   ],
   "source": [
    "census.index   [:4] # primi 4 stati"
   ]
  },
  {
   "cell_type": "code",
   "execution_count": 87,
   "metadata": {},
   "outputs": [
    {
     "data": {
      "text/plain": [
       "Index(['population', 'from_abroad', 'area'], dtype='object')"
      ]
     },
     "execution_count": 87,
     "metadata": {},
     "output_type": "execute_result"
    }
   ],
   "source": [
    "census.columns"
   ]
  },
  {
   "cell_type": "markdown",
   "metadata": {},
   "source": [
    "- Come per le matrici, possiamo ottenere il numero di righe e di colonne con `shape`"
   ]
  },
  {
   "cell_type": "code",
   "execution_count": 88,
   "metadata": {},
   "outputs": [
    {
     "data": {
      "text/plain": [
       "(51, 3)"
      ]
     },
     "execution_count": 88,
     "metadata": {},
     "output_type": "execute_result"
    }
   ],
   "source": [
    "census.shape"
   ]
  },
  {
   "cell_type": "markdown",
   "metadata": {
    "slideshow": {
     "slide_type": "slide"
    }
   },
   "source": [
    "- Un modo alternativo per creare un DataFrame è passare una matrice (array 2D) con i dati e vettori con nomi di righe e colonne\n",
    "- Ad esempio, possiamo convertire in DataFrame la matrice `state_to_state` che indica il numero di persone trasferitesi da uno stato all'altro nell'ultimo anno\n",
    "- Creiamo il DataFrame passando i dati nella matrice e usando il vettore dei nomi `states` come indice sia delle righe (`index`) che delle colonne (`columns`)"
   ]
  },
  {
   "cell_type": "code",
   "execution_count": 89,
   "metadata": {},
   "outputs": [],
   "source": [
    "state_to_state = pd.DataFrame(state_to_state, index=states, columns=states)"
   ]
  },
  {
   "cell_type": "markdown",
   "metadata": {
    "slideshow": {
     "slide_type": "slide"
    }
   },
   "source": [
    "- Abbiamo così convertito la matrice in una tabella leggibile, di cui quì visualizziamo una parte"
   ]
  },
  {
   "cell_type": "code",
   "execution_count": 109,
   "metadata": {},
   "outputs": [
    {
     "data": {
      "text/html": [
       "<div>\n",
       "<style scoped>\n",
       "    .dataframe tbody tr th:only-of-type {\n",
       "        vertical-align: middle;\n",
       "    }\n",
       "\n",
       "    .dataframe tbody tr th {\n",
       "        vertical-align: top;\n",
       "    }\n",
       "\n",
       "    .dataframe thead th {\n",
       "        text-align: right;\n",
       "    }\n",
       "</style>\n",
       "<table border=\"1\" class=\"dataframe\">\n",
       "  <thead>\n",
       "    <tr style=\"text-align: right;\">\n",
       "      <th></th>\n",
       "      <th>Alabama</th>\n",
       "      <th>Alaska</th>\n",
       "      <th>Arizona</th>\n",
       "      <th>Arkansas</th>\n",
       "      <th>California</th>\n",
       "    </tr>\n",
       "  </thead>\n",
       "  <tbody>\n",
       "    <tr>\n",
       "      <td>Alabama</td>\n",
       "      <td>0</td>\n",
       "      <td>576</td>\n",
       "      <td>1022</td>\n",
       "      <td>495</td>\n",
       "      <td>6611</td>\n",
       "    </tr>\n",
       "    <tr>\n",
       "      <td>Alaska</td>\n",
       "      <td>423</td>\n",
       "      <td>0</td>\n",
       "      <td>1176</td>\n",
       "      <td>65</td>\n",
       "      <td>3593</td>\n",
       "    </tr>\n",
       "    <tr>\n",
       "      <td>Arizona</td>\n",
       "      <td>894</td>\n",
       "      <td>1946</td>\n",
       "      <td>0</td>\n",
       "      <td>1205</td>\n",
       "      <td>64756</td>\n",
       "    </tr>\n",
       "    <tr>\n",
       "      <td>Arkansas</td>\n",
       "      <td>2057</td>\n",
       "      <td>103</td>\n",
       "      <td>836</td>\n",
       "      <td>0</td>\n",
       "      <td>4026</td>\n",
       "    </tr>\n",
       "    <tr>\n",
       "      <td>California</td>\n",
       "      <td>3045</td>\n",
       "      <td>4206</td>\n",
       "      <td>33757</td>\n",
       "      <td>4282</td>\n",
       "      <td>0</td>\n",
       "    </tr>\n",
       "  </tbody>\n",
       "</table>\n",
       "</div>"
      ],
      "text/plain": [
       "            Alabama  Alaska  Arizona  Arkansas  California\n",
       "Alabama           0     576     1022       495        6611\n",
       "Alaska          423       0     1176        65        3593\n",
       "Arizona         894    1946        0      1205       64756\n",
       "Arkansas       2057     103      836         0        4026\n",
       "California     3045    4206    33757      4282           0"
      ]
     },
     "execution_count": 109,
     "metadata": {},
     "output_type": "execute_result"
    }
   ],
   "source": [
    "state_to_state   .iloc[:5, :5]"
   ]
  },
  {
   "cell_type": "markdown",
   "metadata": {},
   "source": [
    "- Ogni riga rappresenta lo stato di destinazione, ogni colonna lo stato d'origine\n",
    "  - ad esempio, 423 persone si sono trasferite dall'Alabama all'Alaska"
   ]
  },
  {
   "cell_type": "markdown",
   "metadata": {
    "slideshow": {
     "slide_type": "slide"
    }
   },
   "source": [
    "## Estrarre ed aggiungere colonne\n",
    "\n",
    "- Il DataFrame è utilizzabile come un dizionario i cui valori sono le colonne e le chiavi i loro nomi\n",
    "- Selezionando una chiave, viene restituita la colonna con quel nome in forma di serie\n",
    "  - l'indice della serie restituita è l'indice del DataFrame"
   ]
  },
  {
   "cell_type": "code",
   "execution_count": 94,
   "metadata": {},
   "outputs": [
    {
     "data": {
      "text/plain": [
       "Alabama    4810126\n",
       "Alaska      731760\n",
       "Arizona    6851836\n",
       "Name: population, dtype: int64"
      ]
     },
     "execution_count": 94,
     "metadata": {},
     "output_type": "execute_result"
    }
   ],
   "source": [
    "census[\"population\"]   .head(3)"
   ]
  },
  {
   "cell_type": "markdown",
   "metadata": {
    "slideshow": {
     "slide_type": "slide"
    }
   },
   "source": [
    "- Seguendo la stessa logica, è possibile aggiungere colonne assegnando una serie di valori ad un nome\n",
    "  - se una colonna col nome dato esiste già, viene sovrascritta\n",
    "  - se viene passata una serie, i valori sono assegnati per corrispondenza tra etichette e indice delle righe\n",
    "- Questo permette di creare facilmente colonne con valori derivati dalle altre\n",
    "- Ad esempio, per aggiungere una colonna con la densità di popolazione _(senza usare la serie creata in precedenza)_:"
   ]
  },
  {
   "cell_type": "code",
   "execution_count": 95,
   "metadata": {},
   "outputs": [],
   "source": [
    "census[\"density\"] = census[\"population\"] / census[\"area\"]"
   ]
  },
  {
   "cell_type": "markdown",
   "metadata": {
    "slideshow": {
     "slide_type": "slide"
    }
   },
   "source": [
    "- La colonna viene così aggiunta a destra nel DataFrame:"
   ]
  },
  {
   "cell_type": "code",
   "execution_count": 96,
   "metadata": {},
   "outputs": [
    {
     "data": {
      "text/html": [
       "<div>\n",
       "<style scoped>\n",
       "    .dataframe tbody tr th:only-of-type {\n",
       "        vertical-align: middle;\n",
       "    }\n",
       "\n",
       "    .dataframe tbody tr th {\n",
       "        vertical-align: top;\n",
       "    }\n",
       "\n",
       "    .dataframe thead th {\n",
       "        text-align: right;\n",
       "    }\n",
       "</style>\n",
       "<table border=\"1\" class=\"dataframe\">\n",
       "  <thead>\n",
       "    <tr style=\"text-align: right;\">\n",
       "      <th></th>\n",
       "      <th>population</th>\n",
       "      <th>from_abroad</th>\n",
       "      <th>area</th>\n",
       "      <th>density</th>\n",
       "    </tr>\n",
       "  </thead>\n",
       "  <tbody>\n",
       "    <tr>\n",
       "      <td>Alabama</td>\n",
       "      <td>4810126</td>\n",
       "      <td>16062</td>\n",
       "      <td>1.311714e+05</td>\n",
       "      <td>36.670538</td>\n",
       "    </tr>\n",
       "    <tr>\n",
       "      <td>Alaska</td>\n",
       "      <td>731760</td>\n",
       "      <td>6559</td>\n",
       "      <td>1.477960e+06</td>\n",
       "      <td>0.495115</td>\n",
       "    </tr>\n",
       "    <tr>\n",
       "      <td>Arizona</td>\n",
       "      <td>6851836</td>\n",
       "      <td>53749</td>\n",
       "      <td>2.942087e+05</td>\n",
       "      <td>23.289035</td>\n",
       "    </tr>\n",
       "    <tr>\n",
       "      <td>Arkansas</td>\n",
       "      <td>2949650</td>\n",
       "      <td>9051</td>\n",
       "      <td>1.347719e+05</td>\n",
       "      <td>21.886240</td>\n",
       "    </tr>\n",
       "    <tr>\n",
       "      <td>California</td>\n",
       "      <td>38783436</td>\n",
       "      <td>336614</td>\n",
       "      <td>4.034682e+05</td>\n",
       "      <td>96.125142</td>\n",
       "    </tr>\n",
       "  </tbody>\n",
       "</table>\n",
       "</div>"
      ],
      "text/plain": [
       "            population  from_abroad          area    density\n",
       "Alabama        4810126        16062  1.311714e+05  36.670538\n",
       "Alaska          731760         6559  1.477960e+06   0.495115\n",
       "Arizona        6851836        53749  2.942087e+05  23.289035\n",
       "Arkansas       2949650         9051  1.347719e+05  21.886240\n",
       "California    38783436       336614  4.034682e+05  96.125142"
      ]
     },
     "execution_count": 96,
     "metadata": {},
     "output_type": "execute_result"
    }
   ],
   "source": [
    "census.head(5)"
   ]
  },
  {
   "cell_type": "markdown",
   "metadata": {
    "slideshow": {
     "slide_type": "slide"
    }
   },
   "source": [
    "## Statistiche sui dati\n",
    "\n",
    "- Anche sui `DataFrame` sono disponibili i metodi `sum`, `mean`, `min`, ... per aggregare i dati\n",
    "- Di default, restituiscono una serie con la statistica calcolata colonna per colonna"
   ]
  },
  {
   "cell_type": "code",
   "execution_count": 97,
   "metadata": {},
   "outputs": [
    {
     "data": {
      "text/plain": [
       "population     6.261999e+06\n",
       "from_abroad    4.307184e+04\n",
       "area           1.793654e+05\n",
       "density        1.585860e+02\n",
       "dtype: float64"
      ]
     },
     "execution_count": 97,
     "metadata": {},
     "output_type": "execute_result"
    }
   ],
   "source": [
    "# medie su tutti gli stati\n",
    "census.mean()"
   ]
  },
  {
   "cell_type": "code",
   "execution_count": 98,
   "metadata": {},
   "outputs": [
    {
     "data": {
      "text/plain": [
       "population     3.193620e+08\n",
       "from_abroad    2.196664e+06\n",
       "area           9.147635e+06\n",
       "density        8.087884e+03\n",
       "dtype: float64"
      ]
     },
     "execution_count": 98,
     "metadata": {},
     "output_type": "execute_result"
    }
   ],
   "source": [
    "# somme su tutti gli stati\n",
    "census.sum()"
   ]
  },
  {
   "cell_type": "markdown",
   "metadata": {},
   "source": [
    "- Si noti che non sempre tutte le statistiche che si possono estrarre sono significative!\n",
    "  - ad esempio la somma ha senso sulla popolazione e sull'area, ma non sulla densità"
   ]
  },
  {
   "cell_type": "markdown",
   "metadata": {
    "slideshow": {
     "slide_type": "slide"
    }
   },
   "source": [
    "- Il metodo `describe` fornisce rapidamente un'insieme di statistiche sui valori di ciascuna colonna, utili ad analizzarne la distribuzione"
   ]
  },
  {
   "cell_type": "code",
   "execution_count": 99,
   "metadata": {},
   "outputs": [
    {
     "data": {
      "text/html": [
       "<div>\n",
       "<style scoped>\n",
       "    .dataframe tbody tr th:only-of-type {\n",
       "        vertical-align: middle;\n",
       "    }\n",
       "\n",
       "    .dataframe tbody tr th {\n",
       "        vertical-align: top;\n",
       "    }\n",
       "\n",
       "    .dataframe thead th {\n",
       "        text-align: right;\n",
       "    }\n",
       "</style>\n",
       "<table border=\"1\" class=\"dataframe\">\n",
       "  <thead>\n",
       "    <tr style=\"text-align: right;\">\n",
       "      <th></th>\n",
       "      <th>population</th>\n",
       "      <th>from_abroad</th>\n",
       "      <th>area</th>\n",
       "      <th>density</th>\n",
       "    </tr>\n",
       "  </thead>\n",
       "  <tbody>\n",
       "    <tr>\n",
       "      <td>count</td>\n",
       "      <td>5.100000e+01</td>\n",
       "      <td>51.000000</td>\n",
       "      <td>5.100000e+01</td>\n",
       "      <td>51.000000</td>\n",
       "    </tr>\n",
       "    <tr>\n",
       "      <td>mean</td>\n",
       "      <td>6.261999e+06</td>\n",
       "      <td>43071.843137</td>\n",
       "      <td>1.793654e+05</td>\n",
       "      <td>158.585968</td>\n",
       "    </tr>\n",
       "    <tr>\n",
       "      <td>std</td>\n",
       "      <td>7.156688e+06</td>\n",
       "      <td>65074.514352</td>\n",
       "      <td>2.215125e+05</td>\n",
       "      <td>592.990817</td>\n",
       "    </tr>\n",
       "    <tr>\n",
       "      <td>min</td>\n",
       "      <td>5.775670e+05</td>\n",
       "      <td>2105.000000</td>\n",
       "      <td>1.581195e+02</td>\n",
       "      <td>0.495115</td>\n",
       "    </tr>\n",
       "    <tr>\n",
       "      <td>25%</td>\n",
       "      <td>1.737232e+06</td>\n",
       "      <td>8790.000000</td>\n",
       "      <td>8.633639e+04</td>\n",
       "      <td>18.459321</td>\n",
       "    </tr>\n",
       "    <tr>\n",
       "      <td>50%</td>\n",
       "      <td>4.385213e+06</td>\n",
       "      <td>19460.000000</td>\n",
       "      <td>1.388881e+05</td>\n",
       "      <td>40.722584</td>\n",
       "    </tr>\n",
       "    <tr>\n",
       "      <td>75%</td>\n",
       "      <td>7.026978e+06</td>\n",
       "      <td>52012.000000</td>\n",
       "      <td>2.089942e+05</td>\n",
       "      <td>86.390197</td>\n",
       "    </tr>\n",
       "    <tr>\n",
       "      <td>max</td>\n",
       "      <td>3.878344e+07</td>\n",
       "      <td>336614.000000</td>\n",
       "      <td>1.477960e+06</td>\n",
       "      <td>4250.089331</td>\n",
       "    </tr>\n",
       "  </tbody>\n",
       "</table>\n",
       "</div>"
      ],
      "text/plain": [
       "         population    from_abroad          area      density\n",
       "count  5.100000e+01      51.000000  5.100000e+01    51.000000\n",
       "mean   6.261999e+06   43071.843137  1.793654e+05   158.585968\n",
       "std    7.156688e+06   65074.514352  2.215125e+05   592.990817\n",
       "min    5.775670e+05    2105.000000  1.581195e+02     0.495115\n",
       "25%    1.737232e+06    8790.000000  8.633639e+04    18.459321\n",
       "50%    4.385213e+06   19460.000000  1.388881e+05    40.722584\n",
       "75%    7.026978e+06   52012.000000  2.089942e+05    86.390197\n",
       "max    3.878344e+07  336614.000000  1.477960e+06  4250.089331"
      ]
     },
     "execution_count": 99,
     "metadata": {},
     "output_type": "execute_result"
    }
   ],
   "source": [
    "census.describe()"
   ]
  },
  {
   "cell_type": "markdown",
   "metadata": {
    "slideshow": {
     "slide_type": "slide"
    }
   },
   "source": [
    "La tabella ottenuta mostra:\n",
    "- `count` = valori non mancanti (51 in tutte e tre le colonne)\n",
    "- `mean` = media\n",
    "  - ad es. la popolazione media per stato è di 6,26 milioni di abitanti\n",
    "- `std` = deviazione standard\n",
    "- `min`/`max` = valori minimo/massimo\n",
    "- `25%`/`50%`/`75%` = percentili\n",
    "  - ad es. il 25% degli stati ha densità di popolazione inferiore a 18,46 abitanti per km²"
   ]
  },
  {
   "cell_type": "markdown",
   "metadata": {
    "slideshow": {
     "slide_type": "slide"
    }
   },
   "source": [
    "- Normalmente le statistiche sono calcolate per colonne (riducendo le righe), in quanto si tratta dell'esigenza più comune\n",
    "  - nella tabella `census`, così come in tanti altri casi pratici, ogni colonna ha valori in scale diverse, non ha senso calcolare somma, media, ecc. per riga\n",
    "  - `sum()` in un DataFrame corrisponde in pratica a `sum(0)` in una matrice NumPy\n",
    "- Nel caso si vogliano calcolare le statistiche per righe (riducendo le colonne), si può specificare `axis=1`\n",
    "  - questo corrisponde in pratica a `sum(1)` su una matrice NumPy"
   ]
  },
  {
   "cell_type": "markdown",
   "metadata": {
    "slideshow": {
     "slide_type": "slide"
    }
   },
   "source": [
    "- Ad esempio, applicando `sum()` in modo standard al DataFrame `state_to_state`, otteniamo il totale di abitanti trasferitisi **da** ogni stato (colonne)..."
   ]
  },
  {
   "cell_type": "code",
   "execution_count": 100,
   "metadata": {},
   "outputs": [
    {
     "data": {
      "text/plain": [
       "Alabama     99892\n",
       "Alaska      42074\n",
       "Arizona    192103\n",
       "dtype: int64"
      ]
     },
     "execution_count": 100,
     "metadata": {},
     "output_type": "execute_result"
    }
   ],
   "source": [
    "state_to_state.sum()   .head(3)"
   ]
  },
  {
   "cell_type": "markdown",
   "metadata": {},
   "source": [
    "- ...mentre applicando `sum(axis=1)` otteniamo il totale di abitanti trasferitisi **verso** ogni stato (righe)..."
   ]
  },
  {
   "cell_type": "code",
   "execution_count": 101,
   "metadata": {},
   "outputs": [
    {
     "data": {
      "text/plain": [
       "Alabama    122220\n",
       "Alaska      31300\n",
       "Arizona    273257\n",
       "dtype: int64"
      ]
     },
     "execution_count": 101,
     "metadata": {},
     "output_type": "execute_result"
    }
   ],
   "source": [
    "state_to_state.sum(axis=1)   .head(3)"
   ]
  },
  {
   "cell_type": "markdown",
   "metadata": {},
   "source": [
    "- ...che è esattamente quanto riportato nella serie `other_state`: possiamo verificarlo col metodo `equals` che indica se due serie sono identiche"
   ]
  },
  {
   "cell_type": "code",
   "execution_count": 102,
   "metadata": {},
   "outputs": [
    {
     "data": {
      "text/plain": [
       "True"
      ]
     },
     "execution_count": 102,
     "metadata": {},
     "output_type": "execute_result"
    }
   ],
   "source": [
    "state_to_state.sum(axis=1).equals(other_state)"
   ]
  },
  {
   "cell_type": "markdown",
   "metadata": {
    "slideshow": {
     "slide_type": "slide"
    }
   },
   "source": [
    "## Esercizio 4: Operazioni sui DataFrame\n",
    "\n",
    "Utilizzando i frame `census` e `state_to_state` (senza utilizzare le serie usate in precedenza), ricavare\n",
    "\n",
    "- **(4a)** la superficie dello stato più grande\n",
    "- **(4b)** il numero totale di persone emigrate dall'Arizona ad un altro stato\n",
    "- **(4c)** il nome dello stato in cui sono immigrate meno persone dagli altri stati\n",
    "  - promemoria per `state_to_state`: colonna = stato di origine, riga = stato di destinazione"
   ]
  },
  {
   "cell_type": "markdown",
   "metadata": {
    "slideshow": {
     "slide_type": "slide"
    }
   },
   "source": [
    "## Selezione\n",
    "\n",
    "- Per selezionare una porzione di DataFrame, vanno indicate righe e colonne da includere\n",
    "- Esistono diversi _selettori_, che consentono di selezionare parti di un DataFrame `X` in modo diverso:\n",
    "  - `X.loc[...]` seleziona righe e colonne specificate **per etichetta** (es.: colonna \"population\")\n",
    "  - `X.iloc[...]` seleziona righe e colonne specificate **per posizione** (es.: colonna 0)\n",
    "- In entrambi i casi vanno specificate righe e colonne da selezionare come avviene nelle matrici\n",
    "  - si può selezionare per valore singolo, intervallo, lista di valori o serie booleana\n",
    "  - `:` indica di selezionare tutte le righe o le colonne, se usato per le colonne può essere omesso"
   ]
  },
  {
   "cell_type": "markdown",
   "metadata": {
    "slideshow": {
     "slide_type": "slide"
    }
   },
   "source": [
    "- Ad esempio, abbiamo già visto sopra come selezionare solamente le prime righe e colonne di un DataFrame:"
   ]
  },
  {
   "cell_type": "code",
   "execution_count": 110,
   "metadata": {},
   "outputs": [
    {
     "data": {
      "text/html": [
       "<div>\n",
       "<style scoped>\n",
       "    .dataframe tbody tr th:only-of-type {\n",
       "        vertical-align: middle;\n",
       "    }\n",
       "\n",
       "    .dataframe tbody tr th {\n",
       "        vertical-align: top;\n",
       "    }\n",
       "\n",
       "    .dataframe thead th {\n",
       "        text-align: right;\n",
       "    }\n",
       "</style>\n",
       "<table border=\"1\" class=\"dataframe\">\n",
       "  <thead>\n",
       "    <tr style=\"text-align: right;\">\n",
       "      <th></th>\n",
       "      <th>Alabama</th>\n",
       "      <th>Alaska</th>\n",
       "      <th>Arizona</th>\n",
       "      <th>Arkansas</th>\n",
       "      <th>California</th>\n",
       "    </tr>\n",
       "  </thead>\n",
       "  <tbody>\n",
       "    <tr>\n",
       "      <td>Alabama</td>\n",
       "      <td>0</td>\n",
       "      <td>576</td>\n",
       "      <td>1022</td>\n",
       "      <td>495</td>\n",
       "      <td>6611</td>\n",
       "    </tr>\n",
       "    <tr>\n",
       "      <td>Alaska</td>\n",
       "      <td>423</td>\n",
       "      <td>0</td>\n",
       "      <td>1176</td>\n",
       "      <td>65</td>\n",
       "      <td>3593</td>\n",
       "    </tr>\n",
       "    <tr>\n",
       "      <td>Arizona</td>\n",
       "      <td>894</td>\n",
       "      <td>1946</td>\n",
       "      <td>0</td>\n",
       "      <td>1205</td>\n",
       "      <td>64756</td>\n",
       "    </tr>\n",
       "  </tbody>\n",
       "</table>\n",
       "</div>"
      ],
      "text/plain": [
       "         Alabama  Alaska  Arizona  Arkansas  California\n",
       "Alabama        0     576     1022       495        6611\n",
       "Alaska       423       0     1176        65        3593\n",
       "Arizona      894    1946        0      1205       64756"
      ]
     },
     "execution_count": 110,
     "metadata": {},
     "output_type": "execute_result"
    }
   ],
   "source": [
    "state_to_state.iloc[:3, :5]"
   ]
  },
  {
   "cell_type": "markdown",
   "metadata": {},
   "source": [
    "- Selezionando una singola riga di un DataFrame, otteniamo una serie con i valori di tutte le colonne"
   ]
  },
  {
   "cell_type": "code",
   "execution_count": 111,
   "metadata": {},
   "outputs": [
    {
     "data": {
      "text/plain": [
       "population     3.878344e+07\n",
       "from_abroad    3.366140e+05\n",
       "area           4.034682e+05\n",
       "density        9.612514e+01\n",
       "Name: California, dtype: float64"
      ]
     },
     "execution_count": 111,
     "metadata": {},
     "output_type": "execute_result"
    }
   ],
   "source": [
    "census.loc[\"California\", :]   # \", :\" può essere omesso"
   ]
  },
  {
   "cell_type": "markdown",
   "metadata": {
    "slideshow": {
     "slide_type": "slide"
    }
   },
   "source": [
    "- Usando serie booleane, possiamo selezionare righe (o colonne) per condizioni"
   ]
  },
  {
   "cell_type": "code",
   "execution_count": 112,
   "metadata": {},
   "outputs": [
    {
     "data": {
      "text/html": [
       "<div>\n",
       "<style scoped>\n",
       "    .dataframe tbody tr th:only-of-type {\n",
       "        vertical-align: middle;\n",
       "    }\n",
       "\n",
       "    .dataframe tbody tr th {\n",
       "        vertical-align: top;\n",
       "    }\n",
       "\n",
       "    .dataframe thead th {\n",
       "        text-align: right;\n",
       "    }\n",
       "</style>\n",
       "<table border=\"1\" class=\"dataframe\">\n",
       "  <thead>\n",
       "    <tr style=\"text-align: right;\">\n",
       "      <th></th>\n",
       "      <th>population</th>\n",
       "      <th>from_abroad</th>\n",
       "      <th>area</th>\n",
       "      <th>density</th>\n",
       "    </tr>\n",
       "  </thead>\n",
       "  <tbody>\n",
       "    <tr>\n",
       "      <td>District of Columbia</td>\n",
       "      <td>672022</td>\n",
       "      <td>11155</td>\n",
       "      <td>158.1195</td>\n",
       "      <td>4250.089331</td>\n",
       "    </tr>\n",
       "    <tr>\n",
       "      <td>Vermont</td>\n",
       "      <td>619387</td>\n",
       "      <td>2113</td>\n",
       "      <td>23871.1494</td>\n",
       "      <td>25.947096</td>\n",
       "    </tr>\n",
       "    <tr>\n",
       "      <td>Wyoming</td>\n",
       "      <td>577567</td>\n",
       "      <td>2105</td>\n",
       "      <td>251471.2326</td>\n",
       "      <td>2.296752</td>\n",
       "    </tr>\n",
       "  </tbody>\n",
       "</table>\n",
       "</div>"
      ],
      "text/plain": [
       "                      population  from_abroad         area      density\n",
       "District of Columbia      672022        11155     158.1195  4250.089331\n",
       "Vermont                   619387         2113   23871.1494    25.947096\n",
       "Wyoming                   577567         2105  251471.2326     2.296752"
      ]
     },
     "execution_count": 112,
     "metadata": {},
     "output_type": "execute_result"
    }
   ],
   "source": [
    "# righe relative agli Stati con meno di 700.000 abitanti\n",
    "census.loc[census[\"population\"] < 700000]"
   ]
  },
  {
   "cell_type": "code",
   "execution_count": 113,
   "metadata": {},
   "outputs": [
    {
     "data": {
      "text/plain": [
       "Delaware                 186.670404\n",
       "District of Columbia    4250.089331\n",
       "Rhode Island             390.537622\n",
       "Name: density, dtype: float64"
      ]
     },
     "execution_count": 113,
     "metadata": {},
     "output_type": "execute_result"
    }
   ],
   "source": [
    "# sole densità di popolazione degli Stati con superficie minore di 10.000 km²\n",
    "census.loc[census[\"area\"] < 10000, \"density\"]"
   ]
  },
  {
   "cell_type": "markdown",
   "metadata": {
    "slideshow": {
     "slide_type": "slide"
    }
   },
   "source": [
    "## Ordinamento\n",
    "\n",
    "- La funzione `sort_index` ordina le righe di un frame secondo le etichette\n",
    "  - nel nostro caso le righe sono già ordinate alfabeticamente per etichetta\n",
    "- `sort_values` invece ordina le righe secondo i valori di una o più colonne specificate\n",
    "  - le colonne oltre alla prima si usano per risolvere i pareggi, come nella clausola `ORDER BY` di SQL\n",
    "- Entrambi i metodi restituiscono una copia ordinata del frame senza modificarlo\n",
    "  - specificando `inplace=True` si modifica invece il DataFrame originale\n",
    "- Possiamo ad esempio per visualizzare i 5 Stati più popolati\n",
    "  - specifichiamo `ascending=False` per ottenere un ordinamento decrescente"
   ]
  },
  {
   "cell_type": "code",
   "execution_count": 114,
   "metadata": {},
   "outputs": [
    {
     "data": {
      "text/html": [
       "<div>\n",
       "<style scoped>\n",
       "    .dataframe tbody tr th:only-of-type {\n",
       "        vertical-align: middle;\n",
       "    }\n",
       "\n",
       "    .dataframe tbody tr th {\n",
       "        vertical-align: top;\n",
       "    }\n",
       "\n",
       "    .dataframe thead th {\n",
       "        text-align: right;\n",
       "    }\n",
       "</style>\n",
       "<table border=\"1\" class=\"dataframe\">\n",
       "  <thead>\n",
       "    <tr style=\"text-align: right;\">\n",
       "      <th></th>\n",
       "      <th>population</th>\n",
       "      <th>from_abroad</th>\n",
       "      <th>area</th>\n",
       "      <th>density</th>\n",
       "    </tr>\n",
       "  </thead>\n",
       "  <tbody>\n",
       "    <tr>\n",
       "      <td>California</td>\n",
       "      <td>38783436</td>\n",
       "      <td>336614</td>\n",
       "      <td>403468.1798</td>\n",
       "      <td>96.125142</td>\n",
       "    </tr>\n",
       "    <tr>\n",
       "      <td>Texas</td>\n",
       "      <td>27472626</td>\n",
       "      <td>234749</td>\n",
       "      <td>676590.1289</td>\n",
       "      <td>40.604533</td>\n",
       "    </tr>\n",
       "    <tr>\n",
       "      <td>Florida</td>\n",
       "      <td>20401575</td>\n",
       "      <td>232838</td>\n",
       "      <td>138888.1284</td>\n",
       "      <td>146.892144</td>\n",
       "    </tr>\n",
       "    <tr>\n",
       "      <td>New York</td>\n",
       "      <td>19526443</td>\n",
       "      <td>166069</td>\n",
       "      <td>122057.3760</td>\n",
       "      <td>159.977575</td>\n",
       "    </tr>\n",
       "    <tr>\n",
       "      <td>Illinois</td>\n",
       "      <td>12654142</td>\n",
       "      <td>65886</td>\n",
       "      <td>143794.0287</td>\n",
       "      <td>88.001860</td>\n",
       "    </tr>\n",
       "  </tbody>\n",
       "</table>\n",
       "</div>"
      ],
      "text/plain": [
       "            population  from_abroad         area     density\n",
       "California    38783436       336614  403468.1798   96.125142\n",
       "Texas         27472626       234749  676590.1289   40.604533\n",
       "Florida       20401575       232838  138888.1284  146.892144\n",
       "New York      19526443       166069  122057.3760  159.977575\n",
       "Illinois      12654142        65886  143794.0287   88.001860"
      ]
     },
     "execution_count": 114,
     "metadata": {},
     "output_type": "execute_result"
    }
   ],
   "source": [
    "census.sort_values(\"population\", ascending=False).head(5)"
   ]
  },
  {
   "cell_type": "markdown",
   "metadata": {
    "slideshow": {
     "slide_type": "slide"
    }
   },
   "source": [
    "## Esercizio 5: Selezione da DataFrame\n",
    "\n",
    "Utilizzando il frame `census` (senza utilizzare le serie usate in precedenza), ricavare\n",
    "\n",
    "- **(5a)** la superficie della California\n",
    "- **(5b)** la popolazione (colonna 0) del 13° stato nella tabella\n",
    "- **(5c)** la densità di popolazione dello stato con superficie maggiore\n",
    "- **(5d)** la popolazione totale degli stati con nome che inizia per M\n",
    "- **(5e)** la superficie complessiva degli stati con almeno 20 milioni di abitanti\n",
    "- **(5f)** la popolazione media degli stati con almeno l'1% di popolazione immigrato dall'estero (`from_abroad`) nell'ultimo anno\n",
    "- **(5g)** la superficie totale dei 5 stati con densità di popolazione minore\n",
    "- **(5h)** la popolazione (colonna 0) del 3° stato con superficie maggiore"
   ]
  }
 ],
 "metadata": {
  "language_info": {
   "codemirror_mode": {
    "name": "ipython",
    "version": 3
   },
   "file_extension": ".py",
   "mimetype": "text/x-python",
   "name": "python",
   "nbconvert_exporter": "python",
   "pygments_lexer": "ipython3",
   "version": "3.7.1"
  }
 },
 "nbformat": 4,
 "nbformat_minor": 4
}
